{
 "cells": [
  {
   "attachments": {},
   "cell_type": "markdown",
   "metadata": {},
   "source": [
    "# **Section 1: Dataframe Setup** #"
   ]
  },
  {
   "attachments": {},
   "cell_type": "markdown",
   "metadata": {},
   "source": [
    "### Data Preprocessing ###"
   ]
  },
  {
   "attachments": {},
   "cell_type": "markdown",
   "metadata": {},
   "source": [
    "\n",
    "Data sourced from https://knowthechain.org/benchmark/, https://knowthechain.org/wp-content/uploads/KTC-2022-ICT-Benchmark-Report.pdf\n",
    "\n",
    "**2022**\n",
    "\n",
    "Excel file modified for Pandas CSV readable format as follows:\n",
    "\n",
    "- Columns 'Total Benchmark Score' and '2022 Rank' moved from 51 and 52 to 2 and 3\n",
    "- Moved 'Year of Inclusion' column from D to F (aka moving to the left the  columns 'Country', 'Region', 'Market Cap ($1bln)')\n",
    "- Consolidated and moved column headers on rows 2-4 to row 1\n",
    "- Appended column titles for rows BA-BG to include Theme number (e.g. 'Monitoring' to 'Theme 5: Monitoring') \n",
    "- Rows BA to BG (Averaage total benchmark score disaggregated by Theme) moved to H-N\n",
    "- Sorted row data by column B ('Total benchmark score') in descending order\n",
    "\n",
    "\n",
    "**2020**\n",
    "\n",
    "Excel file modified for Pandas CSV readable format as follows:\n",
    "\n",
    "- Consolidated and moved column headers on rows 2-4 to row 1\n",
    "- Column A 'Company (full analysis companies only)' renamed to 'Company Name'\n",
    "- Column 'Total' moved from AH to B and renamed 'Total benchmark score' \n",
    "- Column AI 'Rank 2020' moved from AI to C and renamed '2020 Rank'\n",
    "- Column D 'Market Cap in US$ bn' moved from D to F and renamed 'Market cap (US$bn)'\n",
    "- New columns added H-N to reflect total scores for each theme (columns T, W, AA, AF, AJ, AM, AP) in same format as 2022 csv data file\n",
    "- Sorted row data by column B ('Total benchmark score') in descending order \n",
    "\n",
    "**2018**\n",
    "\n",
    "Excel file modified for Pandas CSV readable format as follows:\n",
    "\n",
    "- Column E 'Benchmark Score 2018' moved to column B and renamed 'Total benchmark score'\n",
    "- Column F 'Benchmark rank 2018' moved to column C and renamed '2018 rank'\n",
    "- Column D 'Market Cap in US$ billion' moved to column F and renamed 'Market cap (US$bn)\n",
    "- Column F '2016 company' string data replaced with int data 'Year of inclusion' to reflect criteria used in subsequent 2020 and 2022 datasets\n",
    "- New column addedx in column E titled 'Region' to reflect criteria included in subsequent 2020 and 2022 datasets\n",
    "- New columns added H-N to reflect total scores for each theme (columns T, W, AA, AF, AJ, AM, AP) in same format as 2022 csv data file\n",
    "- Sorted row data by column B ('Total benchmark score') in descending order "
   ]
  },
  {
   "attachments": {},
   "cell_type": "markdown",
   "metadata": {},
   "source": [
    "### Basic Dataframe Creation ###"
   ]
  },
  {
   "attachments": {},
   "cell_type": "markdown",
   "metadata": {},
   "source": [
    "***Process for calling data in Juypter notebook***"
   ]
  },
  {
   "cell_type": "code",
   "execution_count": 92,
   "metadata": {},
   "outputs": [
    {
     "data": {
      "text/html": [
       "<div>\n",
       "<style scoped>\n",
       "    .dataframe tbody tr th:only-of-type {\n",
       "        vertical-align: middle;\n",
       "    }\n",
       "\n",
       "    .dataframe tbody tr th {\n",
       "        vertical-align: top;\n",
       "    }\n",
       "\n",
       "    .dataframe thead th {\n",
       "        text-align: right;\n",
       "    }\n",
       "</style>\n",
       "<table border=\"1\" class=\"dataframe\">\n",
       "  <thead>\n",
       "    <tr style=\"text-align: right;\">\n",
       "      <th></th>\n",
       "      <th>Company Name</th>\n",
       "      <th>Total benchmark score</th>\n",
       "      <th>2022 Rank</th>\n",
       "      <th>Country</th>\n",
       "      <th>Region</th>\n",
       "      <th>Market cap (US$bn)</th>\n",
       "      <th>Year of inclusion</th>\n",
       "    </tr>\n",
       "  </thead>\n",
       "  <tbody>\n",
       "    <tr>\n",
       "      <th>0</th>\n",
       "      <td>Hewlett Packard Enterprise Co. (HPE)</td>\n",
       "      <td>63.420455</td>\n",
       "      <td>1</td>\n",
       "      <td>United States</td>\n",
       "      <td>North America</td>\n",
       "      <td>18770.52</td>\n",
       "      <td>2018</td>\n",
       "    </tr>\n",
       "    <tr>\n",
       "      <th>1</th>\n",
       "      <td>Intel Corp.</td>\n",
       "      <td>60.238636</td>\n",
       "      <td>2</td>\n",
       "      <td>United States</td>\n",
       "      <td>North America</td>\n",
       "      <td>200096.40</td>\n",
       "      <td>2016</td>\n",
       "    </tr>\n",
       "    <tr>\n",
       "      <th>2</th>\n",
       "      <td>Cisco Systems Inc.</td>\n",
       "      <td>54.647727</td>\n",
       "      <td>3</td>\n",
       "      <td>United States</td>\n",
       "      <td>North America</td>\n",
       "      <td>231293.54</td>\n",
       "      <td>2016</td>\n",
       "    </tr>\n",
       "    <tr>\n",
       "      <th>3</th>\n",
       "      <td>Apple Inc.</td>\n",
       "      <td>51.806818</td>\n",
       "      <td>4</td>\n",
       "      <td>United States</td>\n",
       "      <td>North America</td>\n",
       "      <td>2711977.42</td>\n",
       "      <td>2016</td>\n",
       "    </tr>\n",
       "    <tr>\n",
       "      <th>4</th>\n",
       "      <td>HP Inc.</td>\n",
       "      <td>46.147727</td>\n",
       "      <td>5</td>\n",
       "      <td>United States</td>\n",
       "      <td>North America</td>\n",
       "      <td>40660.86</td>\n",
       "      <td>2016</td>\n",
       "    </tr>\n",
       "    <tr>\n",
       "      <th>...</th>\n",
       "      <td>...</td>\n",
       "      <td>...</td>\n",
       "      <td>...</td>\n",
       "      <td>...</td>\n",
       "      <td>...</td>\n",
       "      <td>...</td>\n",
       "      <td>...</td>\n",
       "    </tr>\n",
       "    <tr>\n",
       "      <th>55</th>\n",
       "      <td>Kyocera Corp.</td>\n",
       "      <td>2.590909</td>\n",
       "      <td>55</td>\n",
       "      <td>Japan</td>\n",
       "      <td>Asia</td>\n",
       "      <td>21434.67</td>\n",
       "      <td>2018</td>\n",
       "    </tr>\n",
       "    <tr>\n",
       "      <th>56</th>\n",
       "      <td>Sunny Optical Technology (Group) Co., Ltd.</td>\n",
       "      <td>1.363636</td>\n",
       "      <td>57</td>\n",
       "      <td>China</td>\n",
       "      <td>Asia</td>\n",
       "      <td>33158.48</td>\n",
       "      <td>2022</td>\n",
       "    </tr>\n",
       "    <tr>\n",
       "      <th>57</th>\n",
       "      <td>BOE Technology Group Co. Ltd.</td>\n",
       "      <td>0.000000</td>\n",
       "      <td>58</td>\n",
       "      <td>China</td>\n",
       "      <td>Asia</td>\n",
       "      <td>28707.64</td>\n",
       "      <td>2016</td>\n",
       "    </tr>\n",
       "    <tr>\n",
       "      <th>58</th>\n",
       "      <td>Hangzhou Hikvision Digital Technology Co. Ltd.</td>\n",
       "      <td>0.000000</td>\n",
       "      <td>58</td>\n",
       "      <td>China</td>\n",
       "      <td>Asia</td>\n",
       "      <td>72120.00</td>\n",
       "      <td>2020</td>\n",
       "    </tr>\n",
       "    <tr>\n",
       "      <th>59</th>\n",
       "      <td>NAURA Technology Group Co., Ltd.</td>\n",
       "      <td>0.000000</td>\n",
       "      <td>58</td>\n",
       "      <td>China</td>\n",
       "      <td>Asia</td>\n",
       "      <td>31838.53</td>\n",
       "      <td>2022</td>\n",
       "    </tr>\n",
       "  </tbody>\n",
       "</table>\n",
       "<p>60 rows × 7 columns</p>\n",
       "</div>"
      ],
      "text/plain": [
       "                                      Company Name  Total benchmark score  \\\n",
       "0             Hewlett Packard Enterprise Co. (HPE)              63.420455   \n",
       "1                                      Intel Corp.              60.238636   \n",
       "2                               Cisco Systems Inc.              54.647727   \n",
       "3                                       Apple Inc.              51.806818   \n",
       "4                                          HP Inc.              46.147727   \n",
       "..                                             ...                    ...   \n",
       "55                                   Kyocera Corp.               2.590909   \n",
       "56      Sunny Optical Technology (Group) Co., Ltd.               1.363636   \n",
       "57                   BOE Technology Group Co. Ltd.               0.000000   \n",
       "58  Hangzhou Hikvision Digital Technology Co. Ltd.               0.000000   \n",
       "59                NAURA Technology Group Co., Ltd.               0.000000   \n",
       "\n",
       "    2022 Rank        Country         Region  Market cap (US$bn)  \\\n",
       "0           1  United States  North America            18770.52   \n",
       "1           2  United States  North America           200096.40   \n",
       "2           3  United States  North America           231293.54   \n",
       "3           4  United States  North America          2711977.42   \n",
       "4           5  United States  North America            40660.86   \n",
       "..        ...            ...            ...                 ...   \n",
       "55         55          Japan           Asia            21434.67   \n",
       "56         57          China           Asia            33158.48   \n",
       "57         58          China           Asia            28707.64   \n",
       "58         58          China           Asia            72120.00   \n",
       "59         58          China           Asia            31838.53   \n",
       "\n",
       "    Year of inclusion  \n",
       "0                2018  \n",
       "1                2016  \n",
       "2                2016  \n",
       "3                2016  \n",
       "4                2016  \n",
       "..                ...  \n",
       "55               2018  \n",
       "56               2022  \n",
       "57               2016  \n",
       "58               2020  \n",
       "59               2022  \n",
       "\n",
       "[60 rows x 7 columns]"
      ]
     },
     "metadata": {},
     "output_type": "display_data"
    },
    {
     "data": {
      "text/html": [
       "<div>\n",
       "<style scoped>\n",
       "    .dataframe tbody tr th:only-of-type {\n",
       "        vertical-align: middle;\n",
       "    }\n",
       "\n",
       "    .dataframe tbody tr th {\n",
       "        vertical-align: top;\n",
       "    }\n",
       "\n",
       "    .dataframe thead th {\n",
       "        text-align: right;\n",
       "    }\n",
       "</style>\n",
       "<table border=\"1\" class=\"dataframe\">\n",
       "  <thead>\n",
       "    <tr style=\"text-align: right;\">\n",
       "      <th></th>\n",
       "      <th>Company Name</th>\n",
       "      <th>Total benchmark score</th>\n",
       "      <th>2020 Rank</th>\n",
       "      <th>Country</th>\n",
       "      <th>Region</th>\n",
       "      <th>Market cap (US$bn)</th>\n",
       "      <th>Year of inclusion</th>\n",
       "    </tr>\n",
       "  </thead>\n",
       "  <tbody>\n",
       "    <tr>\n",
       "      <th>0</th>\n",
       "      <td>Hewlett Packard Enterprise Co. (HPE)</td>\n",
       "      <td>69.944489</td>\n",
       "      <td>1</td>\n",
       "      <td>United States</td>\n",
       "      <td>North America</td>\n",
       "      <td>26.13972</td>\n",
       "      <td>2018</td>\n",
       "    </tr>\n",
       "    <tr>\n",
       "      <th>1</th>\n",
       "      <td>HP Inc.</td>\n",
       "      <td>69.214093</td>\n",
       "      <td>2</td>\n",
       "      <td>United States</td>\n",
       "      <td>North America</td>\n",
       "      <td>38.36673</td>\n",
       "      <td>2016</td>\n",
       "    </tr>\n",
       "    <tr>\n",
       "      <th>2</th>\n",
       "      <td>Samsung Electronics Co. Ltd.</td>\n",
       "      <td>69.123825</td>\n",
       "      <td>2</td>\n",
       "      <td>South Korea</td>\n",
       "      <td>Asia</td>\n",
       "      <td>309.60738</td>\n",
       "      <td>2016</td>\n",
       "    </tr>\n",
       "    <tr>\n",
       "      <th>3</th>\n",
       "      <td>Intel Corp.</td>\n",
       "      <td>67.933587</td>\n",
       "      <td>4</td>\n",
       "      <td>United States</td>\n",
       "      <td>North America</td>\n",
       "      <td>225.29520</td>\n",
       "      <td>2016</td>\n",
       "    </tr>\n",
       "    <tr>\n",
       "      <th>4</th>\n",
       "      <td>Apple Inc.</td>\n",
       "      <td>67.515003</td>\n",
       "      <td>4</td>\n",
       "      <td>United States</td>\n",
       "      <td>North America</td>\n",
       "      <td>851.72579</td>\n",
       "      <td>2016</td>\n",
       "    </tr>\n",
       "    <tr>\n",
       "      <th>...</th>\n",
       "      <td>...</td>\n",
       "      <td>...</td>\n",
       "      <td>...</td>\n",
       "      <td>...</td>\n",
       "      <td>...</td>\n",
       "      <td>...</td>\n",
       "      <td>...</td>\n",
       "    </tr>\n",
       "    <tr>\n",
       "      <th>44</th>\n",
       "      <td>Keyence Corp.</td>\n",
       "      <td>5.612623</td>\n",
       "      <td>45</td>\n",
       "      <td>Japan</td>\n",
       "      <td>Asia</td>\n",
       "      <td>73.72563</td>\n",
       "      <td>2016</td>\n",
       "    </tr>\n",
       "    <tr>\n",
       "      <th>45</th>\n",
       "      <td>BOE Technology Group Co. Ltd.</td>\n",
       "      <td>4.570914</td>\n",
       "      <td>46</td>\n",
       "      <td>China</td>\n",
       "      <td>Asia</td>\n",
       "      <td>33.37354</td>\n",
       "      <td>2016</td>\n",
       "    </tr>\n",
       "    <tr>\n",
       "      <th>46</th>\n",
       "      <td>Hangzhou Hikvision Digital Technology Co. Ltd.</td>\n",
       "      <td>2.860572</td>\n",
       "      <td>47</td>\n",
       "      <td>China</td>\n",
       "      <td>Asia</td>\n",
       "      <td>58.56661</td>\n",
       "      <td>2020</td>\n",
       "    </tr>\n",
       "    <tr>\n",
       "      <th>47</th>\n",
       "      <td>Largan Precision Co. Ltd.</td>\n",
       "      <td>2.860572</td>\n",
       "      <td>47</td>\n",
       "      <td>Taiwan</td>\n",
       "      <td>Asia</td>\n",
       "      <td>18.41915</td>\n",
       "      <td>2018</td>\n",
       "    </tr>\n",
       "    <tr>\n",
       "      <th>48</th>\n",
       "      <td>Xiaomi Corp.</td>\n",
       "      <td>0.000000</td>\n",
       "      <td>49</td>\n",
       "      <td>China</td>\n",
       "      <td>Asia</td>\n",
       "      <td>37.43900</td>\n",
       "      <td>2020</td>\n",
       "    </tr>\n",
       "  </tbody>\n",
       "</table>\n",
       "<p>49 rows × 7 columns</p>\n",
       "</div>"
      ],
      "text/plain": [
       "                                      Company Name  Total benchmark score  \\\n",
       "0             Hewlett Packard Enterprise Co. (HPE)              69.944489   \n",
       "1                                          HP Inc.              69.214093   \n",
       "2                     Samsung Electronics Co. Ltd.              69.123825   \n",
       "3                                      Intel Corp.              67.933587   \n",
       "4                                       Apple Inc.              67.515003   \n",
       "..                                             ...                    ...   \n",
       "44                                   Keyence Corp.               5.612623   \n",
       "45                   BOE Technology Group Co. Ltd.               4.570914   \n",
       "46  Hangzhou Hikvision Digital Technology Co. Ltd.               2.860572   \n",
       "47                       Largan Precision Co. Ltd.               2.860572   \n",
       "48                                    Xiaomi Corp.               0.000000   \n",
       "\n",
       "    2020 Rank        Country         Region  Market cap (US$bn)  \\\n",
       "0           1  United States  North America            26.13972   \n",
       "1           2  United States  North America            38.36673   \n",
       "2           2    South Korea           Asia           309.60738   \n",
       "3           4  United States  North America           225.29520   \n",
       "4           4  United States  North America           851.72579   \n",
       "..        ...            ...            ...                 ...   \n",
       "44         45          Japan           Asia            73.72563   \n",
       "45         46          China           Asia            33.37354   \n",
       "46         47          China           Asia            58.56661   \n",
       "47         47         Taiwan           Asia            18.41915   \n",
       "48         49          China           Asia            37.43900   \n",
       "\n",
       "    Year of inclusion  \n",
       "0                2018  \n",
       "1                2016  \n",
       "2                2016  \n",
       "3                2016  \n",
       "4                2016  \n",
       "..                ...  \n",
       "44               2016  \n",
       "45               2016  \n",
       "46               2020  \n",
       "47               2018  \n",
       "48               2020  \n",
       "\n",
       "[49 rows x 7 columns]"
      ]
     },
     "metadata": {},
     "output_type": "display_data"
    },
    {
     "data": {
      "text/html": [
       "<div>\n",
       "<style scoped>\n",
       "    .dataframe tbody tr th:only-of-type {\n",
       "        vertical-align: middle;\n",
       "    }\n",
       "\n",
       "    .dataframe tbody tr th {\n",
       "        vertical-align: top;\n",
       "    }\n",
       "\n",
       "    .dataframe thead th {\n",
       "        text-align: right;\n",
       "    }\n",
       "</style>\n",
       "<table border=\"1\" class=\"dataframe\">\n",
       "  <thead>\n",
       "    <tr style=\"text-align: right;\">\n",
       "      <th></th>\n",
       "      <th>Company Name</th>\n",
       "      <th>Total benchmark score</th>\n",
       "      <th>2018 rank</th>\n",
       "      <th>Country</th>\n",
       "      <th>Region</th>\n",
       "      <th>Market cap (US$bn)</th>\n",
       "      <th>Year of inclusion</th>\n",
       "    </tr>\n",
       "  </thead>\n",
       "  <tbody>\n",
       "    <tr>\n",
       "      <th>0</th>\n",
       "      <td>Intel Corporation</td>\n",
       "      <td>75</td>\n",
       "      <td>1</td>\n",
       "      <td>United States</td>\n",
       "      <td>North America</td>\n",
       "      <td>225</td>\n",
       "      <td>2016</td>\n",
       "    </tr>\n",
       "    <tr>\n",
       "      <th>1</th>\n",
       "      <td>HP Inc.</td>\n",
       "      <td>72</td>\n",
       "      <td>2</td>\n",
       "      <td>United States</td>\n",
       "      <td>North America</td>\n",
       "      <td>38</td>\n",
       "      <td>2016</td>\n",
       "    </tr>\n",
       "    <tr>\n",
       "      <th>2</th>\n",
       "      <td>Hewlett Packard Enterprise Company</td>\n",
       "      <td>71</td>\n",
       "      <td>3</td>\n",
       "      <td>United States</td>\n",
       "      <td>North America</td>\n",
       "      <td>26</td>\n",
       "      <td>2018</td>\n",
       "    </tr>\n",
       "    <tr>\n",
       "      <th>3</th>\n",
       "      <td>Apple Inc.</td>\n",
       "      <td>71</td>\n",
       "      <td>3</td>\n",
       "      <td>United States</td>\n",
       "      <td>North America</td>\n",
       "      <td>852</td>\n",
       "      <td>2016</td>\n",
       "    </tr>\n",
       "    <tr>\n",
       "      <th>4</th>\n",
       "      <td>NXP Semiconductors NV</td>\n",
       "      <td>63</td>\n",
       "      <td>5</td>\n",
       "      <td>Netherlands</td>\n",
       "      <td>Europe</td>\n",
       "      <td>41</td>\n",
       "      <td>2018</td>\n",
       "    </tr>\n",
       "    <tr>\n",
       "      <th>...</th>\n",
       "      <td>...</td>\n",
       "      <td>...</td>\n",
       "      <td>...</td>\n",
       "      <td>...</td>\n",
       "      <td>...</td>\n",
       "      <td>...</td>\n",
       "      <td>...</td>\n",
       "    </tr>\n",
       "    <tr>\n",
       "      <th>35</th>\n",
       "      <td>Microchip Technology Incorporated</td>\n",
       "      <td>7</td>\n",
       "      <td>35</td>\n",
       "      <td>United States</td>\n",
       "      <td>North America</td>\n",
       "      <td>22</td>\n",
       "      <td>2018</td>\n",
       "    </tr>\n",
       "    <tr>\n",
       "      <th>36</th>\n",
       "      <td>Corning Incorporated</td>\n",
       "      <td>6</td>\n",
       "      <td>37</td>\n",
       "      <td>United States</td>\n",
       "      <td>North America</td>\n",
       "      <td>27</td>\n",
       "      <td>2018</td>\n",
       "    </tr>\n",
       "    <tr>\n",
       "      <th>37</th>\n",
       "      <td>Broadcom Inc.</td>\n",
       "      <td>6</td>\n",
       "      <td>37</td>\n",
       "      <td>United States</td>\n",
       "      <td>North America</td>\n",
       "      <td>102</td>\n",
       "      <td>2016</td>\n",
       "    </tr>\n",
       "    <tr>\n",
       "      <th>38</th>\n",
       "      <td>BOE Technology Group Co. Ltd.</td>\n",
       "      <td>4</td>\n",
       "      <td>39</td>\n",
       "      <td>China</td>\n",
       "      <td>Asia</td>\n",
       "      <td>33</td>\n",
       "      <td>2016</td>\n",
       "    </tr>\n",
       "    <tr>\n",
       "      <th>39</th>\n",
       "      <td>Largan Precision Co., Ltd.</td>\n",
       "      <td>0</td>\n",
       "      <td>40</td>\n",
       "      <td>Taiwan</td>\n",
       "      <td>Asia</td>\n",
       "      <td>18</td>\n",
       "      <td>2018</td>\n",
       "    </tr>\n",
       "  </tbody>\n",
       "</table>\n",
       "<p>40 rows × 7 columns</p>\n",
       "</div>"
      ],
      "text/plain": [
       "                          Company Name  Total benchmark score  2018 rank  \\\n",
       "0                    Intel Corporation                     75          1   \n",
       "1                              HP Inc.                     72          2   \n",
       "2   Hewlett Packard Enterprise Company                     71          3   \n",
       "3                           Apple Inc.                     71          3   \n",
       "4                NXP Semiconductors NV                     63          5   \n",
       "..                                 ...                    ...        ...   \n",
       "35   Microchip Technology Incorporated                      7         35   \n",
       "36                Corning Incorporated                      6         37   \n",
       "37                       Broadcom Inc.                      6         37   \n",
       "38       BOE Technology Group Co. Ltd.                      4         39   \n",
       "39          Largan Precision Co., Ltd.                      0         40   \n",
       "\n",
       "          Country         Region  Market cap (US$bn)  Year of inclusion  \n",
       "0   United States  North America                 225               2016  \n",
       "1   United States  North America                  38               2016  \n",
       "2   United States  North America                  26               2018  \n",
       "3   United States  North America                 852               2016  \n",
       "4     Netherlands         Europe                  41               2018  \n",
       "..            ...            ...                 ...                ...  \n",
       "35  United States  North America                  22               2018  \n",
       "36  United States  North America                  27               2018  \n",
       "37  United States  North America                 102               2016  \n",
       "38          China           Asia                  33               2016  \n",
       "39         Taiwan           Asia                  18               2018  \n",
       "\n",
       "[40 rows x 7 columns]"
      ]
     },
     "metadata": {},
     "output_type": "display_data"
    }
   ],
   "source": [
    "import pandas as pd\n",
    "import plotly.express as px\n",
    "import numpy as np\n",
    "import plotly.graph_objects as go\n",
    "\n",
    "def process_csv(file_path):\n",
    "    df = pd.read_csv(file_path)\n",
    "    return df\n",
    "\n",
    "ktc_ict_2022 = process_csv(\"C:/Users/kokuo/OneDrive/Study Files/Python/Visualisation Experiments/Know the Chain/KTC ICT Benchmark CSV Data/2022 KCT ICT.csv\")\n",
    "display(ktc_ict_2022.iloc[:, :7].head(100))\n",
    "\n",
    "ktc_ict_2020 = process_csv(\"C:/Users/kokuo/OneDrive/Study Files/Python/Visualisation Experiments/Know the Chain/KTC ICT Benchmark CSV Data/2020 KCT ICT.csv\")\n",
    "display(ktc_ict_2020.iloc[:, :7].head(100))\n",
    "\n",
    "ktc_ict_2018 = process_csv(\"C:/Users/kokuo/OneDrive/Study Files/Python/Visualisation Experiments/Know the Chain/KTC ICT Benchmark CSV Data/2018 KCT ICT.csv\")\n",
    "display(ktc_ict_2018.iloc[:, :7].head(100))\n"
   ]
  },
  {
   "attachments": {},
   "cell_type": "markdown",
   "metadata": {},
   "source": [
    "### Basic Data Information ###"
   ]
  },
  {
   "attachments": {},
   "cell_type": "markdown",
   "metadata": {},
   "source": [
    "***Column Headers***"
   ]
  },
  {
   "cell_type": "code",
   "execution_count": 115,
   "metadata": {},
   "outputs": [
    {
     "data": {
      "text/plain": [
       "Index(['Company Name', 'Total benchmark score', '2022 Rank', 'Country',\n",
       "       'Region', 'Market cap (US$bn)', 'Year of inclusion',\n",
       "       'Theme 1: Commitment & Governance',\n",
       "       'Theme 2: Traceability & Risk Assessment',\n",
       "       'Theme 3: Purchasing Practices', 'Theme 4: Recruitment',\n",
       "       'Theme 5: Worker Voice', 'Theme 6: Monitoring', 'Theme 7: Remedy'],\n",
       "      dtype='object')"
      ]
     },
     "execution_count": 115,
     "metadata": {},
     "output_type": "execute_result"
    }
   ],
   "source": [
    "ktc_ict_2022.iloc[:, :14].columns"
   ]
  },
  {
   "cell_type": "code",
   "execution_count": 114,
   "metadata": {},
   "outputs": [
    {
     "data": {
      "text/plain": [
       "Index(['Company Name', 'Total benchmark score', '2020 Rank', 'Country',\n",
       "       'Region', 'Market cap (US$bn)', 'Year of inclusion',\n",
       "       'Theme 1: Commitment & Governance',\n",
       "       'Theme 2: Traceability & Risk Assessment',\n",
       "       'Theme 3: Purchasing Practices', 'Theme 4: Recruitment',\n",
       "       'Theme 5: Worker Voice', 'Theme 6: Monitoring', 'Theme 7: Remedy'],\n",
       "      dtype='object')"
      ]
     },
     "execution_count": 114,
     "metadata": {},
     "output_type": "execute_result"
    }
   ],
   "source": [
    "ktc_ict_2020.iloc[:, :14].columns"
   ]
  },
  {
   "cell_type": "code",
   "execution_count": 116,
   "metadata": {},
   "outputs": [
    {
     "data": {
      "text/plain": [
       "Index(['Company Name', 'Total benchmark score', '2018 rank', 'Country',\n",
       "       'Region', 'Market cap (US$bn)', 'Year of inclusion',\n",
       "       'Theme 1: Commitment & Governance',\n",
       "       'Theme 2: Traceability & Risk Assessment',\n",
       "       'Theme 3: Purchasing Practices', 'Theme 4: Recruitment',\n",
       "       'Theme 5: Worker Voice', 'Theme 6: Monitoring', 'Theme 7: Remedy'],\n",
       "      dtype='object')"
      ]
     },
     "execution_count": 116,
     "metadata": {},
     "output_type": "execute_result"
    }
   ],
   "source": [
    "ktc_ict_2018.iloc[:, :14].columns"
   ]
  },
  {
   "attachments": {},
   "cell_type": "markdown",
   "metadata": {},
   "source": [
    "***Data Types***"
   ]
  },
  {
   "cell_type": "code",
   "execution_count": 118,
   "metadata": {},
   "outputs": [
    {
     "data": {
      "text/plain": [
       "Company Name                      object\n",
       "Total benchmark score            float64\n",
       "2022 Rank                          int64\n",
       "Country                           object\n",
       "Region                            object\n",
       "                                  ...   \n",
       "Theme 3: Purchasing Practices    float64\n",
       "Theme 4: Recruitment             float64\n",
       "Theme 5: Worker Voice            float64\n",
       "Theme 6: Monitoring                int64\n",
       "Theme 7: Remedy                  float64\n",
       "Length: 14, dtype: object"
      ]
     },
     "execution_count": 118,
     "metadata": {},
     "output_type": "execute_result"
    }
   ],
   "source": [
    "ktc_ict_2022.iloc[:, :14].dtypes"
   ]
  },
  {
   "cell_type": "code",
   "execution_count": 119,
   "metadata": {},
   "outputs": [
    {
     "data": {
      "text/plain": [
       "Company Name                      object\n",
       "Total benchmark score            float64\n",
       "2020 Rank                          int64\n",
       "Country                           object\n",
       "Region                            object\n",
       "                                  ...   \n",
       "Theme 3: Purchasing Practices    float64\n",
       "Theme 4: Recruitment             float64\n",
       "Theme 5: Worker Voice            float64\n",
       "Theme 6: Monitoring                int64\n",
       "Theme 7: Remedy                  float64\n",
       "Length: 14, dtype: object"
      ]
     },
     "execution_count": 119,
     "metadata": {},
     "output_type": "execute_result"
    }
   ],
   "source": [
    "ktc_ict_2020.iloc[:, :14].dtypes"
   ]
  },
  {
   "cell_type": "code",
   "execution_count": 120,
   "metadata": {},
   "outputs": [
    {
     "data": {
      "text/plain": [
       "Company Name                     object\n",
       "Total benchmark score             int64\n",
       "2018 rank                         int64\n",
       "Country                          object\n",
       "Region                           object\n",
       "                                  ...  \n",
       "Theme 3: Purchasing Practices     int64\n",
       "Theme 4: Recruitment              int64\n",
       "Theme 5: Worker Voice             int64\n",
       "Theme 6: Monitoring               int64\n",
       "Theme 7: Remedy                   int64\n",
       "Length: 14, dtype: object"
      ]
     },
     "execution_count": 120,
     "metadata": {},
     "output_type": "execute_result"
    }
   ],
   "source": [
    "ktc_ict_2018.iloc[:, :14].dtypes"
   ]
  },
  {
   "attachments": {},
   "cell_type": "markdown",
   "metadata": {},
   "source": [
    "# **Section 2: Basic Content Information** # "
   ]
  },
  {
   "attachments": {},
   "cell_type": "markdown",
   "metadata": {},
   "source": [
    "### Geographic Content ###"
   ]
  },
  {
   "attachments": {},
   "cell_type": "markdown",
   "metadata": {},
   "source": [
    "***Regions***\n",
    "\n",
    "Three regions (North America, Europe, Asia) represented in all three benchmarks (2018, 2020, 2022)"
   ]
  },
  {
   "cell_type": "code",
   "execution_count": 127,
   "metadata": {},
   "outputs": [
    {
     "data": {
      "text/plain": [
       "array(['North America', 'Asia', 'Europe'], dtype=object)"
      ]
     },
     "execution_count": 127,
     "metadata": {},
     "output_type": "execute_result"
    }
   ],
   "source": [
    "ktc_ict_2022['Region'].unique()"
   ]
  },
  {
   "attachments": {},
   "cell_type": "markdown",
   "metadata": {},
   "source": [
    "***Countries***\n",
    "\n",
    "Ireland was added in the 2022 benchmark (Seagate PLC)"
   ]
  },
  {
   "cell_type": "code",
   "execution_count": 126,
   "metadata": {},
   "outputs": [
    {
     "data": {
      "text/plain": [
       "array(['United States', 'Netherlands', 'South Korea', 'Taiwan', 'Sweden',\n",
       "       'Japan', 'Finland', 'Switzerland', 'Germany', 'China'],\n",
       "      dtype=object)"
      ]
     },
     "execution_count": 126,
     "metadata": {},
     "output_type": "execute_result"
    }
   ],
   "source": [
    "ktc_ict_2018['Country'].unique()"
   ]
  },
  {
   "cell_type": "code",
   "execution_count": 125,
   "metadata": {},
   "outputs": [
    {
     "data": {
      "text/plain": [
       "array(['United States', 'South Korea', 'Netherlands', 'Sweden', 'Finland',\n",
       "       'Japan', 'Taiwan', 'Switzerland', 'Germany', 'China'], dtype=object)"
      ]
     },
     "execution_count": 125,
     "metadata": {},
     "output_type": "execute_result"
    }
   ],
   "source": [
    "ktc_ict_2020['Country'].unique()"
   ]
  },
  {
   "cell_type": "code",
   "execution_count": 123,
   "metadata": {},
   "outputs": [
    {
     "data": {
      "text/plain": [
       "array(['United States', 'South Korea', 'Sweden', 'Netherlands',\n",
       "       'Switzerland', 'Ireland', 'Japan', 'Finland', 'Taiwan', 'Germany',\n",
       "       'China'], dtype=object)"
      ]
     },
     "execution_count": 123,
     "metadata": {},
     "output_type": "execute_result"
    }
   ],
   "source": [
    "ktc_ict_2022['Country'].unique()"
   ]
  },
  {
   "attachments": {},
   "cell_type": "markdown",
   "metadata": {},
   "source": [
    "### Company Information ###"
   ]
  },
  {
   "attachments": {},
   "cell_type": "markdown",
   "metadata": {},
   "source": [
    "***Companies assessed in 2016***"
   ]
  },
  {
   "cell_type": "code",
   "execution_count": 128,
   "metadata": {},
   "outputs": [
    {
     "name": "stdout",
     "output_type": "stream",
     "text": [
      "['Intel Corp.' 'Cisco Systems Inc.' 'Apple Inc.' 'HP Inc.'\n",
      " 'Samsung Electronics Co. Ltd.' 'Telefonaktiebolaget LM Ericsson (publ)'\n",
      " 'Microsoft Corp.' 'Texas Instruments Inc.' 'Qualcomm Inc.'\n",
      " 'Broadcom Inc.' 'Murata Manufacturing Co. Ltd.' 'Canon Inc.'\n",
      " 'Taiwan Semiconductor Manufacturing Co. Ltd.' 'Hitachi Ltd.'\n",
      " 'SK Hynix Inc.' 'Keyence Corp.' 'ASML Holding NV'\n",
      " 'Hon Hai Precision Industry Co. Ltd. (Foxconn)'\n",
      " 'BOE Technology Group Co. Ltd.']\n"
     ]
    }
   ],
   "source": [
    "companies_2016 = ktc_ict_2022[ktc_ict_2022['Year of inclusion'] == 2016]['Company Name'].unique()\n",
    "print(companies_2016)"
   ]
  },
  {
   "attachments": {},
   "cell_type": "markdown",
   "metadata": {},
   "source": [
    "***Companies assessed in 2018***"
   ]
  },
  {
   "attachments": {},
   "cell_type": "markdown",
   "metadata": {},
   "source": [
    "New Companies"
   ]
  },
  {
   "cell_type": "code",
   "execution_count": 137,
   "metadata": {},
   "outputs": [
    {
     "name": "stdout",
     "output_type": "stream",
     "text": [
      "['Hewlett Packard Enterprise Co. (HPE)' 'Amazon.com Inc.' 'Corning Inc.'\n",
      " 'NXP Semiconductors NV' 'Western Digital Corp.' 'Lam Research Corp.'\n",
      " 'Nokia Oyj' 'Micron Technology Inc.' 'Skyworks Solutions Inc.'\n",
      " 'NVIDIA Corp.' 'Tokyo Electron Ltd.' 'Microchip Technology Inc.'\n",
      " 'Analog Devices Inc.' 'Amphenol Corp.' 'Applied Materials Inc.'\n",
      " 'TE Connectivity Ltd.' 'Infineon Technologies AG' 'Nintendo Co. Ltd.'\n",
      " 'Kyocera Corp.']\n"
     ]
    }
   ],
   "source": [
    "companies_2018_new = ktc_ict_2022[ktc_ict_2022['Year of inclusion'] == 2018]['Company Name'].unique()\n",
    "print(companies_2018_new)"
   ]
  },
  {
   "attachments": {},
   "cell_type": "markdown",
   "metadata": {},
   "source": [
    "All Companies"
   ]
  },
  {
   "cell_type": "code",
   "execution_count": 133,
   "metadata": {},
   "outputs": [
    {
     "name": "stdout",
     "output_type": "stream",
     "text": [
      "['Hewlett Packard Enterprise Co. (HPE)' 'Intel Corp.' 'Cisco Systems Inc.'\n",
      " 'Apple Inc.' 'HP Inc.' 'Samsung Electronics Co. Ltd.'\n",
      " 'Telefonaktiebolaget LM Ericsson (publ)' 'Amazon.com Inc.' 'Corning Inc.'\n",
      " 'NXP Semiconductors NV' 'Western Digital Corp.' 'Microsoft Corp.'\n",
      " 'Lam Research Corp.' 'Nokia Oyj' 'Micron Technology Inc.'\n",
      " 'Texas Instruments Inc.' 'Qualcomm Inc.' 'Skyworks Solutions Inc.'\n",
      " 'NVIDIA Corp.' 'Broadcom Inc.' 'Tokyo Electron Ltd.'\n",
      " 'Microchip Technology Inc.' 'Murata Manufacturing Co. Ltd.'\n",
      " 'Analog Devices Inc.' 'Amphenol Corp.' 'Canon Inc.'\n",
      " 'Applied Materials Inc.' 'Taiwan Semiconductor Manufacturing Co. Ltd.'\n",
      " 'Hitachi Ltd.' 'TE Connectivity Ltd.' 'Infineon Technologies AG'\n",
      " 'Nintendo Co. Ltd.' 'SK Hynix Inc.' 'Keyence Corp.' 'ASML Holding NV'\n",
      " 'Hon Hai Precision Industry Co. Ltd. (Foxconn)' 'Kyocera Corp.'\n",
      " 'BOE Technology Group Co. Ltd.']\n"
     ]
    }
   ],
   "source": [
    "companies_2018 = ktc_ict_2022[(ktc_ict_2022['Year of inclusion'] == 2018) | (ktc_ict_2022['Year of inclusion'] == 2016)]['Company Name'].unique()\n",
    "print(companies_2018)"
   ]
  },
  {
   "attachments": {},
   "cell_type": "markdown",
   "metadata": {},
   "source": [
    "***Companies assessed in 2020***"
   ]
  },
  {
   "attachments": {},
   "cell_type": "markdown",
   "metadata": {},
   "source": [
    "New Companies"
   ]
  },
  {
   "cell_type": "code",
   "execution_count": 139,
   "metadata": {},
   "outputs": [
    {
     "name": "stdout",
     "output_type": "stream",
     "text": [
      "['Best Buy Co. Inc.' 'STMicroelectronics NV' 'Dell Technologies Inc.'\n",
      " 'Walmart Inc.' 'Sony Corp.' 'LG Electronics Inc.'\n",
      " 'Motorola Solutions Inc.' 'KLA Corp.' 'Renesas Electronics Corp.'\n",
      " 'Fujifilm Holdings Corp.' 'Panasonic Corp.' 'Hexagon AB' 'ZTE Corp.'\n",
      " 'Xiaomi Corp.' 'Hangzhou Hikvision Digital Technology Co. Ltd.']\n"
     ]
    }
   ],
   "source": [
    "companies_2020_new = ktc_ict_2022[ktc_ict_2022['Year of inclusion'] == 2020]['Company Name'].unique()\n",
    "print(companies_2020_new)"
   ]
  },
  {
   "attachments": {},
   "cell_type": "markdown",
   "metadata": {},
   "source": [
    "All Companies"
   ]
  },
  {
   "cell_type": "code",
   "execution_count": 136,
   "metadata": {},
   "outputs": [
    {
     "name": "stdout",
     "output_type": "stream",
     "text": [
      "['Hewlett Packard Enterprise Co. (HPE)' 'Intel Corp.' 'Cisco Systems Inc.'\n",
      " 'Apple Inc.' 'HP Inc.' 'Samsung Electronics Co. Ltd.'\n",
      " 'Telefonaktiebolaget LM Ericsson (publ)' 'Amazon.com Inc.' 'Corning Inc.'\n",
      " 'NXP Semiconductors NV' 'Western Digital Corp.' 'Best Buy Co. Inc.'\n",
      " 'Microsoft Corp.' 'STMicroelectronics NV' 'Dell Technologies Inc.'\n",
      " 'Walmart Inc.' 'Lam Research Corp.' 'Sony Corp.' 'Nokia Oyj'\n",
      " 'Micron Technology Inc.' 'Texas Instruments Inc.' 'Qualcomm Inc.'\n",
      " 'Skyworks Solutions Inc.' 'NVIDIA Corp.' 'LG Electronics Inc.'\n",
      " 'Broadcom Inc.' 'Tokyo Electron Ltd.' 'Microchip Technology Inc.'\n",
      " 'Motorola Solutions Inc.' 'Murata Manufacturing Co. Ltd.'\n",
      " 'Analog Devices Inc.' 'Amphenol Corp.' 'Canon Inc.'\n",
      " 'Applied Materials Inc.' 'Taiwan Semiconductor Manufacturing Co. Ltd.'\n",
      " 'Hitachi Ltd.' 'KLA Corp.' 'TE Connectivity Ltd.'\n",
      " 'Infineon Technologies AG' 'Renesas Electronics Corp.'\n",
      " 'Nintendo Co. Ltd.' 'SK Hynix Inc.' 'Fujifilm Holdings Corp.'\n",
      " 'Panasonic Corp.' 'Keyence Corp.' 'Hexagon AB' 'ASML Holding NV'\n",
      " 'Hon Hai Precision Industry Co. Ltd. (Foxconn)' 'ZTE Corp.'\n",
      " 'Xiaomi Corp.' 'Kyocera Corp.' 'BOE Technology Group Co. Ltd.'\n",
      " 'Hangzhou Hikvision Digital Technology Co. Ltd.']\n"
     ]
    }
   ],
   "source": [
    "companies_2020 = ktc_ict_2022[(ktc_ict_2022['Year of inclusion'] == 2020) | (ktc_ict_2022['Year of inclusion'] == 2018) | (ktc_ict_2022['Year of inclusion'] == 2016)]['Company Name'].unique()\n",
    "print(companies_2020)"
   ]
  },
  {
   "attachments": {},
   "cell_type": "markdown",
   "metadata": {},
   "source": [
    "***Companies assessed in 2022***"
   ]
  },
  {
   "attachments": {},
   "cell_type": "markdown",
   "metadata": {},
   "source": [
    "New Companies"
   ]
  },
  {
   "cell_type": "code",
   "execution_count": 140,
   "metadata": {},
   "outputs": [
    {
     "name": "stdout",
     "output_type": "stream",
     "text": [
      "['Advanced Micro Devices Inc' 'Seagate Technology PLC'\n",
      " 'Logitech International S.A.'\n",
      " 'Semiconductor Manufacturing International Corp'\n",
      " 'Luxshare Precision Industry Co. Ltd.'\n",
      " 'Sunny Optical Technology (Group) Co., Ltd.'\n",
      " 'NAURA Technology Group Co., Ltd.']\n"
     ]
    }
   ],
   "source": [
    "companies_2022_new = ktc_ict_2022[ktc_ict_2022['Year of inclusion'] == 2022]['Company Name'].unique()\n",
    "print(companies_2022_new)"
   ]
  },
  {
   "attachments": {},
   "cell_type": "markdown",
   "metadata": {},
   "source": [
    "All Companies"
   ]
  },
  {
   "cell_type": "code",
   "execution_count": 141,
   "metadata": {},
   "outputs": [
    {
     "name": "stdout",
     "output_type": "stream",
     "text": [
      "['Hewlett Packard Enterprise Co. (HPE)' 'Intel Corp.' 'Cisco Systems Inc.'\n",
      " 'Apple Inc.' 'HP Inc.' 'Samsung Electronics Co. Ltd.'\n",
      " 'Telefonaktiebolaget LM Ericsson (publ)' 'Amazon.com Inc.' 'Corning Inc.'\n",
      " 'NXP Semiconductors NV' 'Western Digital Corp.' 'Best Buy Co. Inc.'\n",
      " 'Microsoft Corp.' 'Advanced Micro Devices Inc' 'STMicroelectronics NV'\n",
      " 'Seagate Technology PLC' 'Dell Technologies Inc.' 'Walmart Inc.'\n",
      " 'Lam Research Corp.' 'Logitech International S.A.' 'Sony Corp.'\n",
      " 'Nokia Oyj' 'Micron Technology Inc.' 'Texas Instruments Inc.'\n",
      " 'Qualcomm Inc.' 'Skyworks Solutions Inc.' 'NVIDIA Corp.'\n",
      " 'LG Electronics Inc.' 'Broadcom Inc.' 'Tokyo Electron Ltd.'\n",
      " 'Microchip Technology Inc.' 'Motorola Solutions Inc.'\n",
      " 'Murata Manufacturing Co. Ltd.' 'Analog Devices Inc.' 'Amphenol Corp.'\n",
      " 'Canon Inc.' 'Applied Materials Inc.'\n",
      " 'Taiwan Semiconductor Manufacturing Co. Ltd.' 'Hitachi Ltd.' 'KLA Corp.'\n",
      " 'TE Connectivity Ltd.' 'Infineon Technologies AG'\n",
      " 'Renesas Electronics Corp.' 'Nintendo Co. Ltd.' 'SK Hynix Inc.'\n",
      " 'Fujifilm Holdings Corp.' 'Panasonic Corp.' 'Keyence Corp.' 'Hexagon AB'\n",
      " 'ASML Holding NV' 'Hon Hai Precision Industry Co. Ltd. (Foxconn)'\n",
      " 'ZTE Corp.' 'Semiconductor Manufacturing International Corp'\n",
      " 'Luxshare Precision Industry Co. Ltd.' 'Xiaomi Corp.' 'Kyocera Corp.'\n",
      " 'Sunny Optical Technology (Group) Co., Ltd.'\n",
      " 'BOE Technology Group Co. Ltd.'\n",
      " 'Hangzhou Hikvision Digital Technology Co. Ltd.'\n",
      " 'NAURA Technology Group Co., Ltd.']\n"
     ]
    }
   ],
   "source": [
    "companies_2022 = ktc_ict_2022[(ktc_ict_2022['Year of inclusion'] == 2022) | (ktc_ict_2022['Year of inclusion'] == 2020) | (ktc_ict_2022['Year of inclusion'] == 2018) | (ktc_ict_2022['Year of inclusion'] == 2016)]['Company Name'].unique()\n",
    "print(companies_2022)"
   ]
  },
  {
   "attachments": {},
   "cell_type": "markdown",
   "metadata": {},
   "source": [
    "# **Section 3: Basic Descriptive Statistics** #"
   ]
  },
  {
   "attachments": {},
   "cell_type": "markdown",
   "metadata": {},
   "source": [
    "### Average, Median, and Standard Deviation of Benchmark Scores ###"
   ]
  },
  {
   "attachments": {},
   "cell_type": "markdown",
   "metadata": {},
   "source": [
    "***Average, Median, and Standard Deviation of Benchmark Scores for All Companies in 2018***"
   ]
  },
  {
   "cell_type": "code",
   "execution_count": 153,
   "metadata": {},
   "outputs": [
    {
     "name": "stdout",
     "output_type": "stream",
     "text": [
      "Mean benchmark scores across all companies: 32.2\n",
      "Median benchmark scores across all companies: 31.0\n",
      "Standard deviation of benchmark scores across all companies: 21.543277849779976 \n",
      "\n",
      "Region\n",
      "North America    37.500000\n",
      "Europe           35.666667\n",
      "Asia             23.142857\n",
      "Name: Total benchmark score, dtype: float64\n"
     ]
    }
   ],
   "source": [
    "mean_2018 = ktc_ict_2018['Total benchmark score'].mean()\n",
    "median_2018 = ktc_ict_2018['Total benchmark score'].median()\n",
    "std_2018 = ktc_ict_2018['Total benchmark score'].std()\n",
    "mean_region_2018 = ktc_ict_2018.groupby('Region')['Total benchmark score'].mean()\n",
    "mean_region_2018 = mean_region_2018.sort_values(ascending=False)\n",
    "\n",
    "print(\"Mean benchmark scores across all companies:\", mean_2018)\n",
    "print(\"Median benchmark scores across all companies:\", median_2018)\n",
    "print(\"Standard deviation of benchmark scores across all companies:\", std_2018, \"\\n\")\n",
    "print(mean_region_2018)"
   ]
  },
  {
   "attachments": {},
   "cell_type": "markdown",
   "metadata": {},
   "source": [
    "***Average, Median, and Standard Deviation of Benchmark Scores for All Companies in 2020***"
   ]
  },
  {
   "cell_type": "code",
   "execution_count": 150,
   "metadata": {},
   "outputs": [
    {
     "name": "stdout",
     "output_type": "stream",
     "text": [
      "Mean benchmark scores across all companies: 30.2848273732449\n",
      "Median benchmark scores across all companies: 26.78185637\n",
      "Standard deviation of benchmark scores across all companies: 20.85751177027481 \n",
      "\n",
      "Region\n",
      "North America    39.715280\n",
      "Europe           30.281556\n",
      "Asia             18.236258\n",
      "Name: Total benchmark score, dtype: float64\n"
     ]
    }
   ],
   "source": [
    "mean_2020 = ktc_ict_2020['Total benchmark score'].mean()\n",
    "median_2020 = ktc_ict_2020['Total benchmark score'].median()\n",
    "std_2020 = ktc_ict_2020['Total benchmark score'].std()\n",
    "mean_region_2020 = ktc_ict_2020.groupby('Region')['Total benchmark score'].mean()\n",
    "mean_region_2020 = mean_region_2020.sort_values(ascending=False)\n",
    "\n",
    "print(\"Mean benchmark scores across all companies:\", mean_2020)\n",
    "print(\"Median benchmark scores across all companies:\", median_2020)\n",
    "print(\"Standard deviation of benchmark scores across all companies:\", std_2020, \"\\n\")\n",
    "print(mean_region_2020)"
   ]
  },
  {
   "attachments": {},
   "cell_type": "markdown",
   "metadata": {},
   "source": [
    "***Average, Median, and Standard Deviation of Benchmark Scores for All Companies in 2022***"
   ]
  },
  {
   "cell_type": "code",
   "execution_count": 154,
   "metadata": {},
   "outputs": [
    {
     "name": "stdout",
     "output_type": "stream",
     "text": [
      "Mean benchmark scores across all companies: 20.0840909091\n",
      "Median benchmark scores across all companies: 14.045454544999998\n",
      "Standard deviation of benchmark scores across all companies: 15.654284463757786 \n",
      "\n",
      "Region\n",
      "North America    28.866259\n",
      "Europe           22.307955\n",
      "Asia              9.643466\n",
      "Name: Total benchmark score, dtype: float64\n"
     ]
    }
   ],
   "source": [
    "mean_2022 = ktc_ict_2022['Total benchmark score'].mean()\n",
    "median_2022 = ktc_ict_2022['Total benchmark score'].median()\n",
    "std_2022 = ktc_ict_2022['Total benchmark score'].std()\n",
    "mean_region_2022 = ktc_ict_2022.groupby('Region')['Total benchmark score'].mean()\n",
    "mean_region_2022 = mean_region_2022.sort_values(ascending=False)\n",
    "\n",
    "print(\"Mean benchmark scores across all companies:\", mean_2022)\n",
    "print(\"Median benchmark scores across all companies:\", median_2022)\n",
    "print(\"Standard deviation of benchmark scores across all companies:\", std_2022, \"\\n\")\n",
    "print(mean_region_2022)"
   ]
  },
  {
   "attachments": {},
   "cell_type": "markdown",
   "metadata": {},
   "source": [
    "***Are the trend lines for these data affected by the inclusion of new companies during each year of the benchmark?***"
   ]
  },
  {
   "cell_type": "code",
   "execution_count": 157,
   "metadata": {},
   "outputs": [
    {
     "name": "stdout",
     "output_type": "stream",
     "text": [
      "Mean benchmark scores across all companies (Year of inclusion = 2018): 22.023325359526314\n",
      "Median benchmark scores across all companies (Year of inclusion = 2018): 15.52272727\n",
      "Standard deviation of benchmark scores across all companies (Year of inclusion = 2018): 15.03384347609765 \n",
      "\n",
      "Region\n",
      "North America    25.587121\n",
      "Europe           21.014205\n",
      "Asia              9.113636\n",
      "Name: Total benchmark score, dtype: float64\n"
     ]
    }
   ],
   "source": [
    "# Filter dataframe to only include companies with Year of inclusion == 2018\n",
    "ktc_ict_2022 = ktc_ict_2022[ktc_ict_2022['Year of inclusion'] == 2018]\n",
    "\n",
    "mean_2022 = ktc_ict_2022['Total benchmark score'].mean()\n",
    "median_2022 = ktc_ict_2022['Total benchmark score'].median()\n",
    "std_2022 = ktc_ict_2022['Total benchmark score'].std()\n",
    "mean_region_2022 = ktc_ict_2022.groupby('Region')['Total benchmark score'].mean()\n",
    "mean_region_2022 = mean_region_2022.sort_values(ascending=False)\n",
    "\n",
    "# Print results\n",
    "print(\"Mean benchmark scores across all companies (Year of inclusion = 2018):\", mean_2022)\n",
    "print(\"Median benchmark scores across all companies (Year of inclusion = 2018):\", median_2022)\n",
    "print(\"Standard deviation of benchmark scores across all companies (Year of inclusion = 2018):\", std_2022, \"\\n\")\n",
    "print(mean_region_2022)\n"
   ]
  },
  {
   "attachments": {},
   "cell_type": "markdown",
   "metadata": {},
   "source": [
    "***Top 5 and Bottom 5 in North Amercia***"
   ]
  },
  {
   "cell_type": "code",
   "execution_count": 42,
   "metadata": {},
   "outputs": [
    {
     "data": {
      "text/html": [
       "<div>\n",
       "<style scoped>\n",
       "    .dataframe tbody tr th:only-of-type {\n",
       "        vertical-align: middle;\n",
       "    }\n",
       "\n",
       "    .dataframe tbody tr th {\n",
       "        vertical-align: top;\n",
       "    }\n",
       "\n",
       "    .dataframe thead th {\n",
       "        text-align: right;\n",
       "    }\n",
       "</style>\n",
       "<table border=\"1\" class=\"dataframe\">\n",
       "  <thead>\n",
       "    <tr style=\"text-align: right;\">\n",
       "      <th></th>\n",
       "      <th>Company Name</th>\n",
       "      <th>Total benchmark score</th>\n",
       "      <th>2022 Rank</th>\n",
       "      <th>Country</th>\n",
       "      <th>Region</th>\n",
       "      <th>Market cap (US$bn)</th>\n",
       "    </tr>\n",
       "  </thead>\n",
       "  <tbody>\n",
       "    <tr>\n",
       "      <th>16</th>\n",
       "      <td>Hewlett Packard Enterprise Co. (HPE)</td>\n",
       "      <td>63.420455</td>\n",
       "      <td>1</td>\n",
       "      <td>United States</td>\n",
       "      <td>North America</td>\n",
       "      <td>18770.52</td>\n",
       "    </tr>\n",
       "    <tr>\n",
       "      <th>22</th>\n",
       "      <td>Intel Corp.</td>\n",
       "      <td>60.238636</td>\n",
       "      <td>2</td>\n",
       "      <td>United States</td>\n",
       "      <td>North America</td>\n",
       "      <td>200096.40</td>\n",
       "    </tr>\n",
       "    <tr>\n",
       "      <th>11</th>\n",
       "      <td>Cisco Systems Inc.</td>\n",
       "      <td>54.647727</td>\n",
       "      <td>3</td>\n",
       "      <td>United States</td>\n",
       "      <td>North America</td>\n",
       "      <td>231293.54</td>\n",
       "    </tr>\n",
       "    <tr>\n",
       "      <th>4</th>\n",
       "      <td>Apple Inc.</td>\n",
       "      <td>51.806818</td>\n",
       "      <td>4</td>\n",
       "      <td>United States</td>\n",
       "      <td>North America</td>\n",
       "      <td>2711977.42</td>\n",
       "    </tr>\n",
       "    <tr>\n",
       "      <th>20</th>\n",
       "      <td>HP Inc.</td>\n",
       "      <td>46.147727</td>\n",
       "      <td>5</td>\n",
       "      <td>United States</td>\n",
       "      <td>North America</td>\n",
       "      <td>40660.86</td>\n",
       "    </tr>\n",
       "    <tr>\n",
       "      <th>...</th>\n",
       "      <td>...</td>\n",
       "      <td>...</td>\n",
       "      <td>...</td>\n",
       "      <td>...</td>\n",
       "      <td>...</td>\n",
       "      <td>...</td>\n",
       "    </tr>\n",
       "    <tr>\n",
       "      <th>33</th>\n",
       "      <td>Motorola Solutions Inc.</td>\n",
       "      <td>13.500000</td>\n",
       "      <td>28</td>\n",
       "      <td>United States</td>\n",
       "      <td>North America</td>\n",
       "      <td>42761.47</td>\n",
       "    </tr>\n",
       "    <tr>\n",
       "      <th>3</th>\n",
       "      <td>Analog Devices Inc.</td>\n",
       "      <td>12.818182</td>\n",
       "      <td>33</td>\n",
       "      <td>United States</td>\n",
       "      <td>North America</td>\n",
       "      <td>96868.35</td>\n",
       "    </tr>\n",
       "    <tr>\n",
       "      <th>2</th>\n",
       "      <td>Amphenol Corp.</td>\n",
       "      <td>12.340909</td>\n",
       "      <td>35</td>\n",
       "      <td>United States</td>\n",
       "      <td>North America</td>\n",
       "      <td>48189.08</td>\n",
       "    </tr>\n",
       "    <tr>\n",
       "      <th>5</th>\n",
       "      <td>Applied Materials Inc.</td>\n",
       "      <td>12.272727</td>\n",
       "      <td>35</td>\n",
       "      <td>United States</td>\n",
       "      <td>North America</td>\n",
       "      <td>132902.05</td>\n",
       "    </tr>\n",
       "    <tr>\n",
       "      <th>24</th>\n",
       "      <td>KLA Corp.</td>\n",
       "      <td>12.000000</td>\n",
       "      <td>35</td>\n",
       "      <td>United States</td>\n",
       "      <td>North America</td>\n",
       "      <td>61881.55</td>\n",
       "    </tr>\n",
       "  </tbody>\n",
       "</table>\n",
       "<p>26 rows × 6 columns</p>\n",
       "</div>"
      ],
      "text/plain": [
       "                            Company Name  Total benchmark score  2022 Rank  \\\n",
       "16  Hewlett Packard Enterprise Co. (HPE)              63.420455          1   \n",
       "22                           Intel Corp.              60.238636          2   \n",
       "11                    Cisco Systems Inc.              54.647727          3   \n",
       "4                             Apple Inc.              51.806818          4   \n",
       "20                               HP Inc.              46.147727          5   \n",
       "..                                   ...                    ...        ...   \n",
       "33               Motorola Solutions Inc.              13.500000         28   \n",
       "3                    Analog Devices Inc.              12.818182         33   \n",
       "2                         Amphenol Corp.              12.340909         35   \n",
       "5                 Applied Materials Inc.              12.272727         35   \n",
       "24                             KLA Corp.              12.000000         35   \n",
       "\n",
       "          Country         Region  Market cap (US$bn)  \n",
       "16  United States  North America            18770.52  \n",
       "22  United States  North America           200096.40  \n",
       "11  United States  North America           231293.54  \n",
       "4   United States  North America          2711977.42  \n",
       "20  United States  North America            40660.86  \n",
       "..            ...            ...                 ...  \n",
       "33  United States  North America            42761.47  \n",
       "3   United States  North America            96868.35  \n",
       "2   United States  North America            48189.08  \n",
       "5   United States  North America           132902.05  \n",
       "24  United States  North America            61881.55  \n",
       "\n",
       "[26 rows x 6 columns]"
      ]
     },
     "execution_count": 42,
     "metadata": {},
     "output_type": "execute_result"
    }
   ],
   "source": [
    "\n",
    "ktc_ict_2022.loc[(ktc_ict_2022[\"Region\"] == \"North America\")].sort_values(by='Total benchmark score', ascending=False).iloc[:, :6]"
   ]
  },
  {
   "attachments": {},
   "cell_type": "markdown",
   "metadata": {},
   "source": [
    "***Top 5 and Bottom 5 in Europe***"
   ]
  },
  {
   "cell_type": "code",
   "execution_count": 43,
   "metadata": {},
   "outputs": [
    {
     "data": {
      "text/html": [
       "<div>\n",
       "<style scoped>\n",
       "    .dataframe tbody tr th:only-of-type {\n",
       "        vertical-align: middle;\n",
       "    }\n",
       "\n",
       "    .dataframe tbody tr th {\n",
       "        vertical-align: top;\n",
       "    }\n",
       "\n",
       "    .dataframe thead th {\n",
       "        text-align: right;\n",
       "    }\n",
       "</style>\n",
       "<table border=\"1\" class=\"dataframe\">\n",
       "  <thead>\n",
       "    <tr style=\"text-align: right;\">\n",
       "      <th></th>\n",
       "      <th>Company Name</th>\n",
       "      <th>Total benchmark score</th>\n",
       "      <th>2022 Rank</th>\n",
       "      <th>Country</th>\n",
       "      <th>Region</th>\n",
       "      <th>Market cap (US$bn)</th>\n",
       "    </tr>\n",
       "  </thead>\n",
       "  <tbody>\n",
       "    <tr>\n",
       "      <th>53</th>\n",
       "      <td>Telefonaktiebolaget LM Ericsson (publ)</td>\n",
       "      <td>41.500000</td>\n",
       "      <td>7</td>\n",
       "      <td>Sweden</td>\n",
       "      <td>Europe</td>\n",
       "      <td>33534.30</td>\n",
       "    </tr>\n",
       "    <tr>\n",
       "      <th>39</th>\n",
       "      <td>NXP Semiconductors NV</td>\n",
       "      <td>39.465909</td>\n",
       "      <td>10</td>\n",
       "      <td>Netherlands</td>\n",
       "      <td>Europe</td>\n",
       "      <td>59398.85</td>\n",
       "    </tr>\n",
       "    <tr>\n",
       "      <th>49</th>\n",
       "      <td>STMicroelectronics NV</td>\n",
       "      <td>28.988636</td>\n",
       "      <td>15</td>\n",
       "      <td>Switzerland</td>\n",
       "      <td>Europe</td>\n",
       "      <td>44150.79</td>\n",
       "    </tr>\n",
       "    <tr>\n",
       "      <th>44</th>\n",
       "      <td>Seagate Technology PLC</td>\n",
       "      <td>27.420455</td>\n",
       "      <td>16</td>\n",
       "      <td>Ireland</td>\n",
       "      <td>Europe</td>\n",
       "      <td>22858.03</td>\n",
       "    </tr>\n",
       "    <tr>\n",
       "      <th>28</th>\n",
       "      <td>Logitech International S.A.</td>\n",
       "      <td>23.659091</td>\n",
       "      <td>19</td>\n",
       "      <td>Switzerland</td>\n",
       "      <td>Europe</td>\n",
       "      <td>13218.97</td>\n",
       "    </tr>\n",
       "    <tr>\n",
       "      <th>37</th>\n",
       "      <td>Nokia Oyj</td>\n",
       "      <td>22.431818</td>\n",
       "      <td>22</td>\n",
       "      <td>Finland</td>\n",
       "      <td>Europe</td>\n",
       "      <td>31270.20</td>\n",
       "    </tr>\n",
       "    <tr>\n",
       "      <th>52</th>\n",
       "      <td>TE Connectivity Ltd.</td>\n",
       "      <td>11.113636</td>\n",
       "      <td>41</td>\n",
       "      <td>Switzerland</td>\n",
       "      <td>Europe</td>\n",
       "      <td>50229.41</td>\n",
       "    </tr>\n",
       "    <tr>\n",
       "      <th>21</th>\n",
       "      <td>Infineon Technologies AG</td>\n",
       "      <td>11.045455</td>\n",
       "      <td>41</td>\n",
       "      <td>Germany</td>\n",
       "      <td>Europe</td>\n",
       "      <td>58680.49</td>\n",
       "    </tr>\n",
       "    <tr>\n",
       "      <th>17</th>\n",
       "      <td>Hexagon AB</td>\n",
       "      <td>8.863636</td>\n",
       "      <td>45</td>\n",
       "      <td>Sweden</td>\n",
       "      <td>Europe</td>\n",
       "      <td>39291.65</td>\n",
       "    </tr>\n",
       "    <tr>\n",
       "      <th>6</th>\n",
       "      <td>ASML Holding NV</td>\n",
       "      <td>8.590909</td>\n",
       "      <td>45</td>\n",
       "      <td>Netherlands</td>\n",
       "      <td>Europe</td>\n",
       "      <td>326540.98</td>\n",
       "    </tr>\n",
       "  </tbody>\n",
       "</table>\n",
       "</div>"
      ],
      "text/plain": [
       "                              Company Name  Total benchmark score  2022 Rank  \\\n",
       "53  Telefonaktiebolaget LM Ericsson (publ)              41.500000          7   \n",
       "39                   NXP Semiconductors NV              39.465909         10   \n",
       "49                   STMicroelectronics NV              28.988636         15   \n",
       "44                  Seagate Technology PLC              27.420455         16   \n",
       "28             Logitech International S.A.              23.659091         19   \n",
       "37                               Nokia Oyj              22.431818         22   \n",
       "52                    TE Connectivity Ltd.              11.113636         41   \n",
       "21                Infineon Technologies AG              11.045455         41   \n",
       "17                              Hexagon AB               8.863636         45   \n",
       "6                          ASML Holding NV               8.590909         45   \n",
       "\n",
       "        Country  Region  Market cap (US$bn)  \n",
       "53       Sweden  Europe            33534.30  \n",
       "39  Netherlands  Europe            59398.85  \n",
       "49  Switzerland  Europe            44150.79  \n",
       "44      Ireland  Europe            22858.03  \n",
       "28  Switzerland  Europe            13218.97  \n",
       "37      Finland  Europe            31270.20  \n",
       "52  Switzerland  Europe            50229.41  \n",
       "21      Germany  Europe            58680.49  \n",
       "17       Sweden  Europe            39291.65  \n",
       "6   Netherlands  Europe           326540.98  "
      ]
     },
     "execution_count": 43,
     "metadata": {},
     "output_type": "execute_result"
    }
   ],
   "source": [
    "\n",
    "ktc_ict_2022.loc[(ktc_ict_2022[\"Region\"] == \"Europe\")].sort_values(by='Total benchmark score', ascending=False).iloc[:, :6]"
   ]
  },
  {
   "attachments": {},
   "cell_type": "markdown",
   "metadata": {},
   "source": [
    "***Top 5 and Bottom 5 in Asia***"
   ]
  },
  {
   "cell_type": "code",
   "execution_count": 44,
   "metadata": {},
   "outputs": [
    {
     "data": {
      "text/html": [
       "<div>\n",
       "<style scoped>\n",
       "    .dataframe tbody tr th:only-of-type {\n",
       "        vertical-align: middle;\n",
       "    }\n",
       "\n",
       "    .dataframe tbody tr th {\n",
       "        vertical-align: top;\n",
       "    }\n",
       "\n",
       "    .dataframe thead th {\n",
       "        text-align: right;\n",
       "    }\n",
       "</style>\n",
       "<table border=\"1\" class=\"dataframe\">\n",
       "  <thead>\n",
       "    <tr style=\"text-align: right;\">\n",
       "      <th></th>\n",
       "      <th>Company Name</th>\n",
       "      <th>Total benchmark score</th>\n",
       "      <th>2022 Rank</th>\n",
       "      <th>Country</th>\n",
       "      <th>Region</th>\n",
       "      <th>Market cap (US$bn)</th>\n",
       "    </tr>\n",
       "  </thead>\n",
       "  <tbody>\n",
       "    <tr>\n",
       "      <th>43</th>\n",
       "      <td>Samsung Electronics Co. Ltd.</td>\n",
       "      <td>45.522727</td>\n",
       "      <td>5</td>\n",
       "      <td>South Korea</td>\n",
       "      <td>Asia</td>\n",
       "      <td>401477.49</td>\n",
       "    </tr>\n",
       "    <tr>\n",
       "      <th>48</th>\n",
       "      <td>Sony Corp.</td>\n",
       "      <td>23.170455</td>\n",
       "      <td>21</td>\n",
       "      <td>Japan</td>\n",
       "      <td>Asia</td>\n",
       "      <td>150653.89</td>\n",
       "    </tr>\n",
       "    <tr>\n",
       "      <th>27</th>\n",
       "      <td>LG Electronics Inc.</td>\n",
       "      <td>14.454545</td>\n",
       "      <td>28</td>\n",
       "      <td>South Korea</td>\n",
       "      <td>Asia</td>\n",
       "      <td>15793.86</td>\n",
       "    </tr>\n",
       "    <tr>\n",
       "      <th>55</th>\n",
       "      <td>Tokyo Electron Ltd.</td>\n",
       "      <td>14.113636</td>\n",
       "      <td>28</td>\n",
       "      <td>Japan</td>\n",
       "      <td>Asia</td>\n",
       "      <td>81783.94</td>\n",
       "    </tr>\n",
       "    <tr>\n",
       "      <th>34</th>\n",
       "      <td>Murata Manufacturing Co. Ltd.</td>\n",
       "      <td>12.954545</td>\n",
       "      <td>33</td>\n",
       "      <td>Japan</td>\n",
       "      <td>Asia</td>\n",
       "      <td>47109.83</td>\n",
       "    </tr>\n",
       "    <tr>\n",
       "      <th>...</th>\n",
       "      <td>...</td>\n",
       "      <td>...</td>\n",
       "      <td>...</td>\n",
       "      <td>...</td>\n",
       "      <td>...</td>\n",
       "      <td>...</td>\n",
       "    </tr>\n",
       "    <tr>\n",
       "      <th>25</th>\n",
       "      <td>Kyocera Corp.</td>\n",
       "      <td>2.590909</td>\n",
       "      <td>55</td>\n",
       "      <td>Japan</td>\n",
       "      <td>Asia</td>\n",
       "      <td>21434.67</td>\n",
       "    </tr>\n",
       "    <tr>\n",
       "      <th>50</th>\n",
       "      <td>Sunny Optical Technology (Group) Co., Ltd.</td>\n",
       "      <td>1.363636</td>\n",
       "      <td>57</td>\n",
       "      <td>China</td>\n",
       "      <td>Asia</td>\n",
       "      <td>33158.48</td>\n",
       "    </tr>\n",
       "    <tr>\n",
       "      <th>35</th>\n",
       "      <td>NAURA Technology Group Co., Ltd.</td>\n",
       "      <td>0.000000</td>\n",
       "      <td>58</td>\n",
       "      <td>China</td>\n",
       "      <td>Asia</td>\n",
       "      <td>31838.53</td>\n",
       "    </tr>\n",
       "    <tr>\n",
       "      <th>15</th>\n",
       "      <td>Hangzhou Hikvision Digital Technology Co. Ltd.</td>\n",
       "      <td>0.000000</td>\n",
       "      <td>58</td>\n",
       "      <td>China</td>\n",
       "      <td>Asia</td>\n",
       "      <td>72120.00</td>\n",
       "    </tr>\n",
       "    <tr>\n",
       "      <th>8</th>\n",
       "      <td>BOE Technology Group Co. Ltd.</td>\n",
       "      <td>0.000000</td>\n",
       "      <td>58</td>\n",
       "      <td>China</td>\n",
       "      <td>Asia</td>\n",
       "      <td>28707.64</td>\n",
       "    </tr>\n",
       "  </tbody>\n",
       "</table>\n",
       "<p>24 rows × 6 columns</p>\n",
       "</div>"
      ],
      "text/plain": [
       "                                      Company Name  Total benchmark score  \\\n",
       "43                    Samsung Electronics Co. Ltd.              45.522727   \n",
       "48                                      Sony Corp.              23.170455   \n",
       "27                             LG Electronics Inc.              14.454545   \n",
       "55                             Tokyo Electron Ltd.              14.113636   \n",
       "34                   Murata Manufacturing Co. Ltd.              12.954545   \n",
       "..                                             ...                    ...   \n",
       "25                                   Kyocera Corp.               2.590909   \n",
       "50      Sunny Optical Technology (Group) Co., Ltd.               1.363636   \n",
       "35                NAURA Technology Group Co., Ltd.               0.000000   \n",
       "15  Hangzhou Hikvision Digital Technology Co. Ltd.               0.000000   \n",
       "8                    BOE Technology Group Co. Ltd.               0.000000   \n",
       "\n",
       "    2022 Rank      Country Region  Market cap (US$bn)  \n",
       "43          5  South Korea   Asia           401477.49  \n",
       "48         21        Japan   Asia           150653.89  \n",
       "27         28  South Korea   Asia            15793.86  \n",
       "55         28        Japan   Asia            81783.94  \n",
       "34         33        Japan   Asia            47109.83  \n",
       "..        ...          ...    ...                 ...  \n",
       "25         55        Japan   Asia            21434.67  \n",
       "50         57        China   Asia            33158.48  \n",
       "35         58        China   Asia            31838.53  \n",
       "15         58        China   Asia            72120.00  \n",
       "8          58        China   Asia            28707.64  \n",
       "\n",
       "[24 rows x 6 columns]"
      ]
     },
     "execution_count": 44,
     "metadata": {},
     "output_type": "execute_result"
    }
   ],
   "source": [
    "\n",
    "ktc_ict_2022.loc[(ktc_ict_2022[\"Region\"] == \"Asia\")].sort_values(by='Total benchmark score', ascending=False).iloc[:, :6]"
   ]
  },
  {
   "attachments": {},
   "cell_type": "markdown",
   "metadata": {},
   "source": [
    "***Benchmark Scores Theme 1: Committment & Governance***"
   ]
  },
  {
   "cell_type": "code",
   "execution_count": 73,
   "metadata": {},
   "outputs": [
    {
     "name": "stdout",
     "output_type": "stream",
     "text": [
      "Region\n",
      "North America    56.410256\n",
      "Europe           55.833333\n",
      "Asia             26.562500\n",
      "Name: Theme 1: Commitment & Governance, dtype: float64\n"
     ]
    }
   ],
   "source": [
    "mean_scores_theme1 = ktc_ict_2022.groupby('Region')['Theme 1: Commitment & Governance'].mean()\n",
    "mean_scores_theme1 = mean_scores_theme1.sort_values(ascending=False)\n",
    "print(mean_scores_theme1)"
   ]
  },
  {
   "attachments": {},
   "cell_type": "markdown",
   "metadata": {},
   "source": [
    "***Benchmark Scores Theme 2: Traceability & Risk Assessment***"
   ]
  },
  {
   "cell_type": "code",
   "execution_count": 63,
   "metadata": {},
   "outputs": [
    {
     "name": "stdout",
     "output_type": "stream",
     "text": [
      "Region\n",
      "North America    37.126068\n",
      "Europe           23.125000\n",
      "Asia             10.619213\n",
      "Name: Theme 2: Traceability & Risk Assessment, dtype: float64\n"
     ]
    }
   ],
   "source": [
    "mean_scores_theme2 = ktc_ict_2022.groupby('Region')['Theme 2: Traceability & Risk Assessment'].mean()\n",
    "mean_scores_theme2 = mean_scores_theme2.sort_values(ascending=False)\n",
    "print(mean_scores_theme2)"
   ]
  },
  {
   "attachments": {},
   "cell_type": "markdown",
   "metadata": {},
   "source": [
    "***Benchmark Scores Theme 3: Purchasing Practices***"
   ]
  },
  {
   "cell_type": "code",
   "execution_count": 64,
   "metadata": {},
   "outputs": [
    {
     "name": "stdout",
     "output_type": "stream",
     "text": [
      "Region\n",
      "North America    4.487179\n",
      "Asia             1.041667\n",
      "Europe           0.000000\n",
      "Name: Theme 3: Purchasing Practices, dtype: float64\n"
     ]
    }
   ],
   "source": [
    "mean_scores_theme3 = ktc_ict_2022.groupby('Region')['Theme 3: Purchasing Practices'].mean()\n",
    "mean_scores_theme3 = mean_scores_theme3.sort_values(ascending=False)\n",
    "print(mean_scores_theme3)"
   ]
  },
  {
   "attachments": {},
   "cell_type": "markdown",
   "metadata": {},
   "source": [
    "***Benchmark Scores Theme 4: Recruitment***"
   ]
  },
  {
   "cell_type": "code",
   "execution_count": 65,
   "metadata": {},
   "outputs": [
    {
     "name": "stdout",
     "output_type": "stream",
     "text": [
      "Region\n",
      "North America    25.673077\n",
      "Europe           16.250000\n",
      "Asia              6.979167\n",
      "Name: Theme 4: Recruitment, dtype: float64\n"
     ]
    }
   ],
   "source": [
    "mean_scores_theme4 = ktc_ict_2022.groupby('Region')['Theme 4: Recruitment'].mean()\n",
    "mean_scores_theme4 = mean_scores_theme4.sort_values(ascending=False)\n",
    "print(mean_scores_theme4)"
   ]
  },
  {
   "attachments": {},
   "cell_type": "markdown",
   "metadata": {},
   "source": [
    "***Benchmark Scores Theme 5: Worker Voice***"
   ]
  },
  {
   "cell_type": "code",
   "execution_count": 66,
   "metadata": {},
   "outputs": [
    {
     "name": "stdout",
     "output_type": "stream",
     "text": [
      "Region\n",
      "North America    10.801282\n",
      "Europe            6.250000\n",
      "Asia              5.208333\n",
      "Name: Theme 5: Worker Voice, dtype: float64\n"
     ]
    }
   ],
   "source": [
    "mean_scores_theme5 = ktc_ict_2022.groupby('Region')['Theme 5: Worker Voice'].mean()\n",
    "mean_scores_theme5 = mean_scores_theme5.sort_values(ascending=False)\n",
    "print(mean_scores_theme5)"
   ]
  },
  {
   "attachments": {},
   "cell_type": "markdown",
   "metadata": {},
   "source": [
    "***Benchmark Scores Theme 6: Monitoring*** "
   ]
  },
  {
   "cell_type": "code",
   "execution_count": 67,
   "metadata": {},
   "outputs": [
    {
     "name": "stdout",
     "output_type": "stream",
     "text": [
      "Region\n",
      "North America    22.500000\n",
      "Europe           18.500000\n",
      "Asia              4.791667\n",
      "Name: Theme 6: Monitoring, dtype: float64\n"
     ]
    }
   ],
   "source": [
    "mean_scores_theme6 = ktc_ict_2022.groupby('Region')['Theme 6: Monitoring'].mean()\n",
    "mean_scores_theme6 = mean_scores_theme6.sort_values(ascending=False)\n",
    "print(mean_scores_theme6)"
   ]
  },
  {
   "attachments": {},
   "cell_type": "markdown",
   "metadata": {},
   "source": [
    "***Benchmark Scores Theme 7: Remedy***"
   ]
  },
  {
   "cell_type": "code",
   "execution_count": 68,
   "metadata": {},
   "outputs": [
    {
     "name": "stdout",
     "output_type": "stream",
     "text": [
      "Region\n",
      "North America    23.461538\n",
      "Europe           23.000000\n",
      "Asia              2.187500\n",
      "Name: Theme 7: Remedy, dtype: float64\n"
     ]
    }
   ],
   "source": [
    "mean_scores_theme7 = ktc_ict_2022.groupby('Region')['Theme 7: Remedy'].mean()\n",
    "mean_scores_theme7 = mean_scores_theme7.sort_values(ascending=False)\n",
    "print(mean_scores_theme7)"
   ]
  },
  {
   "attachments": {},
   "cell_type": "markdown",
   "metadata": {},
   "source": [
    "# **Section 3: Data Visualisation** # "
   ]
  },
  {
   "attachments": {},
   "cell_type": "markdown",
   "metadata": {},
   "source": [
    "## Basic Data Visualisation ##"
   ]
  },
  {
   "cell_type": "code",
   "execution_count": 20,
   "metadata": {},
   "outputs": [
    {
     "name": "stderr",
     "output_type": "stream",
     "text": [
      "C:\\Users\\kokuo\\AppData\\Local\\Temp\\ipykernel_17704\\3054604719.py:15: FutureWarning:\n",
      "\n",
      "The default value of numeric_only in DataFrameGroupBy.mean is deprecated. In a future version, numeric_only will default to False. Either specify numeric_only or select only columns which should be valid for the function.\n",
      "\n"
     ]
    },
    {
     "data": {
      "application/vnd.plotly.v1+json": {
       "config": {
        "plotlyServerURL": "https://plot.ly"
       },
       "data": [
        {
         "alignmentgroup": "True",
         "hovertemplate": "Region=Asia<br>Year of inclusion=%{x}<br>Total benchmark score=%{y}<extra></extra>",
         "legendgroup": "Asia",
         "marker": {
          "color": "#636efa",
          "pattern": {
           "shape": ""
          }
         },
         "name": "Asia",
         "offsetgroup": "Asia",
         "orientation": "v",
         "showlegend": true,
         "textposition": "auto",
         "type": "bar",
         "x": [
          2016,
          2018,
          2020,
          2022
         ],
         "xaxis": "x",
         "y": [
          21.55138485525926,
          12.606024351923075,
          10.653267964083334,
          2.52272727275
         ],
         "yaxis": "y"
        },
        {
         "alignmentgroup": "True",
         "hovertemplate": "Region=Europe<br>Year of inclusion=%{x}<br>Total benchmark score=%{y}<extra></extra>",
         "legendgroup": "Europe",
         "marker": {
          "color": "#EF553B",
          "pattern": {
           "shape": ""
          }
         },
         "name": "Europe",
         "offsetgroup": "Europe",
         "orientation": "v",
         "showlegend": true,
         "textposition": "auto",
         "type": "bar",
         "x": [
          2016,
          2018,
          2020,
          2022
         ],
         "xaxis": "x",
         "y": [
          34.136075700166664,
          28.915083585166666,
          19.113748318,
          25.53977273
         ],
         "yaxis": "y"
        },
        {
         "alignmentgroup": "True",
         "hovertemplate": "Region=North America<br>Year of inclusion=%{x}<br>Total benchmark score=%{y}<extra></extra>",
         "legendgroup": "North America",
         "marker": {
          "color": "#00cc96",
          "pattern": {
           "shape": ""
          }
         },
         "name": "North America",
         "offsetgroup": "North America",
         "orientation": "v",
         "showlegend": true,
         "textposition": "auto",
         "type": "bar",
         "x": [
          2016,
          2018,
          2020,
          2022
         ],
         "xaxis": "x",
         "y": [
          46.49099005358334,
          27.59657891213889,
          34.121866133750004,
          31.73863636
         ],
         "yaxis": "y"
        }
       ],
       "layout": {
        "barmode": "group",
        "legend": {
         "title": {
          "text": "Region"
         },
         "tracegroupgap": 0
        },
        "template": {
         "data": {
          "bar": [
           {
            "error_x": {
             "color": "#2a3f5f"
            },
            "error_y": {
             "color": "#2a3f5f"
            },
            "marker": {
             "line": {
              "color": "#E5ECF6",
              "width": 0.5
             },
             "pattern": {
              "fillmode": "overlay",
              "size": 10,
              "solidity": 0.2
             }
            },
            "type": "bar"
           }
          ],
          "barpolar": [
           {
            "marker": {
             "line": {
              "color": "#E5ECF6",
              "width": 0.5
             },
             "pattern": {
              "fillmode": "overlay",
              "size": 10,
              "solidity": 0.2
             }
            },
            "type": "barpolar"
           }
          ],
          "carpet": [
           {
            "aaxis": {
             "endlinecolor": "#2a3f5f",
             "gridcolor": "white",
             "linecolor": "white",
             "minorgridcolor": "white",
             "startlinecolor": "#2a3f5f"
            },
            "baxis": {
             "endlinecolor": "#2a3f5f",
             "gridcolor": "white",
             "linecolor": "white",
             "minorgridcolor": "white",
             "startlinecolor": "#2a3f5f"
            },
            "type": "carpet"
           }
          ],
          "choropleth": [
           {
            "colorbar": {
             "outlinewidth": 0,
             "ticks": ""
            },
            "type": "choropleth"
           }
          ],
          "contour": [
           {
            "colorbar": {
             "outlinewidth": 0,
             "ticks": ""
            },
            "colorscale": [
             [
              0,
              "#0d0887"
             ],
             [
              0.1111111111111111,
              "#46039f"
             ],
             [
              0.2222222222222222,
              "#7201a8"
             ],
             [
              0.3333333333333333,
              "#9c179e"
             ],
             [
              0.4444444444444444,
              "#bd3786"
             ],
             [
              0.5555555555555556,
              "#d8576b"
             ],
             [
              0.6666666666666666,
              "#ed7953"
             ],
             [
              0.7777777777777778,
              "#fb9f3a"
             ],
             [
              0.8888888888888888,
              "#fdca26"
             ],
             [
              1,
              "#f0f921"
             ]
            ],
            "type": "contour"
           }
          ],
          "contourcarpet": [
           {
            "colorbar": {
             "outlinewidth": 0,
             "ticks": ""
            },
            "type": "contourcarpet"
           }
          ],
          "heatmap": [
           {
            "colorbar": {
             "outlinewidth": 0,
             "ticks": ""
            },
            "colorscale": [
             [
              0,
              "#0d0887"
             ],
             [
              0.1111111111111111,
              "#46039f"
             ],
             [
              0.2222222222222222,
              "#7201a8"
             ],
             [
              0.3333333333333333,
              "#9c179e"
             ],
             [
              0.4444444444444444,
              "#bd3786"
             ],
             [
              0.5555555555555556,
              "#d8576b"
             ],
             [
              0.6666666666666666,
              "#ed7953"
             ],
             [
              0.7777777777777778,
              "#fb9f3a"
             ],
             [
              0.8888888888888888,
              "#fdca26"
             ],
             [
              1,
              "#f0f921"
             ]
            ],
            "type": "heatmap"
           }
          ],
          "heatmapgl": [
           {
            "colorbar": {
             "outlinewidth": 0,
             "ticks": ""
            },
            "colorscale": [
             [
              0,
              "#0d0887"
             ],
             [
              0.1111111111111111,
              "#46039f"
             ],
             [
              0.2222222222222222,
              "#7201a8"
             ],
             [
              0.3333333333333333,
              "#9c179e"
             ],
             [
              0.4444444444444444,
              "#bd3786"
             ],
             [
              0.5555555555555556,
              "#d8576b"
             ],
             [
              0.6666666666666666,
              "#ed7953"
             ],
             [
              0.7777777777777778,
              "#fb9f3a"
             ],
             [
              0.8888888888888888,
              "#fdca26"
             ],
             [
              1,
              "#f0f921"
             ]
            ],
            "type": "heatmapgl"
           }
          ],
          "histogram": [
           {
            "marker": {
             "pattern": {
              "fillmode": "overlay",
              "size": 10,
              "solidity": 0.2
             }
            },
            "type": "histogram"
           }
          ],
          "histogram2d": [
           {
            "colorbar": {
             "outlinewidth": 0,
             "ticks": ""
            },
            "colorscale": [
             [
              0,
              "#0d0887"
             ],
             [
              0.1111111111111111,
              "#46039f"
             ],
             [
              0.2222222222222222,
              "#7201a8"
             ],
             [
              0.3333333333333333,
              "#9c179e"
             ],
             [
              0.4444444444444444,
              "#bd3786"
             ],
             [
              0.5555555555555556,
              "#d8576b"
             ],
             [
              0.6666666666666666,
              "#ed7953"
             ],
             [
              0.7777777777777778,
              "#fb9f3a"
             ],
             [
              0.8888888888888888,
              "#fdca26"
             ],
             [
              1,
              "#f0f921"
             ]
            ],
            "type": "histogram2d"
           }
          ],
          "histogram2dcontour": [
           {
            "colorbar": {
             "outlinewidth": 0,
             "ticks": ""
            },
            "colorscale": [
             [
              0,
              "#0d0887"
             ],
             [
              0.1111111111111111,
              "#46039f"
             ],
             [
              0.2222222222222222,
              "#7201a8"
             ],
             [
              0.3333333333333333,
              "#9c179e"
             ],
             [
              0.4444444444444444,
              "#bd3786"
             ],
             [
              0.5555555555555556,
              "#d8576b"
             ],
             [
              0.6666666666666666,
              "#ed7953"
             ],
             [
              0.7777777777777778,
              "#fb9f3a"
             ],
             [
              0.8888888888888888,
              "#fdca26"
             ],
             [
              1,
              "#f0f921"
             ]
            ],
            "type": "histogram2dcontour"
           }
          ],
          "mesh3d": [
           {
            "colorbar": {
             "outlinewidth": 0,
             "ticks": ""
            },
            "type": "mesh3d"
           }
          ],
          "parcoords": [
           {
            "line": {
             "colorbar": {
              "outlinewidth": 0,
              "ticks": ""
             }
            },
            "type": "parcoords"
           }
          ],
          "pie": [
           {
            "automargin": true,
            "type": "pie"
           }
          ],
          "scatter": [
           {
            "fillpattern": {
             "fillmode": "overlay",
             "size": 10,
             "solidity": 0.2
            },
            "type": "scatter"
           }
          ],
          "scatter3d": [
           {
            "line": {
             "colorbar": {
              "outlinewidth": 0,
              "ticks": ""
             }
            },
            "marker": {
             "colorbar": {
              "outlinewidth": 0,
              "ticks": ""
             }
            },
            "type": "scatter3d"
           }
          ],
          "scattercarpet": [
           {
            "marker": {
             "colorbar": {
              "outlinewidth": 0,
              "ticks": ""
             }
            },
            "type": "scattercarpet"
           }
          ],
          "scattergeo": [
           {
            "marker": {
             "colorbar": {
              "outlinewidth": 0,
              "ticks": ""
             }
            },
            "type": "scattergeo"
           }
          ],
          "scattergl": [
           {
            "marker": {
             "colorbar": {
              "outlinewidth": 0,
              "ticks": ""
             }
            },
            "type": "scattergl"
           }
          ],
          "scattermapbox": [
           {
            "marker": {
             "colorbar": {
              "outlinewidth": 0,
              "ticks": ""
             }
            },
            "type": "scattermapbox"
           }
          ],
          "scatterpolar": [
           {
            "marker": {
             "colorbar": {
              "outlinewidth": 0,
              "ticks": ""
             }
            },
            "type": "scatterpolar"
           }
          ],
          "scatterpolargl": [
           {
            "marker": {
             "colorbar": {
              "outlinewidth": 0,
              "ticks": ""
             }
            },
            "type": "scatterpolargl"
           }
          ],
          "scatterternary": [
           {
            "marker": {
             "colorbar": {
              "outlinewidth": 0,
              "ticks": ""
             }
            },
            "type": "scatterternary"
           }
          ],
          "surface": [
           {
            "colorbar": {
             "outlinewidth": 0,
             "ticks": ""
            },
            "colorscale": [
             [
              0,
              "#0d0887"
             ],
             [
              0.1111111111111111,
              "#46039f"
             ],
             [
              0.2222222222222222,
              "#7201a8"
             ],
             [
              0.3333333333333333,
              "#9c179e"
             ],
             [
              0.4444444444444444,
              "#bd3786"
             ],
             [
              0.5555555555555556,
              "#d8576b"
             ],
             [
              0.6666666666666666,
              "#ed7953"
             ],
             [
              0.7777777777777778,
              "#fb9f3a"
             ],
             [
              0.8888888888888888,
              "#fdca26"
             ],
             [
              1,
              "#f0f921"
             ]
            ],
            "type": "surface"
           }
          ],
          "table": [
           {
            "cells": {
             "fill": {
              "color": "#EBF0F8"
             },
             "line": {
              "color": "white"
             }
            },
            "header": {
             "fill": {
              "color": "#C8D4E3"
             },
             "line": {
              "color": "white"
             }
            },
            "type": "table"
           }
          ]
         },
         "layout": {
          "annotationdefaults": {
           "arrowcolor": "#2a3f5f",
           "arrowhead": 0,
           "arrowwidth": 1
          },
          "autotypenumbers": "strict",
          "coloraxis": {
           "colorbar": {
            "outlinewidth": 0,
            "ticks": ""
           }
          },
          "colorscale": {
           "diverging": [
            [
             0,
             "#8e0152"
            ],
            [
             0.1,
             "#c51b7d"
            ],
            [
             0.2,
             "#de77ae"
            ],
            [
             0.3,
             "#f1b6da"
            ],
            [
             0.4,
             "#fde0ef"
            ],
            [
             0.5,
             "#f7f7f7"
            ],
            [
             0.6,
             "#e6f5d0"
            ],
            [
             0.7,
             "#b8e186"
            ],
            [
             0.8,
             "#7fbc41"
            ],
            [
             0.9,
             "#4d9221"
            ],
            [
             1,
             "#276419"
            ]
           ],
           "sequential": [
            [
             0,
             "#0d0887"
            ],
            [
             0.1111111111111111,
             "#46039f"
            ],
            [
             0.2222222222222222,
             "#7201a8"
            ],
            [
             0.3333333333333333,
             "#9c179e"
            ],
            [
             0.4444444444444444,
             "#bd3786"
            ],
            [
             0.5555555555555556,
             "#d8576b"
            ],
            [
             0.6666666666666666,
             "#ed7953"
            ],
            [
             0.7777777777777778,
             "#fb9f3a"
            ],
            [
             0.8888888888888888,
             "#fdca26"
            ],
            [
             1,
             "#f0f921"
            ]
           ],
           "sequentialminus": [
            [
             0,
             "#0d0887"
            ],
            [
             0.1111111111111111,
             "#46039f"
            ],
            [
             0.2222222222222222,
             "#7201a8"
            ],
            [
             0.3333333333333333,
             "#9c179e"
            ],
            [
             0.4444444444444444,
             "#bd3786"
            ],
            [
             0.5555555555555556,
             "#d8576b"
            ],
            [
             0.6666666666666666,
             "#ed7953"
            ],
            [
             0.7777777777777778,
             "#fb9f3a"
            ],
            [
             0.8888888888888888,
             "#fdca26"
            ],
            [
             1,
             "#f0f921"
            ]
           ]
          },
          "colorway": [
           "#636efa",
           "#EF553B",
           "#00cc96",
           "#ab63fa",
           "#FFA15A",
           "#19d3f3",
           "#FF6692",
           "#B6E880",
           "#FF97FF",
           "#FECB52"
          ],
          "font": {
           "color": "#2a3f5f"
          },
          "geo": {
           "bgcolor": "white",
           "lakecolor": "white",
           "landcolor": "#E5ECF6",
           "showlakes": true,
           "showland": true,
           "subunitcolor": "white"
          },
          "hoverlabel": {
           "align": "left"
          },
          "hovermode": "closest",
          "mapbox": {
           "style": "light"
          },
          "paper_bgcolor": "white",
          "plot_bgcolor": "#E5ECF6",
          "polar": {
           "angularaxis": {
            "gridcolor": "white",
            "linecolor": "white",
            "ticks": ""
           },
           "bgcolor": "#E5ECF6",
           "radialaxis": {
            "gridcolor": "white",
            "linecolor": "white",
            "ticks": ""
           }
          },
          "scene": {
           "xaxis": {
            "backgroundcolor": "#E5ECF6",
            "gridcolor": "white",
            "gridwidth": 2,
            "linecolor": "white",
            "showbackground": true,
            "ticks": "",
            "zerolinecolor": "white"
           },
           "yaxis": {
            "backgroundcolor": "#E5ECF6",
            "gridcolor": "white",
            "gridwidth": 2,
            "linecolor": "white",
            "showbackground": true,
            "ticks": "",
            "zerolinecolor": "white"
           },
           "zaxis": {
            "backgroundcolor": "#E5ECF6",
            "gridcolor": "white",
            "gridwidth": 2,
            "linecolor": "white",
            "showbackground": true,
            "ticks": "",
            "zerolinecolor": "white"
           }
          },
          "shapedefaults": {
           "line": {
            "color": "#2a3f5f"
           }
          },
          "ternary": {
           "aaxis": {
            "gridcolor": "white",
            "linecolor": "white",
            "ticks": ""
           },
           "baxis": {
            "gridcolor": "white",
            "linecolor": "white",
            "ticks": ""
           },
           "bgcolor": "#E5ECF6",
           "caxis": {
            "gridcolor": "white",
            "linecolor": "white",
            "ticks": ""
           }
          },
          "title": {
           "x": 0.05
          },
          "xaxis": {
           "automargin": true,
           "gridcolor": "white",
           "linecolor": "white",
           "ticks": "",
           "title": {
            "standoff": 15
           },
           "zerolinecolor": "white",
           "zerolinewidth": 2
          },
          "yaxis": {
           "automargin": true,
           "gridcolor": "white",
           "linecolor": "white",
           "ticks": "",
           "title": {
            "standoff": 15
           },
           "zerolinecolor": "white",
           "zerolinewidth": 2
          }
         }
        },
        "title": {
         "text": "Average Benchmark Scores by Year and Region"
        },
        "xaxis": {
         "anchor": "y",
         "domain": [
          0,
          1
         ],
         "title": {
          "text": "Year of inclusion"
         }
        },
        "yaxis": {
         "anchor": "x",
         "domain": [
          0,
          1
         ],
         "title": {
          "text": "Total benchmark score"
         }
        }
       }
      }
     },
     "metadata": {},
     "output_type": "display_data"
    }
   ],
   "source": [
    "import pandas as pd\n",
    "import plotly.express as px\n",
    "import plotly.graph_objects as go\n",
    "\n",
    "# Load the three dataframes\n",
    "ktc_ict_2022 = pd.read_csv(\"C:/Users/kokuo/OneDrive/Study Files/Python/Visualisation Experiments/Know the Chain/KTC ICT Benchmark CSV Data/2022 KCT ICT.csv\")\n",
    "ktc_ict_2020 = pd.read_csv(\"C:/Users/kokuo/OneDrive/Study Files/Python/Visualisation Experiments/Know the Chain/KTC ICT Benchmark CSV Data/2020 KCT ICT.csv\")\n",
    "ktc_ict_2018 = pd.read_csv(\"C:/Users/kokuo/OneDrive/Study Files/Python/Visualisation Experiments/Know the Chain/KTC ICT Benchmark CSV Data/2018 KCT ICT.csv\")\n",
    "\n",
    "# Concatenate the dataframes\n",
    "frames = [ktc_ict_2022, ktc_ict_2020, ktc_ict_2018]\n",
    "df = pd.concat(frames)\n",
    "\n",
    "# Calculate the average benchmark score for each region\n",
    "df_mean = df.groupby(['Region', 'Year of inclusion']).mean().reset_index()\n",
    "\n",
    "# Create the multiple bar graph\n",
    "fig = px.bar(df_mean, x=\"Year of inclusion\", y=\"Total benchmark score\", color=\"Region\", barmode=\"group\", \n",
    "             title=\"Average Benchmark Scores by Year and Region\")\n",
    "\n",
    "# Show the graph\n",
    "fig.show()\n"
   ]
  },
  {
   "cell_type": "code",
   "execution_count": 31,
   "metadata": {},
   "outputs": [
    {
     "name": "stderr",
     "output_type": "stream",
     "text": [
      "C:\\Users\\kokuo\\AppData\\Local\\Temp\\ipykernel_17704\\2567220824.py:14: FutureWarning:\n",
      "\n",
      "The default value of numeric_only in DataFrameGroupBy.mean is deprecated. In a future version, numeric_only will default to False. Either specify numeric_only or select only columns which should be valid for the function.\n",
      "\n"
     ]
    },
    {
     "data": {
      "application/vnd.plotly.v1+json": {
       "config": {
        "plotlyServerURL": "https://plot.ly"
       },
       "data": [
        {
         "name": "2018",
         "type": "bar",
         "x": [
          "Asia",
          "Europe",
          "North America"
         ],
         "y": [
          12.606024351923075,
          28.915083585166666,
          27.59657891213889
         ]
        },
        {
         "name": "2020",
         "type": "bar",
         "x": [
          "Asia",
          "Europe",
          "North America"
         ],
         "y": [
          10.653267964083334,
          19.113748318,
          34.121866133750004
         ]
        },
        {
         "name": "2022",
         "type": "bar",
         "x": [
          "Asia",
          "Europe",
          "North America"
         ],
         "y": [
          2.52272727275,
          25.53977273,
          31.73863636
         ]
        }
       ],
       "layout": {
        "barmode": "group",
        "template": {
         "data": {
          "bar": [
           {
            "error_x": {
             "color": "#2a3f5f"
            },
            "error_y": {
             "color": "#2a3f5f"
            },
            "marker": {
             "line": {
              "color": "#E5ECF6",
              "width": 0.5
             },
             "pattern": {
              "fillmode": "overlay",
              "size": 10,
              "solidity": 0.2
             }
            },
            "type": "bar"
           }
          ],
          "barpolar": [
           {
            "marker": {
             "line": {
              "color": "#E5ECF6",
              "width": 0.5
             },
             "pattern": {
              "fillmode": "overlay",
              "size": 10,
              "solidity": 0.2
             }
            },
            "type": "barpolar"
           }
          ],
          "carpet": [
           {
            "aaxis": {
             "endlinecolor": "#2a3f5f",
             "gridcolor": "white",
             "linecolor": "white",
             "minorgridcolor": "white",
             "startlinecolor": "#2a3f5f"
            },
            "baxis": {
             "endlinecolor": "#2a3f5f",
             "gridcolor": "white",
             "linecolor": "white",
             "minorgridcolor": "white",
             "startlinecolor": "#2a3f5f"
            },
            "type": "carpet"
           }
          ],
          "choropleth": [
           {
            "colorbar": {
             "outlinewidth": 0,
             "ticks": ""
            },
            "type": "choropleth"
           }
          ],
          "contour": [
           {
            "colorbar": {
             "outlinewidth": 0,
             "ticks": ""
            },
            "colorscale": [
             [
              0,
              "#0d0887"
             ],
             [
              0.1111111111111111,
              "#46039f"
             ],
             [
              0.2222222222222222,
              "#7201a8"
             ],
             [
              0.3333333333333333,
              "#9c179e"
             ],
             [
              0.4444444444444444,
              "#bd3786"
             ],
             [
              0.5555555555555556,
              "#d8576b"
             ],
             [
              0.6666666666666666,
              "#ed7953"
             ],
             [
              0.7777777777777778,
              "#fb9f3a"
             ],
             [
              0.8888888888888888,
              "#fdca26"
             ],
             [
              1,
              "#f0f921"
             ]
            ],
            "type": "contour"
           }
          ],
          "contourcarpet": [
           {
            "colorbar": {
             "outlinewidth": 0,
             "ticks": ""
            },
            "type": "contourcarpet"
           }
          ],
          "heatmap": [
           {
            "colorbar": {
             "outlinewidth": 0,
             "ticks": ""
            },
            "colorscale": [
             [
              0,
              "#0d0887"
             ],
             [
              0.1111111111111111,
              "#46039f"
             ],
             [
              0.2222222222222222,
              "#7201a8"
             ],
             [
              0.3333333333333333,
              "#9c179e"
             ],
             [
              0.4444444444444444,
              "#bd3786"
             ],
             [
              0.5555555555555556,
              "#d8576b"
             ],
             [
              0.6666666666666666,
              "#ed7953"
             ],
             [
              0.7777777777777778,
              "#fb9f3a"
             ],
             [
              0.8888888888888888,
              "#fdca26"
             ],
             [
              1,
              "#f0f921"
             ]
            ],
            "type": "heatmap"
           }
          ],
          "heatmapgl": [
           {
            "colorbar": {
             "outlinewidth": 0,
             "ticks": ""
            },
            "colorscale": [
             [
              0,
              "#0d0887"
             ],
             [
              0.1111111111111111,
              "#46039f"
             ],
             [
              0.2222222222222222,
              "#7201a8"
             ],
             [
              0.3333333333333333,
              "#9c179e"
             ],
             [
              0.4444444444444444,
              "#bd3786"
             ],
             [
              0.5555555555555556,
              "#d8576b"
             ],
             [
              0.6666666666666666,
              "#ed7953"
             ],
             [
              0.7777777777777778,
              "#fb9f3a"
             ],
             [
              0.8888888888888888,
              "#fdca26"
             ],
             [
              1,
              "#f0f921"
             ]
            ],
            "type": "heatmapgl"
           }
          ],
          "histogram": [
           {
            "marker": {
             "pattern": {
              "fillmode": "overlay",
              "size": 10,
              "solidity": 0.2
             }
            },
            "type": "histogram"
           }
          ],
          "histogram2d": [
           {
            "colorbar": {
             "outlinewidth": 0,
             "ticks": ""
            },
            "colorscale": [
             [
              0,
              "#0d0887"
             ],
             [
              0.1111111111111111,
              "#46039f"
             ],
             [
              0.2222222222222222,
              "#7201a8"
             ],
             [
              0.3333333333333333,
              "#9c179e"
             ],
             [
              0.4444444444444444,
              "#bd3786"
             ],
             [
              0.5555555555555556,
              "#d8576b"
             ],
             [
              0.6666666666666666,
              "#ed7953"
             ],
             [
              0.7777777777777778,
              "#fb9f3a"
             ],
             [
              0.8888888888888888,
              "#fdca26"
             ],
             [
              1,
              "#f0f921"
             ]
            ],
            "type": "histogram2d"
           }
          ],
          "histogram2dcontour": [
           {
            "colorbar": {
             "outlinewidth": 0,
             "ticks": ""
            },
            "colorscale": [
             [
              0,
              "#0d0887"
             ],
             [
              0.1111111111111111,
              "#46039f"
             ],
             [
              0.2222222222222222,
              "#7201a8"
             ],
             [
              0.3333333333333333,
              "#9c179e"
             ],
             [
              0.4444444444444444,
              "#bd3786"
             ],
             [
              0.5555555555555556,
              "#d8576b"
             ],
             [
              0.6666666666666666,
              "#ed7953"
             ],
             [
              0.7777777777777778,
              "#fb9f3a"
             ],
             [
              0.8888888888888888,
              "#fdca26"
             ],
             [
              1,
              "#f0f921"
             ]
            ],
            "type": "histogram2dcontour"
           }
          ],
          "mesh3d": [
           {
            "colorbar": {
             "outlinewidth": 0,
             "ticks": ""
            },
            "type": "mesh3d"
           }
          ],
          "parcoords": [
           {
            "line": {
             "colorbar": {
              "outlinewidth": 0,
              "ticks": ""
             }
            },
            "type": "parcoords"
           }
          ],
          "pie": [
           {
            "automargin": true,
            "type": "pie"
           }
          ],
          "scatter": [
           {
            "fillpattern": {
             "fillmode": "overlay",
             "size": 10,
             "solidity": 0.2
            },
            "type": "scatter"
           }
          ],
          "scatter3d": [
           {
            "line": {
             "colorbar": {
              "outlinewidth": 0,
              "ticks": ""
             }
            },
            "marker": {
             "colorbar": {
              "outlinewidth": 0,
              "ticks": ""
             }
            },
            "type": "scatter3d"
           }
          ],
          "scattercarpet": [
           {
            "marker": {
             "colorbar": {
              "outlinewidth": 0,
              "ticks": ""
             }
            },
            "type": "scattercarpet"
           }
          ],
          "scattergeo": [
           {
            "marker": {
             "colorbar": {
              "outlinewidth": 0,
              "ticks": ""
             }
            },
            "type": "scattergeo"
           }
          ],
          "scattergl": [
           {
            "marker": {
             "colorbar": {
              "outlinewidth": 0,
              "ticks": ""
             }
            },
            "type": "scattergl"
           }
          ],
          "scattermapbox": [
           {
            "marker": {
             "colorbar": {
              "outlinewidth": 0,
              "ticks": ""
             }
            },
            "type": "scattermapbox"
           }
          ],
          "scatterpolar": [
           {
            "marker": {
             "colorbar": {
              "outlinewidth": 0,
              "ticks": ""
             }
            },
            "type": "scatterpolar"
           }
          ],
          "scatterpolargl": [
           {
            "marker": {
             "colorbar": {
              "outlinewidth": 0,
              "ticks": ""
             }
            },
            "type": "scatterpolargl"
           }
          ],
          "scatterternary": [
           {
            "marker": {
             "colorbar": {
              "outlinewidth": 0,
              "ticks": ""
             }
            },
            "type": "scatterternary"
           }
          ],
          "surface": [
           {
            "colorbar": {
             "outlinewidth": 0,
             "ticks": ""
            },
            "colorscale": [
             [
              0,
              "#0d0887"
             ],
             [
              0.1111111111111111,
              "#46039f"
             ],
             [
              0.2222222222222222,
              "#7201a8"
             ],
             [
              0.3333333333333333,
              "#9c179e"
             ],
             [
              0.4444444444444444,
              "#bd3786"
             ],
             [
              0.5555555555555556,
              "#d8576b"
             ],
             [
              0.6666666666666666,
              "#ed7953"
             ],
             [
              0.7777777777777778,
              "#fb9f3a"
             ],
             [
              0.8888888888888888,
              "#fdca26"
             ],
             [
              1,
              "#f0f921"
             ]
            ],
            "type": "surface"
           }
          ],
          "table": [
           {
            "cells": {
             "fill": {
              "color": "#EBF0F8"
             },
             "line": {
              "color": "white"
             }
            },
            "header": {
             "fill": {
              "color": "#C8D4E3"
             },
             "line": {
              "color": "white"
             }
            },
            "type": "table"
           }
          ]
         },
         "layout": {
          "annotationdefaults": {
           "arrowcolor": "#2a3f5f",
           "arrowhead": 0,
           "arrowwidth": 1
          },
          "autotypenumbers": "strict",
          "coloraxis": {
           "colorbar": {
            "outlinewidth": 0,
            "ticks": ""
           }
          },
          "colorscale": {
           "diverging": [
            [
             0,
             "#8e0152"
            ],
            [
             0.1,
             "#c51b7d"
            ],
            [
             0.2,
             "#de77ae"
            ],
            [
             0.3,
             "#f1b6da"
            ],
            [
             0.4,
             "#fde0ef"
            ],
            [
             0.5,
             "#f7f7f7"
            ],
            [
             0.6,
             "#e6f5d0"
            ],
            [
             0.7,
             "#b8e186"
            ],
            [
             0.8,
             "#7fbc41"
            ],
            [
             0.9,
             "#4d9221"
            ],
            [
             1,
             "#276419"
            ]
           ],
           "sequential": [
            [
             0,
             "#0d0887"
            ],
            [
             0.1111111111111111,
             "#46039f"
            ],
            [
             0.2222222222222222,
             "#7201a8"
            ],
            [
             0.3333333333333333,
             "#9c179e"
            ],
            [
             0.4444444444444444,
             "#bd3786"
            ],
            [
             0.5555555555555556,
             "#d8576b"
            ],
            [
             0.6666666666666666,
             "#ed7953"
            ],
            [
             0.7777777777777778,
             "#fb9f3a"
            ],
            [
             0.8888888888888888,
             "#fdca26"
            ],
            [
             1,
             "#f0f921"
            ]
           ],
           "sequentialminus": [
            [
             0,
             "#0d0887"
            ],
            [
             0.1111111111111111,
             "#46039f"
            ],
            [
             0.2222222222222222,
             "#7201a8"
            ],
            [
             0.3333333333333333,
             "#9c179e"
            ],
            [
             0.4444444444444444,
             "#bd3786"
            ],
            [
             0.5555555555555556,
             "#d8576b"
            ],
            [
             0.6666666666666666,
             "#ed7953"
            ],
            [
             0.7777777777777778,
             "#fb9f3a"
            ],
            [
             0.8888888888888888,
             "#fdca26"
            ],
            [
             1,
             "#f0f921"
            ]
           ]
          },
          "colorway": [
           "#636efa",
           "#EF553B",
           "#00cc96",
           "#ab63fa",
           "#FFA15A",
           "#19d3f3",
           "#FF6692",
           "#B6E880",
           "#FF97FF",
           "#FECB52"
          ],
          "font": {
           "color": "#2a3f5f"
          },
          "geo": {
           "bgcolor": "white",
           "lakecolor": "white",
           "landcolor": "#E5ECF6",
           "showlakes": true,
           "showland": true,
           "subunitcolor": "white"
          },
          "hoverlabel": {
           "align": "left"
          },
          "hovermode": "closest",
          "mapbox": {
           "style": "light"
          },
          "paper_bgcolor": "white",
          "plot_bgcolor": "#E5ECF6",
          "polar": {
           "angularaxis": {
            "gridcolor": "white",
            "linecolor": "white",
            "ticks": ""
           },
           "bgcolor": "#E5ECF6",
           "radialaxis": {
            "gridcolor": "white",
            "linecolor": "white",
            "ticks": ""
           }
          },
          "scene": {
           "xaxis": {
            "backgroundcolor": "#E5ECF6",
            "gridcolor": "white",
            "gridwidth": 2,
            "linecolor": "white",
            "showbackground": true,
            "ticks": "",
            "zerolinecolor": "white"
           },
           "yaxis": {
            "backgroundcolor": "#E5ECF6",
            "gridcolor": "white",
            "gridwidth": 2,
            "linecolor": "white",
            "showbackground": true,
            "ticks": "",
            "zerolinecolor": "white"
           },
           "zaxis": {
            "backgroundcolor": "#E5ECF6",
            "gridcolor": "white",
            "gridwidth": 2,
            "linecolor": "white",
            "showbackground": true,
            "ticks": "",
            "zerolinecolor": "white"
           }
          },
          "shapedefaults": {
           "line": {
            "color": "#2a3f5f"
           }
          },
          "ternary": {
           "aaxis": {
            "gridcolor": "white",
            "linecolor": "white",
            "ticks": ""
           },
           "baxis": {
            "gridcolor": "white",
            "linecolor": "white",
            "ticks": ""
           },
           "bgcolor": "#E5ECF6",
           "caxis": {
            "gridcolor": "white",
            "linecolor": "white",
            "ticks": ""
           }
          },
          "title": {
           "x": 0.05
          },
          "xaxis": {
           "automargin": true,
           "gridcolor": "white",
           "linecolor": "white",
           "ticks": "",
           "title": {
            "standoff": 15
           },
           "zerolinecolor": "white",
           "zerolinewidth": 2
          },
          "yaxis": {
           "automargin": true,
           "gridcolor": "white",
           "linecolor": "white",
           "ticks": "",
           "title": {
            "standoff": 15
           },
           "zerolinecolor": "white",
           "zerolinewidth": 2
          }
         }
        },
        "xaxis": {
         "title": {
          "text": "Region"
         }
        },
        "yaxis": {
         "title": {
          "text": "Total benchmark score"
         }
        }
       }
      }
     },
     "metadata": {},
     "output_type": "display_data"
    }
   ],
   "source": [
    "import pandas as pd\n",
    "import plotly.graph_objects as go\n",
    "\n",
    "# Load the three dataframes\n",
    "ktc_ict_2022 = pd.read_csv(\"C:/Users/kokuo/OneDrive/Study Files/Python/Visualisation Experiments/Know the Chain/KTC ICT Benchmark CSV Data/2022 KCT ICT.csv\")\n",
    "ktc_ict_2020 = pd.read_csv(\"C:/Users/kokuo/OneDrive/Study Files/Python/Visualisation Experiments/Know the Chain/KTC ICT Benchmark CSV Data/2020 KCT ICT.csv\")\n",
    "ktc_ict_2018 = pd.read_csv(\"C:/Users/kokuo/OneDrive/Study Files/Python/Visualisation Experiments/Know the Chain/KTC ICT Benchmark CSV Data/2018 KCT ICT.csv\")\n",
    "\n",
    "# Concatenate the dataframes\n",
    "frames = [ktc_ict_2022, ktc_ict_2020, ktc_ict_2018]\n",
    "df = pd.concat(frames)\n",
    "\n",
    "# Calculate the average benchmark score for each region\n",
    "df_mean = df.groupby(['Region', 'Year of inclusion']).mean().reset_index()\n",
    "\n",
    "# Create the multiple bar graph\n",
    "fig = go.Figure(data=[\n",
    "    go.Bar(name='2018', x=df_mean[df_mean['Year of inclusion'] == 2018]['Region'], y=df_mean[df_mean['Year of inclusion'] == 2018]['Total benchmark score']),\n",
    "    go.Bar(name='2020', x=df_mean[df_mean['Year of inclusion'] == 2020]['Region'], y=df_mean[df_mean['Year of inclusion'] == 2020]['Total benchmark score']),\n",
    "    go.Bar(name='2022', x=df_mean[df_mean['Year of inclusion'] == 2022]['Region'], y=df_mean[df_mean['Year of inclusion'] == 2022]['Total benchmark score'])\n",
    "])\n",
    "\n",
    "# Update the layout\n",
    "fig.update_layout(barmode='group', xaxis_title='Region', yaxis_title='Total benchmark score')\n",
    "\n",
    "# Show the graph\n",
    "fig.show()\n"
   ]
  },
  {
   "cell_type": "code",
   "execution_count": 30,
   "metadata": {},
   "outputs": [
    {
     "name": "stderr",
     "output_type": "stream",
     "text": [
      "C:\\Users\\kokuo\\AppData\\Local\\Temp\\ipykernel_17704\\1226192671.py:14: FutureWarning:\n",
      "\n",
      "The default value of numeric_only in DataFrameGroupBy.mean is deprecated. In a future version, numeric_only will default to False. Either specify numeric_only or select only columns which should be valid for the function.\n",
      "\n"
     ]
    },
    {
     "data": {
      "application/vnd.plotly.v1+json": {
       "config": {
        "plotlyServerURL": "https://plot.ly"
       },
       "data": [
        {
         "marker": {
          "color": [
           "red",
           "blue",
           "green"
          ]
         },
         "name": "2018",
         "type": "bar",
         "x": [
          "Asia",
          "Europe",
          "North America"
         ],
         "y": [
          12.606024351923075,
          28.915083585166666,
          27.59657891213889
         ]
        },
        {
         "marker": {
          "color": [
           "red",
           "blue",
           "green"
          ]
         },
         "name": "2020",
         "type": "bar",
         "x": [
          "Asia",
          "Europe",
          "North America"
         ],
         "y": [
          10.653267964083334,
          19.113748318,
          34.121866133750004
         ]
        },
        {
         "marker": {
          "color": [
           "red",
           "blue",
           "green"
          ]
         },
         "name": "2022",
         "type": "bar",
         "x": [
          "Asia",
          "Europe",
          "North America"
         ],
         "y": [
          2.52272727275,
          25.53977273,
          31.73863636
         ]
        }
       ],
       "layout": {
        "barmode": "group",
        "template": {
         "data": {
          "bar": [
           {
            "error_x": {
             "color": "#2a3f5f"
            },
            "error_y": {
             "color": "#2a3f5f"
            },
            "marker": {
             "line": {
              "color": "#E5ECF6",
              "width": 0.5
             },
             "pattern": {
              "fillmode": "overlay",
              "size": 10,
              "solidity": 0.2
             }
            },
            "type": "bar"
           }
          ],
          "barpolar": [
           {
            "marker": {
             "line": {
              "color": "#E5ECF6",
              "width": 0.5
             },
             "pattern": {
              "fillmode": "overlay",
              "size": 10,
              "solidity": 0.2
             }
            },
            "type": "barpolar"
           }
          ],
          "carpet": [
           {
            "aaxis": {
             "endlinecolor": "#2a3f5f",
             "gridcolor": "white",
             "linecolor": "white",
             "minorgridcolor": "white",
             "startlinecolor": "#2a3f5f"
            },
            "baxis": {
             "endlinecolor": "#2a3f5f",
             "gridcolor": "white",
             "linecolor": "white",
             "minorgridcolor": "white",
             "startlinecolor": "#2a3f5f"
            },
            "type": "carpet"
           }
          ],
          "choropleth": [
           {
            "colorbar": {
             "outlinewidth": 0,
             "ticks": ""
            },
            "type": "choropleth"
           }
          ],
          "contour": [
           {
            "colorbar": {
             "outlinewidth": 0,
             "ticks": ""
            },
            "colorscale": [
             [
              0,
              "#0d0887"
             ],
             [
              0.1111111111111111,
              "#46039f"
             ],
             [
              0.2222222222222222,
              "#7201a8"
             ],
             [
              0.3333333333333333,
              "#9c179e"
             ],
             [
              0.4444444444444444,
              "#bd3786"
             ],
             [
              0.5555555555555556,
              "#d8576b"
             ],
             [
              0.6666666666666666,
              "#ed7953"
             ],
             [
              0.7777777777777778,
              "#fb9f3a"
             ],
             [
              0.8888888888888888,
              "#fdca26"
             ],
             [
              1,
              "#f0f921"
             ]
            ],
            "type": "contour"
           }
          ],
          "contourcarpet": [
           {
            "colorbar": {
             "outlinewidth": 0,
             "ticks": ""
            },
            "type": "contourcarpet"
           }
          ],
          "heatmap": [
           {
            "colorbar": {
             "outlinewidth": 0,
             "ticks": ""
            },
            "colorscale": [
             [
              0,
              "#0d0887"
             ],
             [
              0.1111111111111111,
              "#46039f"
             ],
             [
              0.2222222222222222,
              "#7201a8"
             ],
             [
              0.3333333333333333,
              "#9c179e"
             ],
             [
              0.4444444444444444,
              "#bd3786"
             ],
             [
              0.5555555555555556,
              "#d8576b"
             ],
             [
              0.6666666666666666,
              "#ed7953"
             ],
             [
              0.7777777777777778,
              "#fb9f3a"
             ],
             [
              0.8888888888888888,
              "#fdca26"
             ],
             [
              1,
              "#f0f921"
             ]
            ],
            "type": "heatmap"
           }
          ],
          "heatmapgl": [
           {
            "colorbar": {
             "outlinewidth": 0,
             "ticks": ""
            },
            "colorscale": [
             [
              0,
              "#0d0887"
             ],
             [
              0.1111111111111111,
              "#46039f"
             ],
             [
              0.2222222222222222,
              "#7201a8"
             ],
             [
              0.3333333333333333,
              "#9c179e"
             ],
             [
              0.4444444444444444,
              "#bd3786"
             ],
             [
              0.5555555555555556,
              "#d8576b"
             ],
             [
              0.6666666666666666,
              "#ed7953"
             ],
             [
              0.7777777777777778,
              "#fb9f3a"
             ],
             [
              0.8888888888888888,
              "#fdca26"
             ],
             [
              1,
              "#f0f921"
             ]
            ],
            "type": "heatmapgl"
           }
          ],
          "histogram": [
           {
            "marker": {
             "pattern": {
              "fillmode": "overlay",
              "size": 10,
              "solidity": 0.2
             }
            },
            "type": "histogram"
           }
          ],
          "histogram2d": [
           {
            "colorbar": {
             "outlinewidth": 0,
             "ticks": ""
            },
            "colorscale": [
             [
              0,
              "#0d0887"
             ],
             [
              0.1111111111111111,
              "#46039f"
             ],
             [
              0.2222222222222222,
              "#7201a8"
             ],
             [
              0.3333333333333333,
              "#9c179e"
             ],
             [
              0.4444444444444444,
              "#bd3786"
             ],
             [
              0.5555555555555556,
              "#d8576b"
             ],
             [
              0.6666666666666666,
              "#ed7953"
             ],
             [
              0.7777777777777778,
              "#fb9f3a"
             ],
             [
              0.8888888888888888,
              "#fdca26"
             ],
             [
              1,
              "#f0f921"
             ]
            ],
            "type": "histogram2d"
           }
          ],
          "histogram2dcontour": [
           {
            "colorbar": {
             "outlinewidth": 0,
             "ticks": ""
            },
            "colorscale": [
             [
              0,
              "#0d0887"
             ],
             [
              0.1111111111111111,
              "#46039f"
             ],
             [
              0.2222222222222222,
              "#7201a8"
             ],
             [
              0.3333333333333333,
              "#9c179e"
             ],
             [
              0.4444444444444444,
              "#bd3786"
             ],
             [
              0.5555555555555556,
              "#d8576b"
             ],
             [
              0.6666666666666666,
              "#ed7953"
             ],
             [
              0.7777777777777778,
              "#fb9f3a"
             ],
             [
              0.8888888888888888,
              "#fdca26"
             ],
             [
              1,
              "#f0f921"
             ]
            ],
            "type": "histogram2dcontour"
           }
          ],
          "mesh3d": [
           {
            "colorbar": {
             "outlinewidth": 0,
             "ticks": ""
            },
            "type": "mesh3d"
           }
          ],
          "parcoords": [
           {
            "line": {
             "colorbar": {
              "outlinewidth": 0,
              "ticks": ""
             }
            },
            "type": "parcoords"
           }
          ],
          "pie": [
           {
            "automargin": true,
            "type": "pie"
           }
          ],
          "scatter": [
           {
            "fillpattern": {
             "fillmode": "overlay",
             "size": 10,
             "solidity": 0.2
            },
            "type": "scatter"
           }
          ],
          "scatter3d": [
           {
            "line": {
             "colorbar": {
              "outlinewidth": 0,
              "ticks": ""
             }
            },
            "marker": {
             "colorbar": {
              "outlinewidth": 0,
              "ticks": ""
             }
            },
            "type": "scatter3d"
           }
          ],
          "scattercarpet": [
           {
            "marker": {
             "colorbar": {
              "outlinewidth": 0,
              "ticks": ""
             }
            },
            "type": "scattercarpet"
           }
          ],
          "scattergeo": [
           {
            "marker": {
             "colorbar": {
              "outlinewidth": 0,
              "ticks": ""
             }
            },
            "type": "scattergeo"
           }
          ],
          "scattergl": [
           {
            "marker": {
             "colorbar": {
              "outlinewidth": 0,
              "ticks": ""
             }
            },
            "type": "scattergl"
           }
          ],
          "scattermapbox": [
           {
            "marker": {
             "colorbar": {
              "outlinewidth": 0,
              "ticks": ""
             }
            },
            "type": "scattermapbox"
           }
          ],
          "scatterpolar": [
           {
            "marker": {
             "colorbar": {
              "outlinewidth": 0,
              "ticks": ""
             }
            },
            "type": "scatterpolar"
           }
          ],
          "scatterpolargl": [
           {
            "marker": {
             "colorbar": {
              "outlinewidth": 0,
              "ticks": ""
             }
            },
            "type": "scatterpolargl"
           }
          ],
          "scatterternary": [
           {
            "marker": {
             "colorbar": {
              "outlinewidth": 0,
              "ticks": ""
             }
            },
            "type": "scatterternary"
           }
          ],
          "surface": [
           {
            "colorbar": {
             "outlinewidth": 0,
             "ticks": ""
            },
            "colorscale": [
             [
              0,
              "#0d0887"
             ],
             [
              0.1111111111111111,
              "#46039f"
             ],
             [
              0.2222222222222222,
              "#7201a8"
             ],
             [
              0.3333333333333333,
              "#9c179e"
             ],
             [
              0.4444444444444444,
              "#bd3786"
             ],
             [
              0.5555555555555556,
              "#d8576b"
             ],
             [
              0.6666666666666666,
              "#ed7953"
             ],
             [
              0.7777777777777778,
              "#fb9f3a"
             ],
             [
              0.8888888888888888,
              "#fdca26"
             ],
             [
              1,
              "#f0f921"
             ]
            ],
            "type": "surface"
           }
          ],
          "table": [
           {
            "cells": {
             "fill": {
              "color": "#EBF0F8"
             },
             "line": {
              "color": "white"
             }
            },
            "header": {
             "fill": {
              "color": "#C8D4E3"
             },
             "line": {
              "color": "white"
             }
            },
            "type": "table"
           }
          ]
         },
         "layout": {
          "annotationdefaults": {
           "arrowcolor": "#2a3f5f",
           "arrowhead": 0,
           "arrowwidth": 1
          },
          "autotypenumbers": "strict",
          "coloraxis": {
           "colorbar": {
            "outlinewidth": 0,
            "ticks": ""
           }
          },
          "colorscale": {
           "diverging": [
            [
             0,
             "#8e0152"
            ],
            [
             0.1,
             "#c51b7d"
            ],
            [
             0.2,
             "#de77ae"
            ],
            [
             0.3,
             "#f1b6da"
            ],
            [
             0.4,
             "#fde0ef"
            ],
            [
             0.5,
             "#f7f7f7"
            ],
            [
             0.6,
             "#e6f5d0"
            ],
            [
             0.7,
             "#b8e186"
            ],
            [
             0.8,
             "#7fbc41"
            ],
            [
             0.9,
             "#4d9221"
            ],
            [
             1,
             "#276419"
            ]
           ],
           "sequential": [
            [
             0,
             "#0d0887"
            ],
            [
             0.1111111111111111,
             "#46039f"
            ],
            [
             0.2222222222222222,
             "#7201a8"
            ],
            [
             0.3333333333333333,
             "#9c179e"
            ],
            [
             0.4444444444444444,
             "#bd3786"
            ],
            [
             0.5555555555555556,
             "#d8576b"
            ],
            [
             0.6666666666666666,
             "#ed7953"
            ],
            [
             0.7777777777777778,
             "#fb9f3a"
            ],
            [
             0.8888888888888888,
             "#fdca26"
            ],
            [
             1,
             "#f0f921"
            ]
           ],
           "sequentialminus": [
            [
             0,
             "#0d0887"
            ],
            [
             0.1111111111111111,
             "#46039f"
            ],
            [
             0.2222222222222222,
             "#7201a8"
            ],
            [
             0.3333333333333333,
             "#9c179e"
            ],
            [
             0.4444444444444444,
             "#bd3786"
            ],
            [
             0.5555555555555556,
             "#d8576b"
            ],
            [
             0.6666666666666666,
             "#ed7953"
            ],
            [
             0.7777777777777778,
             "#fb9f3a"
            ],
            [
             0.8888888888888888,
             "#fdca26"
            ],
            [
             1,
             "#f0f921"
            ]
           ]
          },
          "colorway": [
           "#636efa",
           "#EF553B",
           "#00cc96",
           "#ab63fa",
           "#FFA15A",
           "#19d3f3",
           "#FF6692",
           "#B6E880",
           "#FF97FF",
           "#FECB52"
          ],
          "font": {
           "color": "#2a3f5f"
          },
          "geo": {
           "bgcolor": "white",
           "lakecolor": "white",
           "landcolor": "#E5ECF6",
           "showlakes": true,
           "showland": true,
           "subunitcolor": "white"
          },
          "hoverlabel": {
           "align": "left"
          },
          "hovermode": "closest",
          "mapbox": {
           "style": "light"
          },
          "paper_bgcolor": "white",
          "plot_bgcolor": "#E5ECF6",
          "polar": {
           "angularaxis": {
            "gridcolor": "white",
            "linecolor": "white",
            "ticks": ""
           },
           "bgcolor": "#E5ECF6",
           "radialaxis": {
            "gridcolor": "white",
            "linecolor": "white",
            "ticks": ""
           }
          },
          "scene": {
           "xaxis": {
            "backgroundcolor": "#E5ECF6",
            "gridcolor": "white",
            "gridwidth": 2,
            "linecolor": "white",
            "showbackground": true,
            "ticks": "",
            "zerolinecolor": "white"
           },
           "yaxis": {
            "backgroundcolor": "#E5ECF6",
            "gridcolor": "white",
            "gridwidth": 2,
            "linecolor": "white",
            "showbackground": true,
            "ticks": "",
            "zerolinecolor": "white"
           },
           "zaxis": {
            "backgroundcolor": "#E5ECF6",
            "gridcolor": "white",
            "gridwidth": 2,
            "linecolor": "white",
            "showbackground": true,
            "ticks": "",
            "zerolinecolor": "white"
           }
          },
          "shapedefaults": {
           "line": {
            "color": "#2a3f5f"
           }
          },
          "ternary": {
           "aaxis": {
            "gridcolor": "white",
            "linecolor": "white",
            "ticks": ""
           },
           "baxis": {
            "gridcolor": "white",
            "linecolor": "white",
            "ticks": ""
           },
           "bgcolor": "#E5ECF6",
           "caxis": {
            "gridcolor": "white",
            "linecolor": "white",
            "ticks": ""
           }
          },
          "title": {
           "x": 0.05
          },
          "xaxis": {
           "automargin": true,
           "gridcolor": "white",
           "linecolor": "white",
           "ticks": "",
           "title": {
            "standoff": 15
           },
           "zerolinecolor": "white",
           "zerolinewidth": 2
          },
          "yaxis": {
           "automargin": true,
           "gridcolor": "white",
           "linecolor": "white",
           "ticks": "",
           "title": {
            "standoff": 15
           },
           "zerolinecolor": "white",
           "zerolinewidth": 2
          }
         }
        },
        "xaxis": {
         "title": {
          "text": "Region"
         }
        },
        "yaxis": {
         "title": {
          "text": "Total benchmark score"
         }
        }
       }
      }
     },
     "metadata": {},
     "output_type": "display_data"
    }
   ],
   "source": [
    "import pandas as pd\n",
    "import plotly.graph_objects as go\n",
    "\n",
    "# Load the three dataframes\n",
    "ktc_ict_2022 = pd.read_csv(\"C:/Users/kokuo/OneDrive/Study Files/Python/Visualisation Experiments/Know the Chain/KTC ICT Benchmark CSV Data/2022 KCT ICT.csv\")\n",
    "ktc_ict_2020 = pd.read_csv(\"C:/Users/kokuo/OneDrive/Study Files/Python/Visualisation Experiments/Know the Chain/KTC ICT Benchmark CSV Data/2020 KCT ICT.csv\")\n",
    "ktc_ict_2018 = pd.read_csv(\"C:/Users/kokuo/OneDrive/Study Files/Python/Visualisation Experiments/Know the Chain/KTC ICT Benchmark CSV Data/2018 KCT ICT.csv\")\n",
    "\n",
    "# Concatenate the dataframes\n",
    "frames = [ktc_ict_2022, ktc_ict_2020, ktc_ict_2018]\n",
    "df = pd.concat(frames)\n",
    "\n",
    "# Calculate the average benchmark score for each region\n",
    "df_mean = df.groupby(['Region', 'Year of inclusion']).mean().reset_index()\n",
    "\n",
    "# Define a color dictionary for each region\n",
    "color_dict = {\n",
    "    'North America': 'green',\n",
    "    'Asia': 'red',\n",
    "    'Europe': 'blue'\n",
    "}\n",
    "\n",
    "# Create the multiple bar graph\n",
    "fig = go.Figure(data=[\n",
    "    go.Bar(\n",
    "        name='2018',\n",
    "        x=df_mean[df_mean['Year of inclusion'] == 2018]['Region'],\n",
    "        y=df_mean[df_mean['Year of inclusion'] == 2018]['Total benchmark score'],\n",
    "        marker_color=[color_dict[r] for r in df_mean[df_mean['Year of inclusion'] == 2018]['Region']]\n",
    "    ),\n",
    "    go.Bar(\n",
    "        name='2020',\n",
    "        x=df_mean[df_mean['Year of inclusion'] == 2020]['Region'],\n",
    "        y=df_mean[df_mean['Year of inclusion'] == 2020]['Total benchmark score'],\n",
    "        marker_color=[color_dict[r] for r in df_mean[df_mean['Year of inclusion'] == 2020]['Region']]\n",
    "    ),\n",
    "    go.Bar(\n",
    "        name='2022',\n",
    "        x=df_mean[df_mean['Year of inclusion'] == 2022]['Region'],\n",
    "        y=df_mean[df_mean['Year of inclusion'] == 2022]['Total benchmark score'],\n",
    "        marker_color=[color_dict[r] for r in df_mean[df_mean['Year of inclusion'] == 2022]['Region']]\n",
    "    )\n",
    "])\n",
    "\n",
    "# Update the layout\n",
    "fig.update_layout(\n",
    "    barmode='group',\n",
    "    xaxis_title='Region',\n",
    "    yaxis_title='Total benchmark score'\n",
    ")\n",
    "\n",
    "# Show the graph\n",
    "fig.show()\n"
   ]
  },
  {
   "cell_type": "code",
   "execution_count": 38,
   "metadata": {},
   "outputs": [
    {
     "data": {
      "application/vnd.plotly.v1+json": {
       "config": {
        "plotlyServerURL": "https://plot.ly"
       },
       "data": [
        {
         "name": "Theme 1",
         "type": "bar",
         "x": [
          91.66666667,
          83.33333333,
          83.33333333,
          75,
          87.5,
          75,
          79.16666667,
          54.16666667,
          75,
          70.83333333,
          70.83333333,
          54.16666667,
          83.33333333,
          70.83333333,
          70.83333333,
          54.16666667,
          66.66666667,
          58.33333333,
          50,
          75,
          50,
          54.16666667,
          66.66666667,
          54.16666667,
          41.66666667,
          50,
          29.16666667,
          45.83333333,
          50,
          50,
          33.33333333,
          29.16666667,
          37.5,
          25,
          20.83333333,
          20.83333333,
          37.5,
          29.16666667,
          50,
          25,
          29.16666667,
          45.83333333,
          20.83333333,
          33.33333333,
          33.33333333,
          37.5,
          37.5,
          33.33333333,
          41.66666667,
          37.5,
          20.83333333,
          8.333333333,
          12.5,
          12.5,
          12.5,
          8.333333333,
          8.333333333,
          0,
          0,
          0
         ],
         "y": [
          0,
          1,
          2,
          3,
          4,
          5,
          6,
          7,
          8,
          9,
          10,
          11,
          12,
          13,
          14,
          15,
          16,
          17,
          18,
          19,
          20,
          21,
          22,
          23,
          24,
          25,
          26,
          27,
          28,
          29,
          30,
          31,
          32,
          33,
          34,
          35,
          36,
          37,
          38,
          39,
          40,
          41,
          42,
          43,
          44,
          45,
          46,
          47,
          48,
          49,
          50,
          51,
          52,
          53,
          54,
          55,
          56,
          57,
          58,
          59
         ]
        },
        {
         "name": "Theme 2",
         "type": "bar",
         "x": [
          88.19444444,
          77.08333333,
          64.58333333,
          54.86111111,
          63.19444444,
          45.83333333,
          38.88888889,
          66.66666667,
          40.97222222,
          46.52777778,
          32.63888889,
          49.30555556,
          31.94444444,
          28.47222222,
          27.08333333,
          28.47222222,
          39.58333333,
          16.66666667,
          26.38888889,
          26.38888889,
          32.63888889,
          31.94444444,
          28.47222222,
          22.91666667,
          31.94444444,
          22.22222222,
          26.38888889,
          16.66666667,
          16.66666667,
          4.166666667,
          26.38888889,
          22.22222222,
          11.11111111,
          22.22222222,
          26.38888889,
          26.38888889,
          16.66666667,
          22.22222222,
          4.166666667,
          22.22222222,
          20.83333333,
          11.11111111,
          20.83333333,
          11.11111111,
          11.11111111,
          9.722222222,
          5.555555556,
          11.11111111,
          0,
          0,
          0,
          11.11111111,
          5.555555556,
          0,
          5.555555556,
          0,
          0,
          0,
          0,
          0
         ],
         "y": [
          0,
          1,
          2,
          3,
          4,
          5,
          6,
          7,
          8,
          9,
          10,
          11,
          12,
          13,
          14,
          15,
          16,
          17,
          18,
          19,
          20,
          21,
          22,
          23,
          24,
          25,
          26,
          27,
          28,
          29,
          30,
          31,
          32,
          33,
          34,
          35,
          36,
          37,
          38,
          39,
          40,
          41,
          42,
          43,
          44,
          45,
          46,
          47,
          48,
          49,
          50,
          51,
          52,
          53,
          54,
          55,
          56,
          57,
          58,
          59
         ]
        },
        {
         "name": "Theme 3",
         "type": "bar",
         "x": [
          0,
          0,
          50,
          0,
          0,
          25,
          0,
          0,
          50,
          0,
          0,
          0,
          0,
          0,
          0,
          0,
          0,
          0,
          0,
          0,
          0,
          0,
          0,
          16.66666667,
          0,
          0,
          0,
          0,
          0,
          0,
          0,
          0,
          0,
          0,
          0,
          0,
          0,
          0,
          0,
          0,
          0,
          0,
          0,
          0,
          0,
          0,
          0,
          0,
          0,
          0,
          0,
          0,
          0,
          0,
          0,
          0,
          0,
          0,
          0,
          0
         ],
         "y": [
          0,
          1,
          2,
          3,
          4,
          5,
          6,
          7,
          8,
          9,
          10,
          11,
          12,
          13,
          14,
          15,
          16,
          17,
          18,
          19,
          20,
          21,
          22,
          23,
          24,
          25,
          26,
          27,
          28,
          29,
          30,
          31,
          32,
          33,
          34,
          35,
          36,
          37,
          38,
          39,
          40,
          41,
          42,
          43,
          44,
          45,
          46,
          47,
          48,
          49,
          50,
          51,
          52,
          53,
          54,
          55,
          56,
          57,
          58,
          59
         ]
        },
        {
         "name": "Theme 4",
         "type": "bar",
         "x": [
          75,
          62.5,
          33.75,
          93.75,
          55,
          42.5,
          27.5,
          67.5,
          15,
          40,
          40,
          22.5,
          18.75,
          18.75,
          31.25,
          18.75,
          15,
          32.5,
          27.5,
          20,
          15,
          7.5,
          7.5,
          7.5,
          7.5,
          7.5,
          7.5,
          7.5,
          7.5,
          15,
          7.5,
          7.5,
          15,
          7.5,
          7.5,
          7.5,
          7.5,
          7.5,
          7.5,
          7.5,
          0,
          5,
          7.5,
          5,
          0,
          0,
          5,
          5,
          5,
          7.5,
          0,
          5,
          7.5,
          7.5,
          0,
          7.5,
          0,
          0,
          0,
          0
         ],
         "y": [
          0,
          1,
          2,
          3,
          4,
          5,
          6,
          7,
          8,
          9,
          10,
          11,
          12,
          13,
          14,
          15,
          16,
          17,
          18,
          19,
          20,
          21,
          22,
          23,
          24,
          25,
          26,
          27,
          28,
          29,
          30,
          31,
          32,
          33,
          34,
          35,
          36,
          37,
          38,
          39,
          40,
          41,
          42,
          43,
          44,
          45,
          46,
          47,
          48,
          49,
          50,
          51,
          52,
          53,
          54,
          55,
          56,
          57,
          58,
          59
         ]
        },
        {
         "name": "Theme 5",
         "type": "bar",
         "x": [
          18.33333333,
          24.16666667,
          17.5,
          30.83333333,
          17.5,
          37.5,
          7.5,
          5,
          20,
          7.5,
          7.5,
          7.5,
          15,
          5,
          5,
          7.5,
          10,
          17.5,
          5,
          5,
          5,
          7.5,
          7.5,
          7.5,
          7.5,
          5,
          7.5,
          5,
          5,
          15,
          5,
          7.5,
          5,
          7.5,
          7.5,
          7.5,
          5,
          5,
          5,
          7.5,
          7.5,
          0,
          7.5,
          5,
          7.5,
          5,
          5,
          0,
          7.5,
          7.5,
          5,
          0,
          0,
          5,
          0,
          0,
          0,
          0,
          0,
          0
         ],
         "y": [
          0,
          1,
          2,
          3,
          4,
          5,
          6,
          7,
          8,
          9,
          10,
          11,
          12,
          13,
          14,
          15,
          16,
          17,
          18,
          19,
          20,
          21,
          22,
          23,
          24,
          25,
          26,
          27,
          28,
          29,
          30,
          31,
          32,
          33,
          34,
          35,
          36,
          37,
          38,
          39,
          40,
          41,
          42,
          43,
          44,
          45,
          46,
          47,
          48,
          49,
          50,
          51,
          52,
          53,
          54,
          55,
          56,
          57,
          58,
          59
         ]
        },
        {
         "name": "Theme 6",
         "type": "bar",
         "x": [
          55,
          55,
          45,
          45,
          30,
          35,
          40,
          30,
          35,
          45,
          35,
          15,
          50,
          40,
          10,
          40,
          10,
          30,
          0,
          10,
          30,
          40,
          10,
          30,
          30,
          10,
          10,
          10,
          0,
          0,
          0,
          10,
          10,
          10,
          0,
          0,
          0,
          0,
          10,
          0,
          0,
          0,
          0,
          10,
          0,
          0,
          0,
          0,
          0,
          0,
          10,
          0,
          0,
          0,
          0,
          0,
          0,
          0,
          0,
          0
         ],
         "y": [
          0,
          1,
          2,
          3,
          4,
          5,
          6,
          7,
          8,
          9,
          10,
          11,
          12,
          13,
          14,
          15,
          16,
          17,
          18,
          19,
          20,
          21,
          22,
          23,
          24,
          25,
          26,
          27,
          28,
          29,
          30,
          31,
          32,
          33,
          34,
          35,
          36,
          37,
          38,
          39,
          40,
          41,
          42,
          43,
          44,
          45,
          46,
          47,
          48,
          49,
          50,
          51,
          52,
          53,
          54,
          55,
          56,
          57,
          58,
          59
         ]
        },
        {
         "name": "Theme 7",
         "type": "bar",
         "x": [
          70,
          90,
          90,
          20,
          20,
          40,
          100,
          12.5,
          50,
          50,
          40,
          60,
          18.75,
          60,
          40,
          40,
          18.75,
          10,
          40,
          0,
          12.5,
          0,
          0,
          0,
          0,
          0,
          10,
          0,
          0,
          0,
          0,
          0,
          0,
          0,
          0,
          0,
          0,
          0,
          0,
          0,
          0,
          0,
          0,
          0,
          0,
          0,
          0,
          0,
          0,
          0,
          0,
          0,
          0,
          0,
          0,
          0,
          0,
          0,
          0,
          0
         ],
         "y": [
          0,
          1,
          2,
          3,
          4,
          5,
          6,
          7,
          8,
          9,
          10,
          11,
          12,
          13,
          14,
          15,
          16,
          17,
          18,
          19,
          20,
          21,
          22,
          23,
          24,
          25,
          26,
          27,
          28,
          29,
          30,
          31,
          32,
          33,
          34,
          35,
          36,
          37,
          38,
          39,
          40,
          41,
          42,
          43,
          44,
          45,
          46,
          47,
          48,
          49,
          50,
          51,
          52,
          53,
          54,
          55,
          56,
          57,
          58,
          59
         ]
        }
       ],
       "layout": {
        "barmode": "group",
        "template": {
         "data": {
          "bar": [
           {
            "error_x": {
             "color": "#2a3f5f"
            },
            "error_y": {
             "color": "#2a3f5f"
            },
            "marker": {
             "line": {
              "color": "#E5ECF6",
              "width": 0.5
             },
             "pattern": {
              "fillmode": "overlay",
              "size": 10,
              "solidity": 0.2
             }
            },
            "type": "bar"
           }
          ],
          "barpolar": [
           {
            "marker": {
             "line": {
              "color": "#E5ECF6",
              "width": 0.5
             },
             "pattern": {
              "fillmode": "overlay",
              "size": 10,
              "solidity": 0.2
             }
            },
            "type": "barpolar"
           }
          ],
          "carpet": [
           {
            "aaxis": {
             "endlinecolor": "#2a3f5f",
             "gridcolor": "white",
             "linecolor": "white",
             "minorgridcolor": "white",
             "startlinecolor": "#2a3f5f"
            },
            "baxis": {
             "endlinecolor": "#2a3f5f",
             "gridcolor": "white",
             "linecolor": "white",
             "minorgridcolor": "white",
             "startlinecolor": "#2a3f5f"
            },
            "type": "carpet"
           }
          ],
          "choropleth": [
           {
            "colorbar": {
             "outlinewidth": 0,
             "ticks": ""
            },
            "type": "choropleth"
           }
          ],
          "contour": [
           {
            "colorbar": {
             "outlinewidth": 0,
             "ticks": ""
            },
            "colorscale": [
             [
              0,
              "#0d0887"
             ],
             [
              0.1111111111111111,
              "#46039f"
             ],
             [
              0.2222222222222222,
              "#7201a8"
             ],
             [
              0.3333333333333333,
              "#9c179e"
             ],
             [
              0.4444444444444444,
              "#bd3786"
             ],
             [
              0.5555555555555556,
              "#d8576b"
             ],
             [
              0.6666666666666666,
              "#ed7953"
             ],
             [
              0.7777777777777778,
              "#fb9f3a"
             ],
             [
              0.8888888888888888,
              "#fdca26"
             ],
             [
              1,
              "#f0f921"
             ]
            ],
            "type": "contour"
           }
          ],
          "contourcarpet": [
           {
            "colorbar": {
             "outlinewidth": 0,
             "ticks": ""
            },
            "type": "contourcarpet"
           }
          ],
          "heatmap": [
           {
            "colorbar": {
             "outlinewidth": 0,
             "ticks": ""
            },
            "colorscale": [
             [
              0,
              "#0d0887"
             ],
             [
              0.1111111111111111,
              "#46039f"
             ],
             [
              0.2222222222222222,
              "#7201a8"
             ],
             [
              0.3333333333333333,
              "#9c179e"
             ],
             [
              0.4444444444444444,
              "#bd3786"
             ],
             [
              0.5555555555555556,
              "#d8576b"
             ],
             [
              0.6666666666666666,
              "#ed7953"
             ],
             [
              0.7777777777777778,
              "#fb9f3a"
             ],
             [
              0.8888888888888888,
              "#fdca26"
             ],
             [
              1,
              "#f0f921"
             ]
            ],
            "type": "heatmap"
           }
          ],
          "heatmapgl": [
           {
            "colorbar": {
             "outlinewidth": 0,
             "ticks": ""
            },
            "colorscale": [
             [
              0,
              "#0d0887"
             ],
             [
              0.1111111111111111,
              "#46039f"
             ],
             [
              0.2222222222222222,
              "#7201a8"
             ],
             [
              0.3333333333333333,
              "#9c179e"
             ],
             [
              0.4444444444444444,
              "#bd3786"
             ],
             [
              0.5555555555555556,
              "#d8576b"
             ],
             [
              0.6666666666666666,
              "#ed7953"
             ],
             [
              0.7777777777777778,
              "#fb9f3a"
             ],
             [
              0.8888888888888888,
              "#fdca26"
             ],
             [
              1,
              "#f0f921"
             ]
            ],
            "type": "heatmapgl"
           }
          ],
          "histogram": [
           {
            "marker": {
             "pattern": {
              "fillmode": "overlay",
              "size": 10,
              "solidity": 0.2
             }
            },
            "type": "histogram"
           }
          ],
          "histogram2d": [
           {
            "colorbar": {
             "outlinewidth": 0,
             "ticks": ""
            },
            "colorscale": [
             [
              0,
              "#0d0887"
             ],
             [
              0.1111111111111111,
              "#46039f"
             ],
             [
              0.2222222222222222,
              "#7201a8"
             ],
             [
              0.3333333333333333,
              "#9c179e"
             ],
             [
              0.4444444444444444,
              "#bd3786"
             ],
             [
              0.5555555555555556,
              "#d8576b"
             ],
             [
              0.6666666666666666,
              "#ed7953"
             ],
             [
              0.7777777777777778,
              "#fb9f3a"
             ],
             [
              0.8888888888888888,
              "#fdca26"
             ],
             [
              1,
              "#f0f921"
             ]
            ],
            "type": "histogram2d"
           }
          ],
          "histogram2dcontour": [
           {
            "colorbar": {
             "outlinewidth": 0,
             "ticks": ""
            },
            "colorscale": [
             [
              0,
              "#0d0887"
             ],
             [
              0.1111111111111111,
              "#46039f"
             ],
             [
              0.2222222222222222,
              "#7201a8"
             ],
             [
              0.3333333333333333,
              "#9c179e"
             ],
             [
              0.4444444444444444,
              "#bd3786"
             ],
             [
              0.5555555555555556,
              "#d8576b"
             ],
             [
              0.6666666666666666,
              "#ed7953"
             ],
             [
              0.7777777777777778,
              "#fb9f3a"
             ],
             [
              0.8888888888888888,
              "#fdca26"
             ],
             [
              1,
              "#f0f921"
             ]
            ],
            "type": "histogram2dcontour"
           }
          ],
          "mesh3d": [
           {
            "colorbar": {
             "outlinewidth": 0,
             "ticks": ""
            },
            "type": "mesh3d"
           }
          ],
          "parcoords": [
           {
            "line": {
             "colorbar": {
              "outlinewidth": 0,
              "ticks": ""
             }
            },
            "type": "parcoords"
           }
          ],
          "pie": [
           {
            "automargin": true,
            "type": "pie"
           }
          ],
          "scatter": [
           {
            "fillpattern": {
             "fillmode": "overlay",
             "size": 10,
             "solidity": 0.2
            },
            "type": "scatter"
           }
          ],
          "scatter3d": [
           {
            "line": {
             "colorbar": {
              "outlinewidth": 0,
              "ticks": ""
             }
            },
            "marker": {
             "colorbar": {
              "outlinewidth": 0,
              "ticks": ""
             }
            },
            "type": "scatter3d"
           }
          ],
          "scattercarpet": [
           {
            "marker": {
             "colorbar": {
              "outlinewidth": 0,
              "ticks": ""
             }
            },
            "type": "scattercarpet"
           }
          ],
          "scattergeo": [
           {
            "marker": {
             "colorbar": {
              "outlinewidth": 0,
              "ticks": ""
             }
            },
            "type": "scattergeo"
           }
          ],
          "scattergl": [
           {
            "marker": {
             "colorbar": {
              "outlinewidth": 0,
              "ticks": ""
             }
            },
            "type": "scattergl"
           }
          ],
          "scattermapbox": [
           {
            "marker": {
             "colorbar": {
              "outlinewidth": 0,
              "ticks": ""
             }
            },
            "type": "scattermapbox"
           }
          ],
          "scatterpolar": [
           {
            "marker": {
             "colorbar": {
              "outlinewidth": 0,
              "ticks": ""
             }
            },
            "type": "scatterpolar"
           }
          ],
          "scatterpolargl": [
           {
            "marker": {
             "colorbar": {
              "outlinewidth": 0,
              "ticks": ""
             }
            },
            "type": "scatterpolargl"
           }
          ],
          "scatterternary": [
           {
            "marker": {
             "colorbar": {
              "outlinewidth": 0,
              "ticks": ""
             }
            },
            "type": "scatterternary"
           }
          ],
          "surface": [
           {
            "colorbar": {
             "outlinewidth": 0,
             "ticks": ""
            },
            "colorscale": [
             [
              0,
              "#0d0887"
             ],
             [
              0.1111111111111111,
              "#46039f"
             ],
             [
              0.2222222222222222,
              "#7201a8"
             ],
             [
              0.3333333333333333,
              "#9c179e"
             ],
             [
              0.4444444444444444,
              "#bd3786"
             ],
             [
              0.5555555555555556,
              "#d8576b"
             ],
             [
              0.6666666666666666,
              "#ed7953"
             ],
             [
              0.7777777777777778,
              "#fb9f3a"
             ],
             [
              0.8888888888888888,
              "#fdca26"
             ],
             [
              1,
              "#f0f921"
             ]
            ],
            "type": "surface"
           }
          ],
          "table": [
           {
            "cells": {
             "fill": {
              "color": "#EBF0F8"
             },
             "line": {
              "color": "white"
             }
            },
            "header": {
             "fill": {
              "color": "#C8D4E3"
             },
             "line": {
              "color": "white"
             }
            },
            "type": "table"
           }
          ]
         },
         "layout": {
          "annotationdefaults": {
           "arrowcolor": "#2a3f5f",
           "arrowhead": 0,
           "arrowwidth": 1
          },
          "autotypenumbers": "strict",
          "coloraxis": {
           "colorbar": {
            "outlinewidth": 0,
            "ticks": ""
           }
          },
          "colorscale": {
           "diverging": [
            [
             0,
             "#8e0152"
            ],
            [
             0.1,
             "#c51b7d"
            ],
            [
             0.2,
             "#de77ae"
            ],
            [
             0.3,
             "#f1b6da"
            ],
            [
             0.4,
             "#fde0ef"
            ],
            [
             0.5,
             "#f7f7f7"
            ],
            [
             0.6,
             "#e6f5d0"
            ],
            [
             0.7,
             "#b8e186"
            ],
            [
             0.8,
             "#7fbc41"
            ],
            [
             0.9,
             "#4d9221"
            ],
            [
             1,
             "#276419"
            ]
           ],
           "sequential": [
            [
             0,
             "#0d0887"
            ],
            [
             0.1111111111111111,
             "#46039f"
            ],
            [
             0.2222222222222222,
             "#7201a8"
            ],
            [
             0.3333333333333333,
             "#9c179e"
            ],
            [
             0.4444444444444444,
             "#bd3786"
            ],
            [
             0.5555555555555556,
             "#d8576b"
            ],
            [
             0.6666666666666666,
             "#ed7953"
            ],
            [
             0.7777777777777778,
             "#fb9f3a"
            ],
            [
             0.8888888888888888,
             "#fdca26"
            ],
            [
             1,
             "#f0f921"
            ]
           ],
           "sequentialminus": [
            [
             0,
             "#0d0887"
            ],
            [
             0.1111111111111111,
             "#46039f"
            ],
            [
             0.2222222222222222,
             "#7201a8"
            ],
            [
             0.3333333333333333,
             "#9c179e"
            ],
            [
             0.4444444444444444,
             "#bd3786"
            ],
            [
             0.5555555555555556,
             "#d8576b"
            ],
            [
             0.6666666666666666,
             "#ed7953"
            ],
            [
             0.7777777777777778,
             "#fb9f3a"
            ],
            [
             0.8888888888888888,
             "#fdca26"
            ],
            [
             1,
             "#f0f921"
            ]
           ]
          },
          "colorway": [
           "#636efa",
           "#EF553B",
           "#00cc96",
           "#ab63fa",
           "#FFA15A",
           "#19d3f3",
           "#FF6692",
           "#B6E880",
           "#FF97FF",
           "#FECB52"
          ],
          "font": {
           "color": "#2a3f5f"
          },
          "geo": {
           "bgcolor": "white",
           "lakecolor": "white",
           "landcolor": "#E5ECF6",
           "showlakes": true,
           "showland": true,
           "subunitcolor": "white"
          },
          "hoverlabel": {
           "align": "left"
          },
          "hovermode": "closest",
          "mapbox": {
           "style": "light"
          },
          "paper_bgcolor": "white",
          "plot_bgcolor": "#E5ECF6",
          "polar": {
           "angularaxis": {
            "gridcolor": "white",
            "linecolor": "white",
            "ticks": ""
           },
           "bgcolor": "#E5ECF6",
           "radialaxis": {
            "gridcolor": "white",
            "linecolor": "white",
            "ticks": ""
           }
          },
          "scene": {
           "xaxis": {
            "backgroundcolor": "#E5ECF6",
            "gridcolor": "white",
            "gridwidth": 2,
            "linecolor": "white",
            "showbackground": true,
            "ticks": "",
            "zerolinecolor": "white"
           },
           "yaxis": {
            "backgroundcolor": "#E5ECF6",
            "gridcolor": "white",
            "gridwidth": 2,
            "linecolor": "white",
            "showbackground": true,
            "ticks": "",
            "zerolinecolor": "white"
           },
           "zaxis": {
            "backgroundcolor": "#E5ECF6",
            "gridcolor": "white",
            "gridwidth": 2,
            "linecolor": "white",
            "showbackground": true,
            "ticks": "",
            "zerolinecolor": "white"
           }
          },
          "shapedefaults": {
           "line": {
            "color": "#2a3f5f"
           }
          },
          "ternary": {
           "aaxis": {
            "gridcolor": "white",
            "linecolor": "white",
            "ticks": ""
           },
           "baxis": {
            "gridcolor": "white",
            "linecolor": "white",
            "ticks": ""
           },
           "bgcolor": "#E5ECF6",
           "caxis": {
            "gridcolor": "white",
            "linecolor": "white",
            "ticks": ""
           }
          },
          "title": {
           "x": 0.05
          },
          "xaxis": {
           "automargin": true,
           "gridcolor": "white",
           "linecolor": "white",
           "ticks": "",
           "title": {
            "standoff": 15
           },
           "zerolinecolor": "white",
           "zerolinewidth": 2
          },
          "yaxis": {
           "automargin": true,
           "gridcolor": "white",
           "linecolor": "white",
           "ticks": "",
           "title": {
            "standoff": 15
           },
           "zerolinecolor": "white",
           "zerolinewidth": 2
          }
         }
        },
        "xaxis": {
         "title": {
          "text": "Score"
         }
        },
        "yaxis": {
         "title": {
          "text": "Theme"
         }
        }
       }
      }
     },
     "metadata": {},
     "output_type": "display_data"
    }
   ],
   "source": [
    "import pandas as pd\n",
    "import plotly.graph_objects as go\n",
    "\n",
    "# Load the three dataframes\n",
    "ktc_ict_2022 = pd.read_csv(\"C:/Users/kokuo/OneDrive/Study Files/Python/Visualisation Experiments/Know the Chain/KTC ICT Benchmark CSV Data/2022 KCT ICT.csv\")\n",
    "ktc_ict_2022.set_index('Company Name').T\n",
    "\n",
    "# Create the bar chart\n",
    "fig = go.Figure(data=[\n",
    "    go.Bar(name='Theme 1', y=ktc_ict_2022.index, x=ktc_ict_2022['Theme 1: Commitment & Governance']),\n",
    "    go.Bar(name='Theme 2', y=ktc_ict_2022.index, x=ktc_ict_2022['Theme 2: Traceability & Risk Assessment']),\n",
    "    go.Bar(name='Theme 3', y=ktc_ict_2022.index, x=ktc_ict_2022['Theme 3: Purchasing Practices']),\n",
    "    go.Bar(name='Theme 4', y=ktc_ict_2022.index, x=ktc_ict_2022['Theme 4: Recruitment']),\n",
    "    go.Bar(name='Theme 5', y=ktc_ict_2022.index, x=ktc_ict_2022['Theme 5: Worker Voice']),\n",
    "    go.Bar(name='Theme 6', y=ktc_ict_2022.index, x=ktc_ict_2022['Theme 6: Monitoring']),\n",
    "    go.Bar(name='Theme 7', y=ktc_ict_2022.index, x=ktc_ict_2022['Theme 7: Remedy'])\n",
    "])\n",
    "\n",
    "# Update the layout\n",
    "fig.update_layout(barmode='group', xaxis_title='Score', yaxis_title='Theme')\n",
    "\n",
    "# Show the graph\n",
    "fig.show()\n"
   ]
  },
  {
   "cell_type": "code",
   "execution_count": 39,
   "metadata": {},
   "outputs": [
    {
     "data": {
      "application/vnd.plotly.v1+json": {
       "config": {
        "plotlyServerURL": "https://plot.ly"
       },
       "data": [
        {
         "name": "Theme 1",
         "orientation": "h",
         "type": "bar",
         "x": [
          91.66666667,
          83.33333333,
          83.33333333,
          75,
          87.5,
          75,
          79.16666667,
          54.16666667,
          75,
          70.83333333,
          70.83333333,
          54.16666667,
          83.33333333,
          70.83333333,
          70.83333333,
          54.16666667,
          66.66666667,
          58.33333333,
          50,
          75,
          50,
          54.16666667,
          66.66666667,
          54.16666667,
          41.66666667,
          50,
          29.16666667,
          45.83333333,
          50,
          50,
          33.33333333,
          29.16666667,
          37.5,
          25,
          20.83333333,
          20.83333333,
          37.5,
          29.16666667,
          50,
          25,
          29.16666667,
          45.83333333,
          20.83333333,
          33.33333333,
          33.33333333,
          37.5,
          37.5,
          33.33333333,
          41.66666667,
          37.5,
          20.83333333,
          8.333333333,
          12.5,
          12.5,
          12.5,
          8.333333333,
          8.333333333,
          0,
          0,
          0
         ],
         "y": [
          "Hewlett Packard Enterprise Co. (HPE)",
          "Intel Corp.",
          "Cisco Systems Inc.",
          "Apple Inc.",
          "HP Inc.",
          "Samsung Electronics Co. Ltd.",
          "Telefonaktiebolaget LM Ericsson (publ)",
          "Amazon.com Inc.",
          "Corning Inc.",
          "NXP Semiconductors NV",
          "Western Digital Corp.",
          "Best Buy Co. Inc.",
          "Microsoft Corp.",
          "Advanced Micro Devices Inc",
          "STMicroelectronics NV",
          "Seagate Technology PLC",
          "Dell Technologies Inc.",
          "Walmart Inc.",
          "Lam Research Corp.",
          "Logitech International S.A.",
          "Sony Corp.",
          "Nokia Oyj",
          "Micron Technology Inc.",
          "Texas Instruments Inc.",
          "Qualcomm Inc.",
          "Skyworks Solutions Inc.",
          "NVIDIA Corp.",
          "LG Electronics Inc.",
          "Broadcom Inc.",
          "Tokyo Electron Ltd.",
          "Microchip Technology Inc.",
          "Motorola Solutions Inc.",
          "Murata Manufacturing Co. Ltd.",
          "Analog Devices Inc.",
          "Amphenol Corp.",
          "Canon Inc.",
          "Applied Materials Inc.",
          "Taiwan Semiconductor Manufacturing Co. Ltd.",
          "Hitachi Ltd.",
          "KLA Corp.",
          "TE Connectivity Ltd.",
          "Infineon Technologies AG",
          "Renesas Electronics Corp.",
          "Nintendo Co. Ltd.",
          "SK Hynix Inc.",
          "Fujifilm Holdings Corp.",
          "Panasonic Corp.",
          "Keyence Corp.",
          "Hexagon AB",
          "ASML Holding NV",
          "Hon Hai Precision Industry Co. Ltd. (Foxconn)",
          "ZTE Corp.",
          "Semiconductor Manufacturing International Corp",
          "Luxshare Precision Industry Co. Ltd.",
          "Xiaomi Corp.",
          "Kyocera Corp.",
          "Sunny Optical Technology (Group) Co., Ltd.",
          "BOE Technology Group Co. Ltd.",
          "Hangzhou Hikvision Digital Technology Co. Ltd.",
          "NAURA Technology Group Co., Ltd."
         ]
        },
        {
         "name": "Theme 2",
         "orientation": "h",
         "type": "bar",
         "x": [
          88.19444444,
          77.08333333,
          64.58333333,
          54.86111111,
          63.19444444,
          45.83333333,
          38.88888889,
          66.66666667,
          40.97222222,
          46.52777778,
          32.63888889,
          49.30555556,
          31.94444444,
          28.47222222,
          27.08333333,
          28.47222222,
          39.58333333,
          16.66666667,
          26.38888889,
          26.38888889,
          32.63888889,
          31.94444444,
          28.47222222,
          22.91666667,
          31.94444444,
          22.22222222,
          26.38888889,
          16.66666667,
          16.66666667,
          4.166666667,
          26.38888889,
          22.22222222,
          11.11111111,
          22.22222222,
          26.38888889,
          26.38888889,
          16.66666667,
          22.22222222,
          4.166666667,
          22.22222222,
          20.83333333,
          11.11111111,
          20.83333333,
          11.11111111,
          11.11111111,
          9.722222222,
          5.555555556,
          11.11111111,
          0,
          0,
          0,
          11.11111111,
          5.555555556,
          0,
          5.555555556,
          0,
          0,
          0,
          0,
          0
         ],
         "y": [
          "Hewlett Packard Enterprise Co. (HPE)",
          "Intel Corp.",
          "Cisco Systems Inc.",
          "Apple Inc.",
          "HP Inc.",
          "Samsung Electronics Co. Ltd.",
          "Telefonaktiebolaget LM Ericsson (publ)",
          "Amazon.com Inc.",
          "Corning Inc.",
          "NXP Semiconductors NV",
          "Western Digital Corp.",
          "Best Buy Co. Inc.",
          "Microsoft Corp.",
          "Advanced Micro Devices Inc",
          "STMicroelectronics NV",
          "Seagate Technology PLC",
          "Dell Technologies Inc.",
          "Walmart Inc.",
          "Lam Research Corp.",
          "Logitech International S.A.",
          "Sony Corp.",
          "Nokia Oyj",
          "Micron Technology Inc.",
          "Texas Instruments Inc.",
          "Qualcomm Inc.",
          "Skyworks Solutions Inc.",
          "NVIDIA Corp.",
          "LG Electronics Inc.",
          "Broadcom Inc.",
          "Tokyo Electron Ltd.",
          "Microchip Technology Inc.",
          "Motorola Solutions Inc.",
          "Murata Manufacturing Co. Ltd.",
          "Analog Devices Inc.",
          "Amphenol Corp.",
          "Canon Inc.",
          "Applied Materials Inc.",
          "Taiwan Semiconductor Manufacturing Co. Ltd.",
          "Hitachi Ltd.",
          "KLA Corp.",
          "TE Connectivity Ltd.",
          "Infineon Technologies AG",
          "Renesas Electronics Corp.",
          "Nintendo Co. Ltd.",
          "SK Hynix Inc.",
          "Fujifilm Holdings Corp.",
          "Panasonic Corp.",
          "Keyence Corp.",
          "Hexagon AB",
          "ASML Holding NV",
          "Hon Hai Precision Industry Co. Ltd. (Foxconn)",
          "ZTE Corp.",
          "Semiconductor Manufacturing International Corp",
          "Luxshare Precision Industry Co. Ltd.",
          "Xiaomi Corp.",
          "Kyocera Corp.",
          "Sunny Optical Technology (Group) Co., Ltd.",
          "BOE Technology Group Co. Ltd.",
          "Hangzhou Hikvision Digital Technology Co. Ltd.",
          "NAURA Technology Group Co., Ltd."
         ]
        },
        {
         "name": "Theme 3",
         "orientation": "h",
         "type": "bar",
         "x": [
          0,
          0,
          50,
          0,
          0,
          25,
          0,
          0,
          50,
          0,
          0,
          0,
          0,
          0,
          0,
          0,
          0,
          0,
          0,
          0,
          0,
          0,
          0,
          16.66666667,
          0,
          0,
          0,
          0,
          0,
          0,
          0,
          0,
          0,
          0,
          0,
          0,
          0,
          0,
          0,
          0,
          0,
          0,
          0,
          0,
          0,
          0,
          0,
          0,
          0,
          0,
          0,
          0,
          0,
          0,
          0,
          0,
          0,
          0,
          0,
          0
         ],
         "y": [
          "Hewlett Packard Enterprise Co. (HPE)",
          "Intel Corp.",
          "Cisco Systems Inc.",
          "Apple Inc.",
          "HP Inc.",
          "Samsung Electronics Co. Ltd.",
          "Telefonaktiebolaget LM Ericsson (publ)",
          "Amazon.com Inc.",
          "Corning Inc.",
          "NXP Semiconductors NV",
          "Western Digital Corp.",
          "Best Buy Co. Inc.",
          "Microsoft Corp.",
          "Advanced Micro Devices Inc",
          "STMicroelectronics NV",
          "Seagate Technology PLC",
          "Dell Technologies Inc.",
          "Walmart Inc.",
          "Lam Research Corp.",
          "Logitech International S.A.",
          "Sony Corp.",
          "Nokia Oyj",
          "Micron Technology Inc.",
          "Texas Instruments Inc.",
          "Qualcomm Inc.",
          "Skyworks Solutions Inc.",
          "NVIDIA Corp.",
          "LG Electronics Inc.",
          "Broadcom Inc.",
          "Tokyo Electron Ltd.",
          "Microchip Technology Inc.",
          "Motorola Solutions Inc.",
          "Murata Manufacturing Co. Ltd.",
          "Analog Devices Inc.",
          "Amphenol Corp.",
          "Canon Inc.",
          "Applied Materials Inc.",
          "Taiwan Semiconductor Manufacturing Co. Ltd.",
          "Hitachi Ltd.",
          "KLA Corp.",
          "TE Connectivity Ltd.",
          "Infineon Technologies AG",
          "Renesas Electronics Corp.",
          "Nintendo Co. Ltd.",
          "SK Hynix Inc.",
          "Fujifilm Holdings Corp.",
          "Panasonic Corp.",
          "Keyence Corp.",
          "Hexagon AB",
          "ASML Holding NV",
          "Hon Hai Precision Industry Co. Ltd. (Foxconn)",
          "ZTE Corp.",
          "Semiconductor Manufacturing International Corp",
          "Luxshare Precision Industry Co. Ltd.",
          "Xiaomi Corp.",
          "Kyocera Corp.",
          "Sunny Optical Technology (Group) Co., Ltd.",
          "BOE Technology Group Co. Ltd.",
          "Hangzhou Hikvision Digital Technology Co. Ltd.",
          "NAURA Technology Group Co., Ltd."
         ]
        },
        {
         "name": "Theme 4",
         "orientation": "h",
         "type": "bar",
         "x": [
          75,
          62.5,
          33.75,
          93.75,
          55,
          42.5,
          27.5,
          67.5,
          15,
          40,
          40,
          22.5,
          18.75,
          18.75,
          31.25,
          18.75,
          15,
          32.5,
          27.5,
          20,
          15,
          7.5,
          7.5,
          7.5,
          7.5,
          7.5,
          7.5,
          7.5,
          7.5,
          15,
          7.5,
          7.5,
          15,
          7.5,
          7.5,
          7.5,
          7.5,
          7.5,
          7.5,
          7.5,
          0,
          5,
          7.5,
          5,
          0,
          0,
          5,
          5,
          5,
          7.5,
          0,
          5,
          7.5,
          7.5,
          0,
          7.5,
          0,
          0,
          0,
          0
         ],
         "y": [
          "Hewlett Packard Enterprise Co. (HPE)",
          "Intel Corp.",
          "Cisco Systems Inc.",
          "Apple Inc.",
          "HP Inc.",
          "Samsung Electronics Co. Ltd.",
          "Telefonaktiebolaget LM Ericsson (publ)",
          "Amazon.com Inc.",
          "Corning Inc.",
          "NXP Semiconductors NV",
          "Western Digital Corp.",
          "Best Buy Co. Inc.",
          "Microsoft Corp.",
          "Advanced Micro Devices Inc",
          "STMicroelectronics NV",
          "Seagate Technology PLC",
          "Dell Technologies Inc.",
          "Walmart Inc.",
          "Lam Research Corp.",
          "Logitech International S.A.",
          "Sony Corp.",
          "Nokia Oyj",
          "Micron Technology Inc.",
          "Texas Instruments Inc.",
          "Qualcomm Inc.",
          "Skyworks Solutions Inc.",
          "NVIDIA Corp.",
          "LG Electronics Inc.",
          "Broadcom Inc.",
          "Tokyo Electron Ltd.",
          "Microchip Technology Inc.",
          "Motorola Solutions Inc.",
          "Murata Manufacturing Co. Ltd.",
          "Analog Devices Inc.",
          "Amphenol Corp.",
          "Canon Inc.",
          "Applied Materials Inc.",
          "Taiwan Semiconductor Manufacturing Co. Ltd.",
          "Hitachi Ltd.",
          "KLA Corp.",
          "TE Connectivity Ltd.",
          "Infineon Technologies AG",
          "Renesas Electronics Corp.",
          "Nintendo Co. Ltd.",
          "SK Hynix Inc.",
          "Fujifilm Holdings Corp.",
          "Panasonic Corp.",
          "Keyence Corp.",
          "Hexagon AB",
          "ASML Holding NV",
          "Hon Hai Precision Industry Co. Ltd. (Foxconn)",
          "ZTE Corp.",
          "Semiconductor Manufacturing International Corp",
          "Luxshare Precision Industry Co. Ltd.",
          "Xiaomi Corp.",
          "Kyocera Corp.",
          "Sunny Optical Technology (Group) Co., Ltd.",
          "BOE Technology Group Co. Ltd.",
          "Hangzhou Hikvision Digital Technology Co. Ltd.",
          "NAURA Technology Group Co., Ltd."
         ]
        },
        {
         "name": "Theme 5",
         "orientation": "h",
         "type": "bar",
         "x": [
          18.33333333,
          24.16666667,
          17.5,
          30.83333333,
          17.5,
          37.5,
          7.5,
          5,
          20,
          7.5,
          7.5,
          7.5,
          15,
          5,
          5,
          7.5,
          10,
          17.5,
          5,
          5,
          5,
          7.5,
          7.5,
          7.5,
          7.5,
          5,
          7.5,
          5,
          5,
          15,
          5,
          7.5,
          5,
          7.5,
          7.5,
          7.5,
          5,
          5,
          5,
          7.5,
          7.5,
          0,
          7.5,
          5,
          7.5,
          5,
          5,
          0,
          7.5,
          7.5,
          5,
          0,
          0,
          5,
          0,
          0,
          0,
          0,
          0,
          0
         ],
         "y": [
          "Hewlett Packard Enterprise Co. (HPE)",
          "Intel Corp.",
          "Cisco Systems Inc.",
          "Apple Inc.",
          "HP Inc.",
          "Samsung Electronics Co. Ltd.",
          "Telefonaktiebolaget LM Ericsson (publ)",
          "Amazon.com Inc.",
          "Corning Inc.",
          "NXP Semiconductors NV",
          "Western Digital Corp.",
          "Best Buy Co. Inc.",
          "Microsoft Corp.",
          "Advanced Micro Devices Inc",
          "STMicroelectronics NV",
          "Seagate Technology PLC",
          "Dell Technologies Inc.",
          "Walmart Inc.",
          "Lam Research Corp.",
          "Logitech International S.A.",
          "Sony Corp.",
          "Nokia Oyj",
          "Micron Technology Inc.",
          "Texas Instruments Inc.",
          "Qualcomm Inc.",
          "Skyworks Solutions Inc.",
          "NVIDIA Corp.",
          "LG Electronics Inc.",
          "Broadcom Inc.",
          "Tokyo Electron Ltd.",
          "Microchip Technology Inc.",
          "Motorola Solutions Inc.",
          "Murata Manufacturing Co. Ltd.",
          "Analog Devices Inc.",
          "Amphenol Corp.",
          "Canon Inc.",
          "Applied Materials Inc.",
          "Taiwan Semiconductor Manufacturing Co. Ltd.",
          "Hitachi Ltd.",
          "KLA Corp.",
          "TE Connectivity Ltd.",
          "Infineon Technologies AG",
          "Renesas Electronics Corp.",
          "Nintendo Co. Ltd.",
          "SK Hynix Inc.",
          "Fujifilm Holdings Corp.",
          "Panasonic Corp.",
          "Keyence Corp.",
          "Hexagon AB",
          "ASML Holding NV",
          "Hon Hai Precision Industry Co. Ltd. (Foxconn)",
          "ZTE Corp.",
          "Semiconductor Manufacturing International Corp",
          "Luxshare Precision Industry Co. Ltd.",
          "Xiaomi Corp.",
          "Kyocera Corp.",
          "Sunny Optical Technology (Group) Co., Ltd.",
          "BOE Technology Group Co. Ltd.",
          "Hangzhou Hikvision Digital Technology Co. Ltd.",
          "NAURA Technology Group Co., Ltd."
         ]
        },
        {
         "name": "Theme 6",
         "orientation": "h",
         "type": "bar",
         "x": [
          55,
          55,
          45,
          45,
          30,
          35,
          40,
          30,
          35,
          45,
          35,
          15,
          50,
          40,
          10,
          40,
          10,
          30,
          0,
          10,
          30,
          40,
          10,
          30,
          30,
          10,
          10,
          10,
          0,
          0,
          0,
          10,
          10,
          10,
          0,
          0,
          0,
          0,
          10,
          0,
          0,
          0,
          0,
          10,
          0,
          0,
          0,
          0,
          0,
          0,
          10,
          0,
          0,
          0,
          0,
          0,
          0,
          0,
          0,
          0
         ],
         "y": [
          "Hewlett Packard Enterprise Co. (HPE)",
          "Intel Corp.",
          "Cisco Systems Inc.",
          "Apple Inc.",
          "HP Inc.",
          "Samsung Electronics Co. Ltd.",
          "Telefonaktiebolaget LM Ericsson (publ)",
          "Amazon.com Inc.",
          "Corning Inc.",
          "NXP Semiconductors NV",
          "Western Digital Corp.",
          "Best Buy Co. Inc.",
          "Microsoft Corp.",
          "Advanced Micro Devices Inc",
          "STMicroelectronics NV",
          "Seagate Technology PLC",
          "Dell Technologies Inc.",
          "Walmart Inc.",
          "Lam Research Corp.",
          "Logitech International S.A.",
          "Sony Corp.",
          "Nokia Oyj",
          "Micron Technology Inc.",
          "Texas Instruments Inc.",
          "Qualcomm Inc.",
          "Skyworks Solutions Inc.",
          "NVIDIA Corp.",
          "LG Electronics Inc.",
          "Broadcom Inc.",
          "Tokyo Electron Ltd.",
          "Microchip Technology Inc.",
          "Motorola Solutions Inc.",
          "Murata Manufacturing Co. Ltd.",
          "Analog Devices Inc.",
          "Amphenol Corp.",
          "Canon Inc.",
          "Applied Materials Inc.",
          "Taiwan Semiconductor Manufacturing Co. Ltd.",
          "Hitachi Ltd.",
          "KLA Corp.",
          "TE Connectivity Ltd.",
          "Infineon Technologies AG",
          "Renesas Electronics Corp.",
          "Nintendo Co. Ltd.",
          "SK Hynix Inc.",
          "Fujifilm Holdings Corp.",
          "Panasonic Corp.",
          "Keyence Corp.",
          "Hexagon AB",
          "ASML Holding NV",
          "Hon Hai Precision Industry Co. Ltd. (Foxconn)",
          "ZTE Corp.",
          "Semiconductor Manufacturing International Corp",
          "Luxshare Precision Industry Co. Ltd.",
          "Xiaomi Corp.",
          "Kyocera Corp.",
          "Sunny Optical Technology (Group) Co., Ltd.",
          "BOE Technology Group Co. Ltd.",
          "Hangzhou Hikvision Digital Technology Co. Ltd.",
          "NAURA Technology Group Co., Ltd."
         ]
        },
        {
         "name": "Theme 7",
         "orientation": "h",
         "type": "bar",
         "x": [
          70,
          90,
          90,
          20,
          20,
          40,
          100,
          12.5,
          50,
          50,
          40,
          60,
          18.75,
          60,
          40,
          40,
          18.75,
          10,
          40,
          0,
          12.5,
          0,
          0,
          0,
          0,
          0,
          10,
          0,
          0,
          0,
          0,
          0,
          0,
          0,
          0,
          0,
          0,
          0,
          0,
          0,
          0,
          0,
          0,
          0,
          0,
          0,
          0,
          0,
          0,
          0,
          0,
          0,
          0,
          0,
          0,
          0,
          0,
          0,
          0,
          0
         ],
         "y": [
          "Hewlett Packard Enterprise Co. (HPE)",
          "Intel Corp.",
          "Cisco Systems Inc.",
          "Apple Inc.",
          "HP Inc.",
          "Samsung Electronics Co. Ltd.",
          "Telefonaktiebolaget LM Ericsson (publ)",
          "Amazon.com Inc.",
          "Corning Inc.",
          "NXP Semiconductors NV",
          "Western Digital Corp.",
          "Best Buy Co. Inc.",
          "Microsoft Corp.",
          "Advanced Micro Devices Inc",
          "STMicroelectronics NV",
          "Seagate Technology PLC",
          "Dell Technologies Inc.",
          "Walmart Inc.",
          "Lam Research Corp.",
          "Logitech International S.A.",
          "Sony Corp.",
          "Nokia Oyj",
          "Micron Technology Inc.",
          "Texas Instruments Inc.",
          "Qualcomm Inc.",
          "Skyworks Solutions Inc.",
          "NVIDIA Corp.",
          "LG Electronics Inc.",
          "Broadcom Inc.",
          "Tokyo Electron Ltd.",
          "Microchip Technology Inc.",
          "Motorola Solutions Inc.",
          "Murata Manufacturing Co. Ltd.",
          "Analog Devices Inc.",
          "Amphenol Corp.",
          "Canon Inc.",
          "Applied Materials Inc.",
          "Taiwan Semiconductor Manufacturing Co. Ltd.",
          "Hitachi Ltd.",
          "KLA Corp.",
          "TE Connectivity Ltd.",
          "Infineon Technologies AG",
          "Renesas Electronics Corp.",
          "Nintendo Co. Ltd.",
          "SK Hynix Inc.",
          "Fujifilm Holdings Corp.",
          "Panasonic Corp.",
          "Keyence Corp.",
          "Hexagon AB",
          "ASML Holding NV",
          "Hon Hai Precision Industry Co. Ltd. (Foxconn)",
          "ZTE Corp.",
          "Semiconductor Manufacturing International Corp",
          "Luxshare Precision Industry Co. Ltd.",
          "Xiaomi Corp.",
          "Kyocera Corp.",
          "Sunny Optical Technology (Group) Co., Ltd.",
          "BOE Technology Group Co. Ltd.",
          "Hangzhou Hikvision Digital Technology Co. Ltd.",
          "NAURA Technology Group Co., Ltd."
         ]
        }
       ],
       "layout": {
        "barmode": "group",
        "template": {
         "data": {
          "bar": [
           {
            "error_x": {
             "color": "#2a3f5f"
            },
            "error_y": {
             "color": "#2a3f5f"
            },
            "marker": {
             "line": {
              "color": "#E5ECF6",
              "width": 0.5
             },
             "pattern": {
              "fillmode": "overlay",
              "size": 10,
              "solidity": 0.2
             }
            },
            "type": "bar"
           }
          ],
          "barpolar": [
           {
            "marker": {
             "line": {
              "color": "#E5ECF6",
              "width": 0.5
             },
             "pattern": {
              "fillmode": "overlay",
              "size": 10,
              "solidity": 0.2
             }
            },
            "type": "barpolar"
           }
          ],
          "carpet": [
           {
            "aaxis": {
             "endlinecolor": "#2a3f5f",
             "gridcolor": "white",
             "linecolor": "white",
             "minorgridcolor": "white",
             "startlinecolor": "#2a3f5f"
            },
            "baxis": {
             "endlinecolor": "#2a3f5f",
             "gridcolor": "white",
             "linecolor": "white",
             "minorgridcolor": "white",
             "startlinecolor": "#2a3f5f"
            },
            "type": "carpet"
           }
          ],
          "choropleth": [
           {
            "colorbar": {
             "outlinewidth": 0,
             "ticks": ""
            },
            "type": "choropleth"
           }
          ],
          "contour": [
           {
            "colorbar": {
             "outlinewidth": 0,
             "ticks": ""
            },
            "colorscale": [
             [
              0,
              "#0d0887"
             ],
             [
              0.1111111111111111,
              "#46039f"
             ],
             [
              0.2222222222222222,
              "#7201a8"
             ],
             [
              0.3333333333333333,
              "#9c179e"
             ],
             [
              0.4444444444444444,
              "#bd3786"
             ],
             [
              0.5555555555555556,
              "#d8576b"
             ],
             [
              0.6666666666666666,
              "#ed7953"
             ],
             [
              0.7777777777777778,
              "#fb9f3a"
             ],
             [
              0.8888888888888888,
              "#fdca26"
             ],
             [
              1,
              "#f0f921"
             ]
            ],
            "type": "contour"
           }
          ],
          "contourcarpet": [
           {
            "colorbar": {
             "outlinewidth": 0,
             "ticks": ""
            },
            "type": "contourcarpet"
           }
          ],
          "heatmap": [
           {
            "colorbar": {
             "outlinewidth": 0,
             "ticks": ""
            },
            "colorscale": [
             [
              0,
              "#0d0887"
             ],
             [
              0.1111111111111111,
              "#46039f"
             ],
             [
              0.2222222222222222,
              "#7201a8"
             ],
             [
              0.3333333333333333,
              "#9c179e"
             ],
             [
              0.4444444444444444,
              "#bd3786"
             ],
             [
              0.5555555555555556,
              "#d8576b"
             ],
             [
              0.6666666666666666,
              "#ed7953"
             ],
             [
              0.7777777777777778,
              "#fb9f3a"
             ],
             [
              0.8888888888888888,
              "#fdca26"
             ],
             [
              1,
              "#f0f921"
             ]
            ],
            "type": "heatmap"
           }
          ],
          "heatmapgl": [
           {
            "colorbar": {
             "outlinewidth": 0,
             "ticks": ""
            },
            "colorscale": [
             [
              0,
              "#0d0887"
             ],
             [
              0.1111111111111111,
              "#46039f"
             ],
             [
              0.2222222222222222,
              "#7201a8"
             ],
             [
              0.3333333333333333,
              "#9c179e"
             ],
             [
              0.4444444444444444,
              "#bd3786"
             ],
             [
              0.5555555555555556,
              "#d8576b"
             ],
             [
              0.6666666666666666,
              "#ed7953"
             ],
             [
              0.7777777777777778,
              "#fb9f3a"
             ],
             [
              0.8888888888888888,
              "#fdca26"
             ],
             [
              1,
              "#f0f921"
             ]
            ],
            "type": "heatmapgl"
           }
          ],
          "histogram": [
           {
            "marker": {
             "pattern": {
              "fillmode": "overlay",
              "size": 10,
              "solidity": 0.2
             }
            },
            "type": "histogram"
           }
          ],
          "histogram2d": [
           {
            "colorbar": {
             "outlinewidth": 0,
             "ticks": ""
            },
            "colorscale": [
             [
              0,
              "#0d0887"
             ],
             [
              0.1111111111111111,
              "#46039f"
             ],
             [
              0.2222222222222222,
              "#7201a8"
             ],
             [
              0.3333333333333333,
              "#9c179e"
             ],
             [
              0.4444444444444444,
              "#bd3786"
             ],
             [
              0.5555555555555556,
              "#d8576b"
             ],
             [
              0.6666666666666666,
              "#ed7953"
             ],
             [
              0.7777777777777778,
              "#fb9f3a"
             ],
             [
              0.8888888888888888,
              "#fdca26"
             ],
             [
              1,
              "#f0f921"
             ]
            ],
            "type": "histogram2d"
           }
          ],
          "histogram2dcontour": [
           {
            "colorbar": {
             "outlinewidth": 0,
             "ticks": ""
            },
            "colorscale": [
             [
              0,
              "#0d0887"
             ],
             [
              0.1111111111111111,
              "#46039f"
             ],
             [
              0.2222222222222222,
              "#7201a8"
             ],
             [
              0.3333333333333333,
              "#9c179e"
             ],
             [
              0.4444444444444444,
              "#bd3786"
             ],
             [
              0.5555555555555556,
              "#d8576b"
             ],
             [
              0.6666666666666666,
              "#ed7953"
             ],
             [
              0.7777777777777778,
              "#fb9f3a"
             ],
             [
              0.8888888888888888,
              "#fdca26"
             ],
             [
              1,
              "#f0f921"
             ]
            ],
            "type": "histogram2dcontour"
           }
          ],
          "mesh3d": [
           {
            "colorbar": {
             "outlinewidth": 0,
             "ticks": ""
            },
            "type": "mesh3d"
           }
          ],
          "parcoords": [
           {
            "line": {
             "colorbar": {
              "outlinewidth": 0,
              "ticks": ""
             }
            },
            "type": "parcoords"
           }
          ],
          "pie": [
           {
            "automargin": true,
            "type": "pie"
           }
          ],
          "scatter": [
           {
            "fillpattern": {
             "fillmode": "overlay",
             "size": 10,
             "solidity": 0.2
            },
            "type": "scatter"
           }
          ],
          "scatter3d": [
           {
            "line": {
             "colorbar": {
              "outlinewidth": 0,
              "ticks": ""
             }
            },
            "marker": {
             "colorbar": {
              "outlinewidth": 0,
              "ticks": ""
             }
            },
            "type": "scatter3d"
           }
          ],
          "scattercarpet": [
           {
            "marker": {
             "colorbar": {
              "outlinewidth": 0,
              "ticks": ""
             }
            },
            "type": "scattercarpet"
           }
          ],
          "scattergeo": [
           {
            "marker": {
             "colorbar": {
              "outlinewidth": 0,
              "ticks": ""
             }
            },
            "type": "scattergeo"
           }
          ],
          "scattergl": [
           {
            "marker": {
             "colorbar": {
              "outlinewidth": 0,
              "ticks": ""
             }
            },
            "type": "scattergl"
           }
          ],
          "scattermapbox": [
           {
            "marker": {
             "colorbar": {
              "outlinewidth": 0,
              "ticks": ""
             }
            },
            "type": "scattermapbox"
           }
          ],
          "scatterpolar": [
           {
            "marker": {
             "colorbar": {
              "outlinewidth": 0,
              "ticks": ""
             }
            },
            "type": "scatterpolar"
           }
          ],
          "scatterpolargl": [
           {
            "marker": {
             "colorbar": {
              "outlinewidth": 0,
              "ticks": ""
             }
            },
            "type": "scatterpolargl"
           }
          ],
          "scatterternary": [
           {
            "marker": {
             "colorbar": {
              "outlinewidth": 0,
              "ticks": ""
             }
            },
            "type": "scatterternary"
           }
          ],
          "surface": [
           {
            "colorbar": {
             "outlinewidth": 0,
             "ticks": ""
            },
            "colorscale": [
             [
              0,
              "#0d0887"
             ],
             [
              0.1111111111111111,
              "#46039f"
             ],
             [
              0.2222222222222222,
              "#7201a8"
             ],
             [
              0.3333333333333333,
              "#9c179e"
             ],
             [
              0.4444444444444444,
              "#bd3786"
             ],
             [
              0.5555555555555556,
              "#d8576b"
             ],
             [
              0.6666666666666666,
              "#ed7953"
             ],
             [
              0.7777777777777778,
              "#fb9f3a"
             ],
             [
              0.8888888888888888,
              "#fdca26"
             ],
             [
              1,
              "#f0f921"
             ]
            ],
            "type": "surface"
           }
          ],
          "table": [
           {
            "cells": {
             "fill": {
              "color": "#EBF0F8"
             },
             "line": {
              "color": "white"
             }
            },
            "header": {
             "fill": {
              "color": "#C8D4E3"
             },
             "line": {
              "color": "white"
             }
            },
            "type": "table"
           }
          ]
         },
         "layout": {
          "annotationdefaults": {
           "arrowcolor": "#2a3f5f",
           "arrowhead": 0,
           "arrowwidth": 1
          },
          "autotypenumbers": "strict",
          "coloraxis": {
           "colorbar": {
            "outlinewidth": 0,
            "ticks": ""
           }
          },
          "colorscale": {
           "diverging": [
            [
             0,
             "#8e0152"
            ],
            [
             0.1,
             "#c51b7d"
            ],
            [
             0.2,
             "#de77ae"
            ],
            [
             0.3,
             "#f1b6da"
            ],
            [
             0.4,
             "#fde0ef"
            ],
            [
             0.5,
             "#f7f7f7"
            ],
            [
             0.6,
             "#e6f5d0"
            ],
            [
             0.7,
             "#b8e186"
            ],
            [
             0.8,
             "#7fbc41"
            ],
            [
             0.9,
             "#4d9221"
            ],
            [
             1,
             "#276419"
            ]
           ],
           "sequential": [
            [
             0,
             "#0d0887"
            ],
            [
             0.1111111111111111,
             "#46039f"
            ],
            [
             0.2222222222222222,
             "#7201a8"
            ],
            [
             0.3333333333333333,
             "#9c179e"
            ],
            [
             0.4444444444444444,
             "#bd3786"
            ],
            [
             0.5555555555555556,
             "#d8576b"
            ],
            [
             0.6666666666666666,
             "#ed7953"
            ],
            [
             0.7777777777777778,
             "#fb9f3a"
            ],
            [
             0.8888888888888888,
             "#fdca26"
            ],
            [
             1,
             "#f0f921"
            ]
           ],
           "sequentialminus": [
            [
             0,
             "#0d0887"
            ],
            [
             0.1111111111111111,
             "#46039f"
            ],
            [
             0.2222222222222222,
             "#7201a8"
            ],
            [
             0.3333333333333333,
             "#9c179e"
            ],
            [
             0.4444444444444444,
             "#bd3786"
            ],
            [
             0.5555555555555556,
             "#d8576b"
            ],
            [
             0.6666666666666666,
             "#ed7953"
            ],
            [
             0.7777777777777778,
             "#fb9f3a"
            ],
            [
             0.8888888888888888,
             "#fdca26"
            ],
            [
             1,
             "#f0f921"
            ]
           ]
          },
          "colorway": [
           "#636efa",
           "#EF553B",
           "#00cc96",
           "#ab63fa",
           "#FFA15A",
           "#19d3f3",
           "#FF6692",
           "#B6E880",
           "#FF97FF",
           "#FECB52"
          ],
          "font": {
           "color": "#2a3f5f"
          },
          "geo": {
           "bgcolor": "white",
           "lakecolor": "white",
           "landcolor": "#E5ECF6",
           "showlakes": true,
           "showland": true,
           "subunitcolor": "white"
          },
          "hoverlabel": {
           "align": "left"
          },
          "hovermode": "closest",
          "mapbox": {
           "style": "light"
          },
          "paper_bgcolor": "white",
          "plot_bgcolor": "#E5ECF6",
          "polar": {
           "angularaxis": {
            "gridcolor": "white",
            "linecolor": "white",
            "ticks": ""
           },
           "bgcolor": "#E5ECF6",
           "radialaxis": {
            "gridcolor": "white",
            "linecolor": "white",
            "ticks": ""
           }
          },
          "scene": {
           "xaxis": {
            "backgroundcolor": "#E5ECF6",
            "gridcolor": "white",
            "gridwidth": 2,
            "linecolor": "white",
            "showbackground": true,
            "ticks": "",
            "zerolinecolor": "white"
           },
           "yaxis": {
            "backgroundcolor": "#E5ECF6",
            "gridcolor": "white",
            "gridwidth": 2,
            "linecolor": "white",
            "showbackground": true,
            "ticks": "",
            "zerolinecolor": "white"
           },
           "zaxis": {
            "backgroundcolor": "#E5ECF6",
            "gridcolor": "white",
            "gridwidth": 2,
            "linecolor": "white",
            "showbackground": true,
            "ticks": "",
            "zerolinecolor": "white"
           }
          },
          "shapedefaults": {
           "line": {
            "color": "#2a3f5f"
           }
          },
          "ternary": {
           "aaxis": {
            "gridcolor": "white",
            "linecolor": "white",
            "ticks": ""
           },
           "baxis": {
            "gridcolor": "white",
            "linecolor": "white",
            "ticks": ""
           },
           "bgcolor": "#E5ECF6",
           "caxis": {
            "gridcolor": "white",
            "linecolor": "white",
            "ticks": ""
           }
          },
          "title": {
           "x": 0.05
          },
          "xaxis": {
           "automargin": true,
           "gridcolor": "white",
           "linecolor": "white",
           "ticks": "",
           "title": {
            "standoff": 15
           },
           "zerolinecolor": "white",
           "zerolinewidth": 2
          },
          "yaxis": {
           "automargin": true,
           "gridcolor": "white",
           "linecolor": "white",
           "ticks": "",
           "title": {
            "standoff": 15
           },
           "zerolinecolor": "white",
           "zerolinewidth": 2
          }
         }
        },
        "xaxis": {
         "title": {
          "text": "Theme"
         }
        },
        "yaxis": {
         "title": {
          "text": "Score"
         }
        }
       }
      }
     },
     "metadata": {},
     "output_type": "display_data"
    }
   ],
   "source": [
    "import pandas as pd\n",
    "import plotly.graph_objects as go\n",
    "\n",
    "# Load the three dataframes\n",
    "ktc_ict_2022 = pd.read_csv(\"C:/Users/kokuo/OneDrive/Study Files/Python/Visualisation Experiments/Know the Chain/KTC ICT Benchmark CSV Data/2022 KCT ICT.csv\")\n",
    "ktc_ict_2022.set_index('Company Name', inplace=True)\n",
    "\n",
    "# Create the bar chart\n",
    "fig = go.Figure(data=[\n",
    "    go.Bar(name='Theme 1', x=ktc_ict_2022['Theme 1: Commitment & Governance'], y=ktc_ict_2022.index, orientation='h'),\n",
    "    go.Bar(name='Theme 2', x=ktc_ict_2022['Theme 2: Traceability & Risk Assessment'], y=ktc_ict_2022.index, orientation='h'),\n",
    "    go.Bar(name='Theme 3', x=ktc_ict_2022['Theme 3: Purchasing Practices'], y=ktc_ict_2022.index, orientation='h'),\n",
    "    go.Bar(name='Theme 4', x=ktc_ict_2022['Theme 4: Recruitment'], y=ktc_ict_2022.index, orientation='h'),\n",
    "    go.Bar(name='Theme 5', x=ktc_ict_2022['Theme 5: Worker Voice'], y=ktc_ict_2022.index, orientation='h'),\n",
    "    go.Bar(name='Theme 6', x=ktc_ict_2022['Theme 6: Monitoring'], y=ktc_ict_2022.index, orientation='h'),\n",
    "    go.Bar(name='Theme 7', x=ktc_ict_2022['Theme 7: Remedy'], y=ktc_ict_2022.index, orientation='h')\n",
    "])\n",
    "\n",
    "# Update the layout\n",
    "fig.update_layout(barmode='group', xaxis_title='Theme', yaxis_title='Score')\n",
    "\n",
    "# Show the graph\n",
    "fig.show()\n"
   ]
  },
  {
   "cell_type": "code",
   "execution_count": 42,
   "metadata": {},
   "outputs": [
    {
     "data": {
      "application/vnd.plotly.v1+json": {
       "config": {
        "plotlyServerURL": "https://plot.ly"
       },
       "data": [
        {
         "name": "Theme 1: Commitment & Governance",
         "type": "bar",
         "x": [
          91.66666667,
          83.33333333,
          83.33333333,
          75,
          87.5,
          75,
          79.16666667,
          54.16666667,
          75,
          70.83333333,
          70.83333333,
          54.16666667,
          83.33333333,
          70.83333333,
          70.83333333,
          54.16666667,
          66.66666667,
          58.33333333,
          50,
          75,
          50,
          54.16666667,
          66.66666667,
          54.16666667,
          41.66666667,
          50,
          29.16666667,
          45.83333333,
          50,
          50,
          33.33333333,
          29.16666667,
          37.5,
          25,
          20.83333333,
          20.83333333,
          37.5,
          29.16666667,
          50,
          25,
          29.16666667,
          45.83333333,
          20.83333333,
          33.33333333,
          33.33333333,
          37.5,
          37.5,
          33.33333333,
          41.66666667,
          37.5,
          20.83333333,
          8.333333333,
          12.5,
          12.5,
          12.5,
          8.333333333,
          8.333333333,
          0,
          0,
          0
         ],
         "y": [
          0,
          1,
          2,
          3,
          4,
          5,
          6,
          7,
          8,
          9,
          10,
          11,
          12,
          13,
          14,
          15,
          16,
          17,
          18,
          19,
          20,
          21,
          22,
          23,
          24,
          25,
          26,
          27,
          28,
          29,
          30,
          31,
          32,
          33,
          34,
          35,
          36,
          37,
          38,
          39,
          40,
          41,
          42,
          43,
          44,
          45,
          46,
          47,
          48,
          49,
          50,
          51,
          52,
          53,
          54,
          55,
          56,
          57,
          58,
          59
         ]
        },
        {
         "name": "Theme 2: Traceability & Risk Assessment",
         "type": "bar",
         "x": [
          88.19444444,
          77.08333333,
          64.58333333,
          54.86111111,
          63.19444444,
          45.83333333,
          38.88888889,
          66.66666667,
          40.97222222,
          46.52777778,
          32.63888889,
          49.30555556,
          31.94444444,
          28.47222222,
          27.08333333,
          28.47222222,
          39.58333333,
          16.66666667,
          26.38888889,
          26.38888889,
          32.63888889,
          31.94444444,
          28.47222222,
          22.91666667,
          31.94444444,
          22.22222222,
          26.38888889,
          16.66666667,
          16.66666667,
          4.166666667,
          26.38888889,
          22.22222222,
          11.11111111,
          22.22222222,
          26.38888889,
          26.38888889,
          16.66666667,
          22.22222222,
          4.166666667,
          22.22222222,
          20.83333333,
          11.11111111,
          20.83333333,
          11.11111111,
          11.11111111,
          9.722222222,
          5.555555556,
          11.11111111,
          0,
          0,
          0,
          11.11111111,
          5.555555556,
          0,
          5.555555556,
          0,
          0,
          0,
          0,
          0
         ],
         "y": [
          0,
          1,
          2,
          3,
          4,
          5,
          6,
          7,
          8,
          9,
          10,
          11,
          12,
          13,
          14,
          15,
          16,
          17,
          18,
          19,
          20,
          21,
          22,
          23,
          24,
          25,
          26,
          27,
          28,
          29,
          30,
          31,
          32,
          33,
          34,
          35,
          36,
          37,
          38,
          39,
          40,
          41,
          42,
          43,
          44,
          45,
          46,
          47,
          48,
          49,
          50,
          51,
          52,
          53,
          54,
          55,
          56,
          57,
          58,
          59
         ]
        },
        {
         "name": "Theme 3: Purchasing Practices",
         "type": "bar",
         "x": [
          0,
          0,
          50,
          0,
          0,
          25,
          0,
          0,
          50,
          0,
          0,
          0,
          0,
          0,
          0,
          0,
          0,
          0,
          0,
          0,
          0,
          0,
          0,
          16.66666667,
          0,
          0,
          0,
          0,
          0,
          0,
          0,
          0,
          0,
          0,
          0,
          0,
          0,
          0,
          0,
          0,
          0,
          0,
          0,
          0,
          0,
          0,
          0,
          0,
          0,
          0,
          0,
          0,
          0,
          0,
          0,
          0,
          0,
          0,
          0,
          0
         ],
         "y": [
          0,
          1,
          2,
          3,
          4,
          5,
          6,
          7,
          8,
          9,
          10,
          11,
          12,
          13,
          14,
          15,
          16,
          17,
          18,
          19,
          20,
          21,
          22,
          23,
          24,
          25,
          26,
          27,
          28,
          29,
          30,
          31,
          32,
          33,
          34,
          35,
          36,
          37,
          38,
          39,
          40,
          41,
          42,
          43,
          44,
          45,
          46,
          47,
          48,
          49,
          50,
          51,
          52,
          53,
          54,
          55,
          56,
          57,
          58,
          59
         ]
        },
        {
         "name": "Theme 4: Recruitment",
         "type": "bar",
         "x": [
          75,
          62.5,
          33.75,
          93.75,
          55,
          42.5,
          27.5,
          67.5,
          15,
          40,
          40,
          22.5,
          18.75,
          18.75,
          31.25,
          18.75,
          15,
          32.5,
          27.5,
          20,
          15,
          7.5,
          7.5,
          7.5,
          7.5,
          7.5,
          7.5,
          7.5,
          7.5,
          15,
          7.5,
          7.5,
          15,
          7.5,
          7.5,
          7.5,
          7.5,
          7.5,
          7.5,
          7.5,
          0,
          5,
          7.5,
          5,
          0,
          0,
          5,
          5,
          5,
          7.5,
          0,
          5,
          7.5,
          7.5,
          0,
          7.5,
          0,
          0,
          0,
          0
         ],
         "y": [
          0,
          1,
          2,
          3,
          4,
          5,
          6,
          7,
          8,
          9,
          10,
          11,
          12,
          13,
          14,
          15,
          16,
          17,
          18,
          19,
          20,
          21,
          22,
          23,
          24,
          25,
          26,
          27,
          28,
          29,
          30,
          31,
          32,
          33,
          34,
          35,
          36,
          37,
          38,
          39,
          40,
          41,
          42,
          43,
          44,
          45,
          46,
          47,
          48,
          49,
          50,
          51,
          52,
          53,
          54,
          55,
          56,
          57,
          58,
          59
         ]
        },
        {
         "name": "Theme 5: Worker Voice",
         "type": "bar",
         "x": [
          18.33333333,
          24.16666667,
          17.5,
          30.83333333,
          17.5,
          37.5,
          7.5,
          5,
          20,
          7.5,
          7.5,
          7.5,
          15,
          5,
          5,
          7.5,
          10,
          17.5,
          5,
          5,
          5,
          7.5,
          7.5,
          7.5,
          7.5,
          5,
          7.5,
          5,
          5,
          15,
          5,
          7.5,
          5,
          7.5,
          7.5,
          7.5,
          5,
          5,
          5,
          7.5,
          7.5,
          0,
          7.5,
          5,
          7.5,
          5,
          5,
          0,
          7.5,
          7.5,
          5,
          0,
          0,
          5,
          0,
          0,
          0,
          0,
          0,
          0
         ],
         "y": [
          0,
          1,
          2,
          3,
          4,
          5,
          6,
          7,
          8,
          9,
          10,
          11,
          12,
          13,
          14,
          15,
          16,
          17,
          18,
          19,
          20,
          21,
          22,
          23,
          24,
          25,
          26,
          27,
          28,
          29,
          30,
          31,
          32,
          33,
          34,
          35,
          36,
          37,
          38,
          39,
          40,
          41,
          42,
          43,
          44,
          45,
          46,
          47,
          48,
          49,
          50,
          51,
          52,
          53,
          54,
          55,
          56,
          57,
          58,
          59
         ]
        },
        {
         "name": "Theme 6: Monitoring",
         "type": "bar",
         "x": [
          55,
          55,
          45,
          45,
          30,
          35,
          40,
          30,
          35,
          45,
          35,
          15,
          50,
          40,
          10,
          40,
          10,
          30,
          0,
          10,
          30,
          40,
          10,
          30,
          30,
          10,
          10,
          10,
          0,
          0,
          0,
          10,
          10,
          10,
          0,
          0,
          0,
          0,
          10,
          0,
          0,
          0,
          0,
          10,
          0,
          0,
          0,
          0,
          0,
          0,
          10,
          0,
          0,
          0,
          0,
          0,
          0,
          0,
          0,
          0
         ],
         "y": [
          0,
          1,
          2,
          3,
          4,
          5,
          6,
          7,
          8,
          9,
          10,
          11,
          12,
          13,
          14,
          15,
          16,
          17,
          18,
          19,
          20,
          21,
          22,
          23,
          24,
          25,
          26,
          27,
          28,
          29,
          30,
          31,
          32,
          33,
          34,
          35,
          36,
          37,
          38,
          39,
          40,
          41,
          42,
          43,
          44,
          45,
          46,
          47,
          48,
          49,
          50,
          51,
          52,
          53,
          54,
          55,
          56,
          57,
          58,
          59
         ]
        },
        {
         "name": "Theme 7: Remedy",
         "type": "bar",
         "x": [
          70,
          90,
          90,
          20,
          20,
          40,
          100,
          12.5,
          50,
          50,
          40,
          60,
          18.75,
          60,
          40,
          40,
          18.75,
          10,
          40,
          0,
          12.5,
          0,
          0,
          0,
          0,
          0,
          10,
          0,
          0,
          0,
          0,
          0,
          0,
          0,
          0,
          0,
          0,
          0,
          0,
          0,
          0,
          0,
          0,
          0,
          0,
          0,
          0,
          0,
          0,
          0,
          0,
          0,
          0,
          0,
          0,
          0,
          0,
          0,
          0,
          0
         ],
         "y": [
          0,
          1,
          2,
          3,
          4,
          5,
          6,
          7,
          8,
          9,
          10,
          11,
          12,
          13,
          14,
          15,
          16,
          17,
          18,
          19,
          20,
          21,
          22,
          23,
          24,
          25,
          26,
          27,
          28,
          29,
          30,
          31,
          32,
          33,
          34,
          35,
          36,
          37,
          38,
          39,
          40,
          41,
          42,
          43,
          44,
          45,
          46,
          47,
          48,
          49,
          50,
          51,
          52,
          53,
          54,
          55,
          56,
          57,
          58,
          59
         ]
        }
       ],
       "layout": {
        "barmode": "group",
        "template": {
         "data": {
          "bar": [
           {
            "error_x": {
             "color": "#2a3f5f"
            },
            "error_y": {
             "color": "#2a3f5f"
            },
            "marker": {
             "line": {
              "color": "#E5ECF6",
              "width": 0.5
             },
             "pattern": {
              "fillmode": "overlay",
              "size": 10,
              "solidity": 0.2
             }
            },
            "type": "bar"
           }
          ],
          "barpolar": [
           {
            "marker": {
             "line": {
              "color": "#E5ECF6",
              "width": 0.5
             },
             "pattern": {
              "fillmode": "overlay",
              "size": 10,
              "solidity": 0.2
             }
            },
            "type": "barpolar"
           }
          ],
          "carpet": [
           {
            "aaxis": {
             "endlinecolor": "#2a3f5f",
             "gridcolor": "white",
             "linecolor": "white",
             "minorgridcolor": "white",
             "startlinecolor": "#2a3f5f"
            },
            "baxis": {
             "endlinecolor": "#2a3f5f",
             "gridcolor": "white",
             "linecolor": "white",
             "minorgridcolor": "white",
             "startlinecolor": "#2a3f5f"
            },
            "type": "carpet"
           }
          ],
          "choropleth": [
           {
            "colorbar": {
             "outlinewidth": 0,
             "ticks": ""
            },
            "type": "choropleth"
           }
          ],
          "contour": [
           {
            "colorbar": {
             "outlinewidth": 0,
             "ticks": ""
            },
            "colorscale": [
             [
              0,
              "#0d0887"
             ],
             [
              0.1111111111111111,
              "#46039f"
             ],
             [
              0.2222222222222222,
              "#7201a8"
             ],
             [
              0.3333333333333333,
              "#9c179e"
             ],
             [
              0.4444444444444444,
              "#bd3786"
             ],
             [
              0.5555555555555556,
              "#d8576b"
             ],
             [
              0.6666666666666666,
              "#ed7953"
             ],
             [
              0.7777777777777778,
              "#fb9f3a"
             ],
             [
              0.8888888888888888,
              "#fdca26"
             ],
             [
              1,
              "#f0f921"
             ]
            ],
            "type": "contour"
           }
          ],
          "contourcarpet": [
           {
            "colorbar": {
             "outlinewidth": 0,
             "ticks": ""
            },
            "type": "contourcarpet"
           }
          ],
          "heatmap": [
           {
            "colorbar": {
             "outlinewidth": 0,
             "ticks": ""
            },
            "colorscale": [
             [
              0,
              "#0d0887"
             ],
             [
              0.1111111111111111,
              "#46039f"
             ],
             [
              0.2222222222222222,
              "#7201a8"
             ],
             [
              0.3333333333333333,
              "#9c179e"
             ],
             [
              0.4444444444444444,
              "#bd3786"
             ],
             [
              0.5555555555555556,
              "#d8576b"
             ],
             [
              0.6666666666666666,
              "#ed7953"
             ],
             [
              0.7777777777777778,
              "#fb9f3a"
             ],
             [
              0.8888888888888888,
              "#fdca26"
             ],
             [
              1,
              "#f0f921"
             ]
            ],
            "type": "heatmap"
           }
          ],
          "heatmapgl": [
           {
            "colorbar": {
             "outlinewidth": 0,
             "ticks": ""
            },
            "colorscale": [
             [
              0,
              "#0d0887"
             ],
             [
              0.1111111111111111,
              "#46039f"
             ],
             [
              0.2222222222222222,
              "#7201a8"
             ],
             [
              0.3333333333333333,
              "#9c179e"
             ],
             [
              0.4444444444444444,
              "#bd3786"
             ],
             [
              0.5555555555555556,
              "#d8576b"
             ],
             [
              0.6666666666666666,
              "#ed7953"
             ],
             [
              0.7777777777777778,
              "#fb9f3a"
             ],
             [
              0.8888888888888888,
              "#fdca26"
             ],
             [
              1,
              "#f0f921"
             ]
            ],
            "type": "heatmapgl"
           }
          ],
          "histogram": [
           {
            "marker": {
             "pattern": {
              "fillmode": "overlay",
              "size": 10,
              "solidity": 0.2
             }
            },
            "type": "histogram"
           }
          ],
          "histogram2d": [
           {
            "colorbar": {
             "outlinewidth": 0,
             "ticks": ""
            },
            "colorscale": [
             [
              0,
              "#0d0887"
             ],
             [
              0.1111111111111111,
              "#46039f"
             ],
             [
              0.2222222222222222,
              "#7201a8"
             ],
             [
              0.3333333333333333,
              "#9c179e"
             ],
             [
              0.4444444444444444,
              "#bd3786"
             ],
             [
              0.5555555555555556,
              "#d8576b"
             ],
             [
              0.6666666666666666,
              "#ed7953"
             ],
             [
              0.7777777777777778,
              "#fb9f3a"
             ],
             [
              0.8888888888888888,
              "#fdca26"
             ],
             [
              1,
              "#f0f921"
             ]
            ],
            "type": "histogram2d"
           }
          ],
          "histogram2dcontour": [
           {
            "colorbar": {
             "outlinewidth": 0,
             "ticks": ""
            },
            "colorscale": [
             [
              0,
              "#0d0887"
             ],
             [
              0.1111111111111111,
              "#46039f"
             ],
             [
              0.2222222222222222,
              "#7201a8"
             ],
             [
              0.3333333333333333,
              "#9c179e"
             ],
             [
              0.4444444444444444,
              "#bd3786"
             ],
             [
              0.5555555555555556,
              "#d8576b"
             ],
             [
              0.6666666666666666,
              "#ed7953"
             ],
             [
              0.7777777777777778,
              "#fb9f3a"
             ],
             [
              0.8888888888888888,
              "#fdca26"
             ],
             [
              1,
              "#f0f921"
             ]
            ],
            "type": "histogram2dcontour"
           }
          ],
          "mesh3d": [
           {
            "colorbar": {
             "outlinewidth": 0,
             "ticks": ""
            },
            "type": "mesh3d"
           }
          ],
          "parcoords": [
           {
            "line": {
             "colorbar": {
              "outlinewidth": 0,
              "ticks": ""
             }
            },
            "type": "parcoords"
           }
          ],
          "pie": [
           {
            "automargin": true,
            "type": "pie"
           }
          ],
          "scatter": [
           {
            "fillpattern": {
             "fillmode": "overlay",
             "size": 10,
             "solidity": 0.2
            },
            "type": "scatter"
           }
          ],
          "scatter3d": [
           {
            "line": {
             "colorbar": {
              "outlinewidth": 0,
              "ticks": ""
             }
            },
            "marker": {
             "colorbar": {
              "outlinewidth": 0,
              "ticks": ""
             }
            },
            "type": "scatter3d"
           }
          ],
          "scattercarpet": [
           {
            "marker": {
             "colorbar": {
              "outlinewidth": 0,
              "ticks": ""
             }
            },
            "type": "scattercarpet"
           }
          ],
          "scattergeo": [
           {
            "marker": {
             "colorbar": {
              "outlinewidth": 0,
              "ticks": ""
             }
            },
            "type": "scattergeo"
           }
          ],
          "scattergl": [
           {
            "marker": {
             "colorbar": {
              "outlinewidth": 0,
              "ticks": ""
             }
            },
            "type": "scattergl"
           }
          ],
          "scattermapbox": [
           {
            "marker": {
             "colorbar": {
              "outlinewidth": 0,
              "ticks": ""
             }
            },
            "type": "scattermapbox"
           }
          ],
          "scatterpolar": [
           {
            "marker": {
             "colorbar": {
              "outlinewidth": 0,
              "ticks": ""
             }
            },
            "type": "scatterpolar"
           }
          ],
          "scatterpolargl": [
           {
            "marker": {
             "colorbar": {
              "outlinewidth": 0,
              "ticks": ""
             }
            },
            "type": "scatterpolargl"
           }
          ],
          "scatterternary": [
           {
            "marker": {
             "colorbar": {
              "outlinewidth": 0,
              "ticks": ""
             }
            },
            "type": "scatterternary"
           }
          ],
          "surface": [
           {
            "colorbar": {
             "outlinewidth": 0,
             "ticks": ""
            },
            "colorscale": [
             [
              0,
              "#0d0887"
             ],
             [
              0.1111111111111111,
              "#46039f"
             ],
             [
              0.2222222222222222,
              "#7201a8"
             ],
             [
              0.3333333333333333,
              "#9c179e"
             ],
             [
              0.4444444444444444,
              "#bd3786"
             ],
             [
              0.5555555555555556,
              "#d8576b"
             ],
             [
              0.6666666666666666,
              "#ed7953"
             ],
             [
              0.7777777777777778,
              "#fb9f3a"
             ],
             [
              0.8888888888888888,
              "#fdca26"
             ],
             [
              1,
              "#f0f921"
             ]
            ],
            "type": "surface"
           }
          ],
          "table": [
           {
            "cells": {
             "fill": {
              "color": "#EBF0F8"
             },
             "line": {
              "color": "white"
             }
            },
            "header": {
             "fill": {
              "color": "#C8D4E3"
             },
             "line": {
              "color": "white"
             }
            },
            "type": "table"
           }
          ]
         },
         "layout": {
          "annotationdefaults": {
           "arrowcolor": "#2a3f5f",
           "arrowhead": 0,
           "arrowwidth": 1
          },
          "autotypenumbers": "strict",
          "coloraxis": {
           "colorbar": {
            "outlinewidth": 0,
            "ticks": ""
           }
          },
          "colorscale": {
           "diverging": [
            [
             0,
             "#8e0152"
            ],
            [
             0.1,
             "#c51b7d"
            ],
            [
             0.2,
             "#de77ae"
            ],
            [
             0.3,
             "#f1b6da"
            ],
            [
             0.4,
             "#fde0ef"
            ],
            [
             0.5,
             "#f7f7f7"
            ],
            [
             0.6,
             "#e6f5d0"
            ],
            [
             0.7,
             "#b8e186"
            ],
            [
             0.8,
             "#7fbc41"
            ],
            [
             0.9,
             "#4d9221"
            ],
            [
             1,
             "#276419"
            ]
           ],
           "sequential": [
            [
             0,
             "#0d0887"
            ],
            [
             0.1111111111111111,
             "#46039f"
            ],
            [
             0.2222222222222222,
             "#7201a8"
            ],
            [
             0.3333333333333333,
             "#9c179e"
            ],
            [
             0.4444444444444444,
             "#bd3786"
            ],
            [
             0.5555555555555556,
             "#d8576b"
            ],
            [
             0.6666666666666666,
             "#ed7953"
            ],
            [
             0.7777777777777778,
             "#fb9f3a"
            ],
            [
             0.8888888888888888,
             "#fdca26"
            ],
            [
             1,
             "#f0f921"
            ]
           ],
           "sequentialminus": [
            [
             0,
             "#0d0887"
            ],
            [
             0.1111111111111111,
             "#46039f"
            ],
            [
             0.2222222222222222,
             "#7201a8"
            ],
            [
             0.3333333333333333,
             "#9c179e"
            ],
            [
             0.4444444444444444,
             "#bd3786"
            ],
            [
             0.5555555555555556,
             "#d8576b"
            ],
            [
             0.6666666666666666,
             "#ed7953"
            ],
            [
             0.7777777777777778,
             "#fb9f3a"
            ],
            [
             0.8888888888888888,
             "#fdca26"
            ],
            [
             1,
             "#f0f921"
            ]
           ]
          },
          "colorway": [
           "#636efa",
           "#EF553B",
           "#00cc96",
           "#ab63fa",
           "#FFA15A",
           "#19d3f3",
           "#FF6692",
           "#B6E880",
           "#FF97FF",
           "#FECB52"
          ],
          "font": {
           "color": "#2a3f5f"
          },
          "geo": {
           "bgcolor": "white",
           "lakecolor": "white",
           "landcolor": "#E5ECF6",
           "showlakes": true,
           "showland": true,
           "subunitcolor": "white"
          },
          "hoverlabel": {
           "align": "left"
          },
          "hovermode": "closest",
          "mapbox": {
           "style": "light"
          },
          "paper_bgcolor": "white",
          "plot_bgcolor": "#E5ECF6",
          "polar": {
           "angularaxis": {
            "gridcolor": "white",
            "linecolor": "white",
            "ticks": ""
           },
           "bgcolor": "#E5ECF6",
           "radialaxis": {
            "gridcolor": "white",
            "linecolor": "white",
            "ticks": ""
           }
          },
          "scene": {
           "xaxis": {
            "backgroundcolor": "#E5ECF6",
            "gridcolor": "white",
            "gridwidth": 2,
            "linecolor": "white",
            "showbackground": true,
            "ticks": "",
            "zerolinecolor": "white"
           },
           "yaxis": {
            "backgroundcolor": "#E5ECF6",
            "gridcolor": "white",
            "gridwidth": 2,
            "linecolor": "white",
            "showbackground": true,
            "ticks": "",
            "zerolinecolor": "white"
           },
           "zaxis": {
            "backgroundcolor": "#E5ECF6",
            "gridcolor": "white",
            "gridwidth": 2,
            "linecolor": "white",
            "showbackground": true,
            "ticks": "",
            "zerolinecolor": "white"
           }
          },
          "shapedefaults": {
           "line": {
            "color": "#2a3f5f"
           }
          },
          "ternary": {
           "aaxis": {
            "gridcolor": "white",
            "linecolor": "white",
            "ticks": ""
           },
           "baxis": {
            "gridcolor": "white",
            "linecolor": "white",
            "ticks": ""
           },
           "bgcolor": "#E5ECF6",
           "caxis": {
            "gridcolor": "white",
            "linecolor": "white",
            "ticks": ""
           }
          },
          "title": {
           "x": 0.05
          },
          "xaxis": {
           "automargin": true,
           "gridcolor": "white",
           "linecolor": "white",
           "ticks": "",
           "title": {
            "standoff": 15
           },
           "zerolinecolor": "white",
           "zerolinewidth": 2
          },
          "yaxis": {
           "automargin": true,
           "gridcolor": "white",
           "linecolor": "white",
           "ticks": "",
           "title": {
            "standoff": 15
           },
           "zerolinecolor": "white",
           "zerolinewidth": 2
          }
         }
        },
        "xaxis": {
         "title": {
          "text": "Score"
         }
        },
        "yaxis": {
         "title": {
          "text": "Company"
         }
        }
       }
      }
     },
     "metadata": {},
     "output_type": "display_data"
    }
   ],
   "source": [
    "import pandas as pd\n",
    "import plotly.graph_objects as go\n",
    "\n",
    "# Load the data frame\n",
    "ktc_ict_2022 = pd.read_csv(\"C:/Users/kokuo/OneDrive/Study Files/Python/Visualisation Experiments/Know the Chain/KTC ICT Benchmark CSV Data/2022 KCT ICT.csv\")\n",
    "\n",
    "# Get the relevant columns\n",
    "data = ktc_ict_2022.loc[:, 'Theme 1: Commitment & Governance':'Theme 7: Remedy']\n",
    "\n",
    "# Create the bar chart\n",
    "fig = go.Figure()\n",
    "for column in data.columns:\n",
    "    fig.add_trace(go.Bar(x=data[column], y=data.index, name=column))\n",
    "\n",
    "# Update the layout\n",
    "fig.update_layout(barmode='group', xaxis_title='Score', yaxis_title='Company')\n",
    "\n",
    "# Show the graph\n",
    "fig.show()\n"
   ]
  },
  {
   "cell_type": "code",
   "execution_count": 45,
   "metadata": {},
   "outputs": [
    {
     "data": {
      "application/vnd.plotly.v1+json": {
       "config": {
        "plotlyServerURL": "https://plot.ly"
       },
       "data": [
        {
         "orientation": "h",
         "type": "bar",
         "x": [
          44.374999999816666,
          24.189814814233333,
          2.3611111111666663,
          16.625,
          7.805555555500001,
          14.75,
          14.875
         ],
         "y": [
          "Theme 1: Commitment & Governance",
          "Theme 2: Traceability & Risk Assessment",
          "Theme 3: Purchasing Practices",
          "Theme 4: Recruitment",
          "Theme 5: Worker Voice",
          "Theme 6: Monitoring",
          "Theme 7: Remedy"
         ]
        }
       ],
       "layout": {
        "template": {
         "data": {
          "bar": [
           {
            "error_x": {
             "color": "#2a3f5f"
            },
            "error_y": {
             "color": "#2a3f5f"
            },
            "marker": {
             "line": {
              "color": "#E5ECF6",
              "width": 0.5
             },
             "pattern": {
              "fillmode": "overlay",
              "size": 10,
              "solidity": 0.2
             }
            },
            "type": "bar"
           }
          ],
          "barpolar": [
           {
            "marker": {
             "line": {
              "color": "#E5ECF6",
              "width": 0.5
             },
             "pattern": {
              "fillmode": "overlay",
              "size": 10,
              "solidity": 0.2
             }
            },
            "type": "barpolar"
           }
          ],
          "carpet": [
           {
            "aaxis": {
             "endlinecolor": "#2a3f5f",
             "gridcolor": "white",
             "linecolor": "white",
             "minorgridcolor": "white",
             "startlinecolor": "#2a3f5f"
            },
            "baxis": {
             "endlinecolor": "#2a3f5f",
             "gridcolor": "white",
             "linecolor": "white",
             "minorgridcolor": "white",
             "startlinecolor": "#2a3f5f"
            },
            "type": "carpet"
           }
          ],
          "choropleth": [
           {
            "colorbar": {
             "outlinewidth": 0,
             "ticks": ""
            },
            "type": "choropleth"
           }
          ],
          "contour": [
           {
            "colorbar": {
             "outlinewidth": 0,
             "ticks": ""
            },
            "colorscale": [
             [
              0,
              "#0d0887"
             ],
             [
              0.1111111111111111,
              "#46039f"
             ],
             [
              0.2222222222222222,
              "#7201a8"
             ],
             [
              0.3333333333333333,
              "#9c179e"
             ],
             [
              0.4444444444444444,
              "#bd3786"
             ],
             [
              0.5555555555555556,
              "#d8576b"
             ],
             [
              0.6666666666666666,
              "#ed7953"
             ],
             [
              0.7777777777777778,
              "#fb9f3a"
             ],
             [
              0.8888888888888888,
              "#fdca26"
             ],
             [
              1,
              "#f0f921"
             ]
            ],
            "type": "contour"
           }
          ],
          "contourcarpet": [
           {
            "colorbar": {
             "outlinewidth": 0,
             "ticks": ""
            },
            "type": "contourcarpet"
           }
          ],
          "heatmap": [
           {
            "colorbar": {
             "outlinewidth": 0,
             "ticks": ""
            },
            "colorscale": [
             [
              0,
              "#0d0887"
             ],
             [
              0.1111111111111111,
              "#46039f"
             ],
             [
              0.2222222222222222,
              "#7201a8"
             ],
             [
              0.3333333333333333,
              "#9c179e"
             ],
             [
              0.4444444444444444,
              "#bd3786"
             ],
             [
              0.5555555555555556,
              "#d8576b"
             ],
             [
              0.6666666666666666,
              "#ed7953"
             ],
             [
              0.7777777777777778,
              "#fb9f3a"
             ],
             [
              0.8888888888888888,
              "#fdca26"
             ],
             [
              1,
              "#f0f921"
             ]
            ],
            "type": "heatmap"
           }
          ],
          "heatmapgl": [
           {
            "colorbar": {
             "outlinewidth": 0,
             "ticks": ""
            },
            "colorscale": [
             [
              0,
              "#0d0887"
             ],
             [
              0.1111111111111111,
              "#46039f"
             ],
             [
              0.2222222222222222,
              "#7201a8"
             ],
             [
              0.3333333333333333,
              "#9c179e"
             ],
             [
              0.4444444444444444,
              "#bd3786"
             ],
             [
              0.5555555555555556,
              "#d8576b"
             ],
             [
              0.6666666666666666,
              "#ed7953"
             ],
             [
              0.7777777777777778,
              "#fb9f3a"
             ],
             [
              0.8888888888888888,
              "#fdca26"
             ],
             [
              1,
              "#f0f921"
             ]
            ],
            "type": "heatmapgl"
           }
          ],
          "histogram": [
           {
            "marker": {
             "pattern": {
              "fillmode": "overlay",
              "size": 10,
              "solidity": 0.2
             }
            },
            "type": "histogram"
           }
          ],
          "histogram2d": [
           {
            "colorbar": {
             "outlinewidth": 0,
             "ticks": ""
            },
            "colorscale": [
             [
              0,
              "#0d0887"
             ],
             [
              0.1111111111111111,
              "#46039f"
             ],
             [
              0.2222222222222222,
              "#7201a8"
             ],
             [
              0.3333333333333333,
              "#9c179e"
             ],
             [
              0.4444444444444444,
              "#bd3786"
             ],
             [
              0.5555555555555556,
              "#d8576b"
             ],
             [
              0.6666666666666666,
              "#ed7953"
             ],
             [
              0.7777777777777778,
              "#fb9f3a"
             ],
             [
              0.8888888888888888,
              "#fdca26"
             ],
             [
              1,
              "#f0f921"
             ]
            ],
            "type": "histogram2d"
           }
          ],
          "histogram2dcontour": [
           {
            "colorbar": {
             "outlinewidth": 0,
             "ticks": ""
            },
            "colorscale": [
             [
              0,
              "#0d0887"
             ],
             [
              0.1111111111111111,
              "#46039f"
             ],
             [
              0.2222222222222222,
              "#7201a8"
             ],
             [
              0.3333333333333333,
              "#9c179e"
             ],
             [
              0.4444444444444444,
              "#bd3786"
             ],
             [
              0.5555555555555556,
              "#d8576b"
             ],
             [
              0.6666666666666666,
              "#ed7953"
             ],
             [
              0.7777777777777778,
              "#fb9f3a"
             ],
             [
              0.8888888888888888,
              "#fdca26"
             ],
             [
              1,
              "#f0f921"
             ]
            ],
            "type": "histogram2dcontour"
           }
          ],
          "mesh3d": [
           {
            "colorbar": {
             "outlinewidth": 0,
             "ticks": ""
            },
            "type": "mesh3d"
           }
          ],
          "parcoords": [
           {
            "line": {
             "colorbar": {
              "outlinewidth": 0,
              "ticks": ""
             }
            },
            "type": "parcoords"
           }
          ],
          "pie": [
           {
            "automargin": true,
            "type": "pie"
           }
          ],
          "scatter": [
           {
            "fillpattern": {
             "fillmode": "overlay",
             "size": 10,
             "solidity": 0.2
            },
            "type": "scatter"
           }
          ],
          "scatter3d": [
           {
            "line": {
             "colorbar": {
              "outlinewidth": 0,
              "ticks": ""
             }
            },
            "marker": {
             "colorbar": {
              "outlinewidth": 0,
              "ticks": ""
             }
            },
            "type": "scatter3d"
           }
          ],
          "scattercarpet": [
           {
            "marker": {
             "colorbar": {
              "outlinewidth": 0,
              "ticks": ""
             }
            },
            "type": "scattercarpet"
           }
          ],
          "scattergeo": [
           {
            "marker": {
             "colorbar": {
              "outlinewidth": 0,
              "ticks": ""
             }
            },
            "type": "scattergeo"
           }
          ],
          "scattergl": [
           {
            "marker": {
             "colorbar": {
              "outlinewidth": 0,
              "ticks": ""
             }
            },
            "type": "scattergl"
           }
          ],
          "scattermapbox": [
           {
            "marker": {
             "colorbar": {
              "outlinewidth": 0,
              "ticks": ""
             }
            },
            "type": "scattermapbox"
           }
          ],
          "scatterpolar": [
           {
            "marker": {
             "colorbar": {
              "outlinewidth": 0,
              "ticks": ""
             }
            },
            "type": "scatterpolar"
           }
          ],
          "scatterpolargl": [
           {
            "marker": {
             "colorbar": {
              "outlinewidth": 0,
              "ticks": ""
             }
            },
            "type": "scatterpolargl"
           }
          ],
          "scatterternary": [
           {
            "marker": {
             "colorbar": {
              "outlinewidth": 0,
              "ticks": ""
             }
            },
            "type": "scatterternary"
           }
          ],
          "surface": [
           {
            "colorbar": {
             "outlinewidth": 0,
             "ticks": ""
            },
            "colorscale": [
             [
              0,
              "#0d0887"
             ],
             [
              0.1111111111111111,
              "#46039f"
             ],
             [
              0.2222222222222222,
              "#7201a8"
             ],
             [
              0.3333333333333333,
              "#9c179e"
             ],
             [
              0.4444444444444444,
              "#bd3786"
             ],
             [
              0.5555555555555556,
              "#d8576b"
             ],
             [
              0.6666666666666666,
              "#ed7953"
             ],
             [
              0.7777777777777778,
              "#fb9f3a"
             ],
             [
              0.8888888888888888,
              "#fdca26"
             ],
             [
              1,
              "#f0f921"
             ]
            ],
            "type": "surface"
           }
          ],
          "table": [
           {
            "cells": {
             "fill": {
              "color": "#EBF0F8"
             },
             "line": {
              "color": "white"
             }
            },
            "header": {
             "fill": {
              "color": "#C8D4E3"
             },
             "line": {
              "color": "white"
             }
            },
            "type": "table"
           }
          ]
         },
         "layout": {
          "annotationdefaults": {
           "arrowcolor": "#2a3f5f",
           "arrowhead": 0,
           "arrowwidth": 1
          },
          "autotypenumbers": "strict",
          "coloraxis": {
           "colorbar": {
            "outlinewidth": 0,
            "ticks": ""
           }
          },
          "colorscale": {
           "diverging": [
            [
             0,
             "#8e0152"
            ],
            [
             0.1,
             "#c51b7d"
            ],
            [
             0.2,
             "#de77ae"
            ],
            [
             0.3,
             "#f1b6da"
            ],
            [
             0.4,
             "#fde0ef"
            ],
            [
             0.5,
             "#f7f7f7"
            ],
            [
             0.6,
             "#e6f5d0"
            ],
            [
             0.7,
             "#b8e186"
            ],
            [
             0.8,
             "#7fbc41"
            ],
            [
             0.9,
             "#4d9221"
            ],
            [
             1,
             "#276419"
            ]
           ],
           "sequential": [
            [
             0,
             "#0d0887"
            ],
            [
             0.1111111111111111,
             "#46039f"
            ],
            [
             0.2222222222222222,
             "#7201a8"
            ],
            [
             0.3333333333333333,
             "#9c179e"
            ],
            [
             0.4444444444444444,
             "#bd3786"
            ],
            [
             0.5555555555555556,
             "#d8576b"
            ],
            [
             0.6666666666666666,
             "#ed7953"
            ],
            [
             0.7777777777777778,
             "#fb9f3a"
            ],
            [
             0.8888888888888888,
             "#fdca26"
            ],
            [
             1,
             "#f0f921"
            ]
           ],
           "sequentialminus": [
            [
             0,
             "#0d0887"
            ],
            [
             0.1111111111111111,
             "#46039f"
            ],
            [
             0.2222222222222222,
             "#7201a8"
            ],
            [
             0.3333333333333333,
             "#9c179e"
            ],
            [
             0.4444444444444444,
             "#bd3786"
            ],
            [
             0.5555555555555556,
             "#d8576b"
            ],
            [
             0.6666666666666666,
             "#ed7953"
            ],
            [
             0.7777777777777778,
             "#fb9f3a"
            ],
            [
             0.8888888888888888,
             "#fdca26"
            ],
            [
             1,
             "#f0f921"
            ]
           ]
          },
          "colorway": [
           "#636efa",
           "#EF553B",
           "#00cc96",
           "#ab63fa",
           "#FFA15A",
           "#19d3f3",
           "#FF6692",
           "#B6E880",
           "#FF97FF",
           "#FECB52"
          ],
          "font": {
           "color": "#2a3f5f"
          },
          "geo": {
           "bgcolor": "white",
           "lakecolor": "white",
           "landcolor": "#E5ECF6",
           "showlakes": true,
           "showland": true,
           "subunitcolor": "white"
          },
          "hoverlabel": {
           "align": "left"
          },
          "hovermode": "closest",
          "mapbox": {
           "style": "light"
          },
          "paper_bgcolor": "white",
          "plot_bgcolor": "#E5ECF6",
          "polar": {
           "angularaxis": {
            "gridcolor": "white",
            "linecolor": "white",
            "ticks": ""
           },
           "bgcolor": "#E5ECF6",
           "radialaxis": {
            "gridcolor": "white",
            "linecolor": "white",
            "ticks": ""
           }
          },
          "scene": {
           "xaxis": {
            "backgroundcolor": "#E5ECF6",
            "gridcolor": "white",
            "gridwidth": 2,
            "linecolor": "white",
            "showbackground": true,
            "ticks": "",
            "zerolinecolor": "white"
           },
           "yaxis": {
            "backgroundcolor": "#E5ECF6",
            "gridcolor": "white",
            "gridwidth": 2,
            "linecolor": "white",
            "showbackground": true,
            "ticks": "",
            "zerolinecolor": "white"
           },
           "zaxis": {
            "backgroundcolor": "#E5ECF6",
            "gridcolor": "white",
            "gridwidth": 2,
            "linecolor": "white",
            "showbackground": true,
            "ticks": "",
            "zerolinecolor": "white"
           }
          },
          "shapedefaults": {
           "line": {
            "color": "#2a3f5f"
           }
          },
          "ternary": {
           "aaxis": {
            "gridcolor": "white",
            "linecolor": "white",
            "ticks": ""
           },
           "baxis": {
            "gridcolor": "white",
            "linecolor": "white",
            "ticks": ""
           },
           "bgcolor": "#E5ECF6",
           "caxis": {
            "gridcolor": "white",
            "linecolor": "white",
            "ticks": ""
           }
          },
          "title": {
           "x": 0.05
          },
          "xaxis": {
           "automargin": true,
           "gridcolor": "white",
           "linecolor": "white",
           "ticks": "",
           "title": {
            "standoff": 15
           },
           "zerolinecolor": "white",
           "zerolinewidth": 2
          },
          "yaxis": {
           "automargin": true,
           "gridcolor": "white",
           "linecolor": "white",
           "ticks": "",
           "title": {
            "standoff": 15
           },
           "zerolinecolor": "white",
           "zerolinewidth": 2
          }
         }
        },
        "xaxis": {
         "title": {
          "text": "Mean Score"
         }
        },
        "yaxis": {
         "title": {
          "text": "Theme"
         }
        }
       }
      }
     },
     "metadata": {},
     "output_type": "display_data"
    }
   ],
   "source": [
    "import pandas as pd\n",
    "import plotly.graph_objects as go\n",
    "\n",
    "# Load the data frame\n",
    "ktc_ict_2022 = pd.read_csv(\"C:/Users/kokuo/OneDrive/Study Files/Python/Visualisation Experiments/Know the Chain/KTC ICT Benchmark CSV Data/2022 KCT ICT.csv\")\n",
    "\n",
    "# Calculate the mean scores\n",
    "mean_scores = ktc_ict_2022.loc[:, 'Theme 1: Commitment & Governance':'Theme 7: Remedy'].mean()\n",
    "\n",
    "# Create the bar chart\n",
    "fig = go.Figure()\n",
    "fig.add_trace(go.Bar(x=mean_scores, y=mean_scores.index, orientation='h'))\n",
    "\n",
    "# Update the layout\n",
    "fig.update_layout(xaxis_title='Mean Score', yaxis_title='Theme')\n",
    "\n",
    "# Show the graph\n",
    "fig.show()\n"
   ]
  },
  {
   "cell_type": "code",
   "execution_count": 54,
   "metadata": {},
   "outputs": [
    {
     "name": "stderr",
     "output_type": "stream",
     "text": [
      "C:\\Users\\kokuo\\AppData\\Local\\Temp\\ipykernel_17704\\3766563802.py:17: FutureWarning:\n",
      "\n",
      "The default value of numeric_only in DataFrame.mean is deprecated. In a future version, it will default to False. In addition, specifying 'numeric_only=None' is deprecated. Select only valid columns or specify the value of numeric_only to silence this warning.\n",
      "\n",
      "C:\\Users\\kokuo\\AppData\\Local\\Temp\\ipykernel_17704\\3766563802.py:17: FutureWarning:\n",
      "\n",
      "The default value of numeric_only in DataFrame.mean is deprecated. In a future version, it will default to False. In addition, specifying 'numeric_only=None' is deprecated. Select only valid columns or specify the value of numeric_only to silence this warning.\n",
      "\n",
      "C:\\Users\\kokuo\\AppData\\Local\\Temp\\ipykernel_17704\\3766563802.py:17: FutureWarning:\n",
      "\n",
      "The default value of numeric_only in DataFrame.mean is deprecated. In a future version, it will default to False. In addition, specifying 'numeric_only=None' is deprecated. Select only valid columns or specify the value of numeric_only to silence this warning.\n",
      "\n"
     ]
    },
    {
     "data": {
      "application/vnd.plotly.v1+json": {
       "config": {
        "plotlyServerURL": "https://plot.ly"
       },
       "data": [
        {
         "orientation": "h",
         "type": "bar",
         "x": [
          44.374999999816666,
          24.189814814233333,
          2.3611111111666663,
          16.625,
          7.805555555500001,
          14.75,
          14.875
         ],
         "y": [
          "Theme 1: Commitment & Governance",
          "Theme 2: Traceability & Risk Assessment",
          "Theme 3: Purchasing Practices",
          "Theme 4: Recruitment",
          "Theme 5: Worker Voice",
          "Theme 6: Monitoring",
          "Theme 7: Remedy"
         ]
        },
        {
         "mode": "markers",
         "name": "North America",
         "type": "scatter",
         "x": [
          28.866258741538463,
          18.46153846153846,
          394331.1484615385,
          2017.923076923077,
          56.41025641038462,
          37.12606837538462,
          4.487179487307692,
          25.673076923076923,
          10.801282051153846,
          22.5,
          23.46153846153846,
          77.88461538461539,
          47.11538461538461,
          57.371794870384605,
          57.69230769230769,
          71.15384615384616,
          37.5,
          55.448717949230776,
          25,
          96.15384615384616,
          90.38461538461539,
          70.51282051384615,
          53.84615384615385,
          23.076923076923077,
          19.23076923076923,
          29.326923076923077,
          16.346153846153847,
          16.346153846153847,
          1.9230769230769231,
          11.538461538461538,
          0,
          5.769230769230769,
          7.6923076923076925,
          4.487179487307692,
          80.76923076923077,
          12.5,
          35.57692307692308,
          33.07692307692308,
          13.461538461538462,
          23.076923076923077,
          18.26923076923077,
          1.9230769230769231,
          0,
          5.769230769230769,
          2.5641025642307693,
          70.1923076923077,
          10.576923076923077,
          1.9230769230769231,
          19.03846153846154,
          45.19230769230769,
          33.65384615384615,
          0,
          22.5,
          15.384615384615385,
          33.65384615384615,
          23.46153846153846
         ],
         "y": [
          "Hewlett Packard Enterprise Co. (HPE)",
          "Intel Corp.",
          "Cisco Systems Inc.",
          "Apple Inc.",
          "HP Inc.",
          "Amazon.com Inc.",
          "Corning Inc.",
          "Western Digital Corp.",
          "Best Buy Co. Inc.",
          "Microsoft Corp.",
          "Advanced Micro Devices Inc",
          "Dell Technologies Inc.",
          "Walmart Inc.",
          "Lam Research Corp.",
          "Micron Technology Inc.",
          "Texas Instruments Inc.",
          "Qualcomm Inc.",
          "Skyworks Solutions Inc.",
          "NVIDIA Corp.",
          "Broadcom Inc.",
          "Microchip Technology Inc.",
          "Motorola Solutions Inc.",
          "Analog Devices Inc.",
          "Amphenol Corp.",
          "Applied Materials Inc.",
          "KLA Corp."
         ]
        },
        {
         "mode": "markers",
         "name": "Asia",
         "type": "scatter",
         "x": [
          9.643465908791667,
          42.916666666666664,
          86676.74541666666,
          2018.5833333333333,
          26.562499999125,
          10.619212962666667,
          1.0416666666666667,
          6.979166666666667,
          5.208333333333333,
          4.791666666666667,
          2.1875,
          64.58333333333333,
          9.375,
          27.777777777083333,
          26.041666666666668,
          39.583333333333336,
          10.416666666666666,
          25.347222222916667,
          4.166666666666667,
          45.833333333333336,
          29.166666666666668,
          26.38888888916667,
          14.583333333333334,
          2.0833333333333335,
          0,
          4.427083333333333,
          0,
          3.125,
          0,
          1.0416666666666667,
          0,
          3.125,
          0,
          1.0416666666666667,
          46.875,
          2.0833333333333335,
          8.333333333333334,
          12.916666666666666,
          0,
          2.0833333333333335,
          1.0416666666666667,
          0,
          0,
          0,
          0,
          35.416666666666664,
          6.25,
          2.0833333333333335,
          10.416666666666666,
          15.625,
          4.166666666666667,
          0,
          4.791666666666667,
          4.166666666666667,
          6.25,
          2.1875
         ],
         "y": [
          "Samsung Electronics Co. Ltd.",
          "Sony Corp.",
          "LG Electronics Inc.",
          "Tokyo Electron Ltd.",
          "Murata Manufacturing Co. Ltd.",
          "Canon Inc.",
          "Taiwan Semiconductor Manufacturing Co. Ltd.",
          "Hitachi Ltd.",
          "Renesas Electronics Corp.",
          "Nintendo Co. Ltd.",
          "SK Hynix Inc.",
          "Fujifilm Holdings Corp.",
          "Panasonic Corp.",
          "Keyence Corp.",
          "Hon Hai Precision Industry Co. Ltd. (Foxconn)",
          "ZTE Corp.",
          "Semiconductor Manufacturing International Corp",
          "Luxshare Precision Industry Co. Ltd.",
          "Xiaomi Corp.",
          "Kyocera Corp.",
          "Sunny Optical Technology (Group) Co., Ltd.",
          "BOE Technology Group Co. Ltd.",
          "Hangzhou Hikvision Digital Technology Co. Ltd.",
          "NAURA Technology Group Co., Ltd."
         ]
        },
        {
         "mode": "markers",
         "name": "Europe",
         "type": "scatter",
         "x": [
          22.307954545500003,
          26.1,
          67917.367,
          2018.8,
          55.833333333999995,
          23.124999999,
          0,
          16.25,
          6.25,
          18.5,
          23,
          77.5,
          45,
          55.83333333200001,
          57.5,
          90,
          20,
          55.833333333,
          10,
          75,
          65,
          50,
          32.5,
          25,
          5,
          19.375,
          0,
          0,
          0,
          0,
          0,
          0,
          0,
          0,
          62.5,
          5,
          25,
          22.5,
          10,
          10,
          10,
          0,
          0,
          0,
          0,
          62.5,
          0,
          0,
          12.5,
          32.5,
          30,
          0,
          18.5,
          15,
          25,
          23
         ],
         "y": [
          "Telefonaktiebolaget LM Ericsson (publ)",
          "NXP Semiconductors NV",
          "STMicroelectronics NV",
          "Seagate Technology PLC",
          "Logitech International S.A.",
          "Nokia Oyj",
          "TE Connectivity Ltd.",
          "Infineon Technologies AG",
          "Hexagon AB",
          "ASML Holding NV"
         ]
        }
       ],
       "layout": {
        "template": {
         "data": {
          "bar": [
           {
            "error_x": {
             "color": "#2a3f5f"
            },
            "error_y": {
             "color": "#2a3f5f"
            },
            "marker": {
             "line": {
              "color": "#E5ECF6",
              "width": 0.5
             },
             "pattern": {
              "fillmode": "overlay",
              "size": 10,
              "solidity": 0.2
             }
            },
            "type": "bar"
           }
          ],
          "barpolar": [
           {
            "marker": {
             "line": {
              "color": "#E5ECF6",
              "width": 0.5
             },
             "pattern": {
              "fillmode": "overlay",
              "size": 10,
              "solidity": 0.2
             }
            },
            "type": "barpolar"
           }
          ],
          "carpet": [
           {
            "aaxis": {
             "endlinecolor": "#2a3f5f",
             "gridcolor": "white",
             "linecolor": "white",
             "minorgridcolor": "white",
             "startlinecolor": "#2a3f5f"
            },
            "baxis": {
             "endlinecolor": "#2a3f5f",
             "gridcolor": "white",
             "linecolor": "white",
             "minorgridcolor": "white",
             "startlinecolor": "#2a3f5f"
            },
            "type": "carpet"
           }
          ],
          "choropleth": [
           {
            "colorbar": {
             "outlinewidth": 0,
             "ticks": ""
            },
            "type": "choropleth"
           }
          ],
          "contour": [
           {
            "colorbar": {
             "outlinewidth": 0,
             "ticks": ""
            },
            "colorscale": [
             [
              0,
              "#0d0887"
             ],
             [
              0.1111111111111111,
              "#46039f"
             ],
             [
              0.2222222222222222,
              "#7201a8"
             ],
             [
              0.3333333333333333,
              "#9c179e"
             ],
             [
              0.4444444444444444,
              "#bd3786"
             ],
             [
              0.5555555555555556,
              "#d8576b"
             ],
             [
              0.6666666666666666,
              "#ed7953"
             ],
             [
              0.7777777777777778,
              "#fb9f3a"
             ],
             [
              0.8888888888888888,
              "#fdca26"
             ],
             [
              1,
              "#f0f921"
             ]
            ],
            "type": "contour"
           }
          ],
          "contourcarpet": [
           {
            "colorbar": {
             "outlinewidth": 0,
             "ticks": ""
            },
            "type": "contourcarpet"
           }
          ],
          "heatmap": [
           {
            "colorbar": {
             "outlinewidth": 0,
             "ticks": ""
            },
            "colorscale": [
             [
              0,
              "#0d0887"
             ],
             [
              0.1111111111111111,
              "#46039f"
             ],
             [
              0.2222222222222222,
              "#7201a8"
             ],
             [
              0.3333333333333333,
              "#9c179e"
             ],
             [
              0.4444444444444444,
              "#bd3786"
             ],
             [
              0.5555555555555556,
              "#d8576b"
             ],
             [
              0.6666666666666666,
              "#ed7953"
             ],
             [
              0.7777777777777778,
              "#fb9f3a"
             ],
             [
              0.8888888888888888,
              "#fdca26"
             ],
             [
              1,
              "#f0f921"
             ]
            ],
            "type": "heatmap"
           }
          ],
          "heatmapgl": [
           {
            "colorbar": {
             "outlinewidth": 0,
             "ticks": ""
            },
            "colorscale": [
             [
              0,
              "#0d0887"
             ],
             [
              0.1111111111111111,
              "#46039f"
             ],
             [
              0.2222222222222222,
              "#7201a8"
             ],
             [
              0.3333333333333333,
              "#9c179e"
             ],
             [
              0.4444444444444444,
              "#bd3786"
             ],
             [
              0.5555555555555556,
              "#d8576b"
             ],
             [
              0.6666666666666666,
              "#ed7953"
             ],
             [
              0.7777777777777778,
              "#fb9f3a"
             ],
             [
              0.8888888888888888,
              "#fdca26"
             ],
             [
              1,
              "#f0f921"
             ]
            ],
            "type": "heatmapgl"
           }
          ],
          "histogram": [
           {
            "marker": {
             "pattern": {
              "fillmode": "overlay",
              "size": 10,
              "solidity": 0.2
             }
            },
            "type": "histogram"
           }
          ],
          "histogram2d": [
           {
            "colorbar": {
             "outlinewidth": 0,
             "ticks": ""
            },
            "colorscale": [
             [
              0,
              "#0d0887"
             ],
             [
              0.1111111111111111,
              "#46039f"
             ],
             [
              0.2222222222222222,
              "#7201a8"
             ],
             [
              0.3333333333333333,
              "#9c179e"
             ],
             [
              0.4444444444444444,
              "#bd3786"
             ],
             [
              0.5555555555555556,
              "#d8576b"
             ],
             [
              0.6666666666666666,
              "#ed7953"
             ],
             [
              0.7777777777777778,
              "#fb9f3a"
             ],
             [
              0.8888888888888888,
              "#fdca26"
             ],
             [
              1,
              "#f0f921"
             ]
            ],
            "type": "histogram2d"
           }
          ],
          "histogram2dcontour": [
           {
            "colorbar": {
             "outlinewidth": 0,
             "ticks": ""
            },
            "colorscale": [
             [
              0,
              "#0d0887"
             ],
             [
              0.1111111111111111,
              "#46039f"
             ],
             [
              0.2222222222222222,
              "#7201a8"
             ],
             [
              0.3333333333333333,
              "#9c179e"
             ],
             [
              0.4444444444444444,
              "#bd3786"
             ],
             [
              0.5555555555555556,
              "#d8576b"
             ],
             [
              0.6666666666666666,
              "#ed7953"
             ],
             [
              0.7777777777777778,
              "#fb9f3a"
             ],
             [
              0.8888888888888888,
              "#fdca26"
             ],
             [
              1,
              "#f0f921"
             ]
            ],
            "type": "histogram2dcontour"
           }
          ],
          "mesh3d": [
           {
            "colorbar": {
             "outlinewidth": 0,
             "ticks": ""
            },
            "type": "mesh3d"
           }
          ],
          "parcoords": [
           {
            "line": {
             "colorbar": {
              "outlinewidth": 0,
              "ticks": ""
             }
            },
            "type": "parcoords"
           }
          ],
          "pie": [
           {
            "automargin": true,
            "type": "pie"
           }
          ],
          "scatter": [
           {
            "fillpattern": {
             "fillmode": "overlay",
             "size": 10,
             "solidity": 0.2
            },
            "type": "scatter"
           }
          ],
          "scatter3d": [
           {
            "line": {
             "colorbar": {
              "outlinewidth": 0,
              "ticks": ""
             }
            },
            "marker": {
             "colorbar": {
              "outlinewidth": 0,
              "ticks": ""
             }
            },
            "type": "scatter3d"
           }
          ],
          "scattercarpet": [
           {
            "marker": {
             "colorbar": {
              "outlinewidth": 0,
              "ticks": ""
             }
            },
            "type": "scattercarpet"
           }
          ],
          "scattergeo": [
           {
            "marker": {
             "colorbar": {
              "outlinewidth": 0,
              "ticks": ""
             }
            },
            "type": "scattergeo"
           }
          ],
          "scattergl": [
           {
            "marker": {
             "colorbar": {
              "outlinewidth": 0,
              "ticks": ""
             }
            },
            "type": "scattergl"
           }
          ],
          "scattermapbox": [
           {
            "marker": {
             "colorbar": {
              "outlinewidth": 0,
              "ticks": ""
             }
            },
            "type": "scattermapbox"
           }
          ],
          "scatterpolar": [
           {
            "marker": {
             "colorbar": {
              "outlinewidth": 0,
              "ticks": ""
             }
            },
            "type": "scatterpolar"
           }
          ],
          "scatterpolargl": [
           {
            "marker": {
             "colorbar": {
              "outlinewidth": 0,
              "ticks": ""
             }
            },
            "type": "scatterpolargl"
           }
          ],
          "scatterternary": [
           {
            "marker": {
             "colorbar": {
              "outlinewidth": 0,
              "ticks": ""
             }
            },
            "type": "scatterternary"
           }
          ],
          "surface": [
           {
            "colorbar": {
             "outlinewidth": 0,
             "ticks": ""
            },
            "colorscale": [
             [
              0,
              "#0d0887"
             ],
             [
              0.1111111111111111,
              "#46039f"
             ],
             [
              0.2222222222222222,
              "#7201a8"
             ],
             [
              0.3333333333333333,
              "#9c179e"
             ],
             [
              0.4444444444444444,
              "#bd3786"
             ],
             [
              0.5555555555555556,
              "#d8576b"
             ],
             [
              0.6666666666666666,
              "#ed7953"
             ],
             [
              0.7777777777777778,
              "#fb9f3a"
             ],
             [
              0.8888888888888888,
              "#fdca26"
             ],
             [
              1,
              "#f0f921"
             ]
            ],
            "type": "surface"
           }
          ],
          "table": [
           {
            "cells": {
             "fill": {
              "color": "#EBF0F8"
             },
             "line": {
              "color": "white"
             }
            },
            "header": {
             "fill": {
              "color": "#C8D4E3"
             },
             "line": {
              "color": "white"
             }
            },
            "type": "table"
           }
          ]
         },
         "layout": {
          "annotationdefaults": {
           "arrowcolor": "#2a3f5f",
           "arrowhead": 0,
           "arrowwidth": 1
          },
          "autotypenumbers": "strict",
          "coloraxis": {
           "colorbar": {
            "outlinewidth": 0,
            "ticks": ""
           }
          },
          "colorscale": {
           "diverging": [
            [
             0,
             "#8e0152"
            ],
            [
             0.1,
             "#c51b7d"
            ],
            [
             0.2,
             "#de77ae"
            ],
            [
             0.3,
             "#f1b6da"
            ],
            [
             0.4,
             "#fde0ef"
            ],
            [
             0.5,
             "#f7f7f7"
            ],
            [
             0.6,
             "#e6f5d0"
            ],
            [
             0.7,
             "#b8e186"
            ],
            [
             0.8,
             "#7fbc41"
            ],
            [
             0.9,
             "#4d9221"
            ],
            [
             1,
             "#276419"
            ]
           ],
           "sequential": [
            [
             0,
             "#0d0887"
            ],
            [
             0.1111111111111111,
             "#46039f"
            ],
            [
             0.2222222222222222,
             "#7201a8"
            ],
            [
             0.3333333333333333,
             "#9c179e"
            ],
            [
             0.4444444444444444,
             "#bd3786"
            ],
            [
             0.5555555555555556,
             "#d8576b"
            ],
            [
             0.6666666666666666,
             "#ed7953"
            ],
            [
             0.7777777777777778,
             "#fb9f3a"
            ],
            [
             0.8888888888888888,
             "#fdca26"
            ],
            [
             1,
             "#f0f921"
            ]
           ],
           "sequentialminus": [
            [
             0,
             "#0d0887"
            ],
            [
             0.1111111111111111,
             "#46039f"
            ],
            [
             0.2222222222222222,
             "#7201a8"
            ],
            [
             0.3333333333333333,
             "#9c179e"
            ],
            [
             0.4444444444444444,
             "#bd3786"
            ],
            [
             0.5555555555555556,
             "#d8576b"
            ],
            [
             0.6666666666666666,
             "#ed7953"
            ],
            [
             0.7777777777777778,
             "#fb9f3a"
            ],
            [
             0.8888888888888888,
             "#fdca26"
            ],
            [
             1,
             "#f0f921"
            ]
           ]
          },
          "colorway": [
           "#636efa",
           "#EF553B",
           "#00cc96",
           "#ab63fa",
           "#FFA15A",
           "#19d3f3",
           "#FF6692",
           "#B6E880",
           "#FF97FF",
           "#FECB52"
          ],
          "font": {
           "color": "#2a3f5f"
          },
          "geo": {
           "bgcolor": "white",
           "lakecolor": "white",
           "landcolor": "#E5ECF6",
           "showlakes": true,
           "showland": true,
           "subunitcolor": "white"
          },
          "hoverlabel": {
           "align": "left"
          },
          "hovermode": "closest",
          "mapbox": {
           "style": "light"
          },
          "paper_bgcolor": "white",
          "plot_bgcolor": "#E5ECF6",
          "polar": {
           "angularaxis": {
            "gridcolor": "white",
            "linecolor": "white",
            "ticks": ""
           },
           "bgcolor": "#E5ECF6",
           "radialaxis": {
            "gridcolor": "white",
            "linecolor": "white",
            "ticks": ""
           }
          },
          "scene": {
           "xaxis": {
            "backgroundcolor": "#E5ECF6",
            "gridcolor": "white",
            "gridwidth": 2,
            "linecolor": "white",
            "showbackground": true,
            "ticks": "",
            "zerolinecolor": "white"
           },
           "yaxis": {
            "backgroundcolor": "#E5ECF6",
            "gridcolor": "white",
            "gridwidth": 2,
            "linecolor": "white",
            "showbackground": true,
            "ticks": "",
            "zerolinecolor": "white"
           },
           "zaxis": {
            "backgroundcolor": "#E5ECF6",
            "gridcolor": "white",
            "gridwidth": 2,
            "linecolor": "white",
            "showbackground": true,
            "ticks": "",
            "zerolinecolor": "white"
           }
          },
          "shapedefaults": {
           "line": {
            "color": "#2a3f5f"
           }
          },
          "ternary": {
           "aaxis": {
            "gridcolor": "white",
            "linecolor": "white",
            "ticks": ""
           },
           "baxis": {
            "gridcolor": "white",
            "linecolor": "white",
            "ticks": ""
           },
           "bgcolor": "#E5ECF6",
           "caxis": {
            "gridcolor": "white",
            "linecolor": "white",
            "ticks": ""
           }
          },
          "title": {
           "x": 0.05
          },
          "xaxis": {
           "automargin": true,
           "gridcolor": "white",
           "linecolor": "white",
           "ticks": "",
           "title": {
            "standoff": 15
           },
           "zerolinecolor": "white",
           "zerolinewidth": 2
          },
          "yaxis": {
           "automargin": true,
           "gridcolor": "white",
           "linecolor": "white",
           "ticks": "",
           "title": {
            "standoff": 15
           },
           "zerolinecolor": "white",
           "zerolinewidth": 2
          }
         }
        },
        "xaxis": {
         "title": {
          "text": "Mean Score"
         }
        },
        "yaxis": {
         "title": {
          "text": "Theme"
         }
        }
       }
      }
     },
     "metadata": {},
     "output_type": "display_data"
    }
   ],
   "source": [
    "import pandas as pd\n",
    "import plotly.graph_objects as go\n",
    "\n",
    "# Load the data frame\n",
    "ktc_ict_2022 = pd.read_csv(\"C:/Users/kokuo/OneDrive/Study Files/Python/Visualisation Experiments/Know the Chain/KTC ICT Benchmark CSV Data/2022 KCT ICT.csv\")\n",
    "\n",
    "# Calculate the mean scores\n",
    "mean_scores = ktc_ict_2022.loc[:, 'Theme 1: Commitment & Governance':'Theme 7: Remedy'].mean()\n",
    "\n",
    "# Create the bar chart\n",
    "fig = go.Figure()\n",
    "fig.add_trace(go.Bar(x=mean_scores, y=mean_scores.index, orientation='h'))\n",
    "\n",
    "# Add scatter plot for individual data points\n",
    "for region in ktc_ict_2022['Region'].unique():\n",
    "    region_data = ktc_ict_2022.loc[ktc_ict_2022['Region'] == region, :]\n",
    "    fig.add_trace(go.Scatter(x=region_data.mean(), y=region_data['Company Name'], mode='markers', name=region))\n",
    "\n",
    "# Update the layout\n",
    "fig.update_layout(xaxis_title='Mean Score', yaxis_title='Theme')\n",
    "\n",
    "# Show the graph\n",
    "fig.show()\n"
   ]
  },
  {
   "attachments": {},
   "cell_type": "markdown",
   "metadata": {},
   "source": [
    "# **Annex: Data Sorting & Exploration** #"
   ]
  },
  {
   "attachments": {},
   "cell_type": "markdown",
   "metadata": {},
   "source": [
    "## Basic Data Sorting ##"
   ]
  },
  {
   "attachments": {},
   "cell_type": "markdown",
   "metadata": {},
   "source": [
    "## Deep Dive Sorting & Exploration ##"
   ]
  },
  {
   "attachments": {},
   "cell_type": "markdown",
   "metadata": {},
   "source": [
    "# ***Notes*** # "
   ]
  },
  {
   "attachments": {},
   "cell_type": "markdown",
   "metadata": {},
   "source": [
    "I have three dataframes in the format below, and i want to present the data on a multiple bar graph, with data from column 'year of inclusion' along the x axis, and 'total benchmark score' along the y axis:\n",
    "\n",
    "Company Name\tTotal benchmark score\t2022 Rank\tCountry\tRegion\tMarket cap (US$bn)\tYear of inclusion\n",
    "Hewlett Packard Enterprise Co. (HPE)\t63.42045455\t1\tUnited States\tNorth America\t18770.52\t2018\n",
    "Intel Corp.\t60.23863636\t2\tUnited States\tNorth America\t200096.4\t2016\n",
    "\n",
    "I want to use Pandas and plotly to do so"
   ]
  }
 ],
 "metadata": {
  "kernelspec": {
   "display_name": "Python 3",
   "language": "python",
   "name": "python3"
  },
  "language_info": {
   "name": "python",
   "version": "3.11.2"
  },
  "orig_nbformat": 4
 },
 "nbformat": 4,
 "nbformat_minor": 2
}
